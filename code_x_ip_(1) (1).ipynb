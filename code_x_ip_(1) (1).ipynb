{
  "cells": [
    {
      "cell_type": "code",
      "execution_count": 1,
      "metadata": {
        "colab": {
          "base_uri": "https://localhost:8080/"
        },
        "id": "0nTxOTtJ5kXs",
        "outputId": "85774cc4-3bf5-43b9-823a-74021839070a"
      },
      "outputs": [
        {
          "output_type": "stream",
          "name": "stdout",
          "text": [
            "Data source import complete.\n"
          ]
        }
      ],
      "source": [
        "import kagglehub\n",
        "sciencelabwork_hyperspectral_image_sensing_dataset_ground_truth_path = kagglehub.dataset_download('sciencelabwork/hyperspectral-image-sensing-dataset-ground-truth')\n",
        "print('Data source import complete.')"
      ]
    },
    {
      "cell_type": "code",
      "execution_count": 2,
      "metadata": {
        "colab": {
          "base_uri": "https://localhost:8080/"
        },
        "id": "KCpK46icK1OG",
        "outputId": "13399f41-804b-4a0a-c0a5-8eedc002609d"
      },
      "outputs": [
        {
          "output_type": "stream",
          "name": "stdout",
          "text": [
            "/kaggle/input/hyperspectral-image-sensing-dataset-ground-truth/Indian_pines_corrected.mat\n",
            "/kaggle/input/hyperspectral-image-sensing-dataset-ground-truth/Salinas_gt.mat\n",
            "/kaggle/input/hyperspectral-image-sensing-dataset-ground-truth/PaviaU_gt.mat\n",
            "/kaggle/input/hyperspectral-image-sensing-dataset-ground-truth/KSC.mat\n",
            "/kaggle/input/hyperspectral-image-sensing-dataset-ground-truth/Salinas_corrected.mat\n",
            "/kaggle/input/hyperspectral-image-sensing-dataset-ground-truth/Indian_pines_gt.mat\n",
            "/kaggle/input/hyperspectral-image-sensing-dataset-ground-truth/PaviaU.mat\n",
            "/kaggle/input/hyperspectral-image-sensing-dataset-ground-truth/KSC_gt.mat\n"
          ]
        }
      ],
      "source": [
        "# This Python 3 environment comes with many helpful analytics libraries installed\n",
        "# It is defined by the kaggle/python Docker image: https://github.com/kaggle/docker-python\n",
        "# For example, here's several helpful packages to load\n",
        "\n",
        "import numpy as np # linear algebra\n",
        "import pandas as pd # data processing, CSV file I/O (e.g. pd.read_csv)\n",
        "\n",
        "# Input data files are available in the read-only \"../input/\" directory\n",
        "# For example, running this (by clicking run or pressing Shift+Enter) will list all files under the input directory\n",
        "\n",
        "import os\n",
        "for dirname, _, filenames in os.walk('/kaggle/input'):\n",
        "    for filename in filenames:\n",
        "        print(os.path.join(dirname, filename))\n",
        "\n",
        "# You can write up to 20GB to the current directory (/kaggle/working/) that gets preserved as output when you create a version using \"Save & Run All\"\n",
        "# You can also write temporary files to /kaggle/temp/, but they won't be saved outside of the current session"
      ]
    },
    {
      "cell_type": "code",
      "execution_count": 3,
      "metadata": {
        "id": "IbEyPyMJK1OJ"
      },
      "outputs": [],
      "source": [
        "import os\n",
        "import warnings\n",
        "os.environ['TF_CPP_MIN_LOG_LEVEL'] = '3'\n",
        "warnings.filterwarnings('ignore')"
      ]
    },
    {
      "cell_type": "code",
      "execution_count": 4,
      "metadata": {
        "colab": {
          "base_uri": "https://localhost:8080/"
        },
        "collapsed": true,
        "id": "un0OXTOBK1OJ",
        "outputId": "6e04ccf3-8695-495c-f42f-440bfe37d28c"
      },
      "outputs": [
        {
          "output_type": "stream",
          "name": "stdout",
          "text": [
            "Requirement already satisfied: ripser in /usr/local/lib/python3.11/dist-packages (0.6.12)\n",
            "Requirement already satisfied: persim in /usr/local/lib/python3.11/dist-packages (0.3.8)\n",
            "Requirement already satisfied: Cython in /usr/local/lib/python3.11/dist-packages (from ripser) (3.0.12)\n",
            "Requirement already satisfied: numpy in /usr/local/lib/python3.11/dist-packages (from ripser) (2.0.2)\n",
            "Requirement already satisfied: scipy in /usr/local/lib/python3.11/dist-packages (from ripser) (1.16.0)\n",
            "Requirement already satisfied: scikit-learn in /usr/local/lib/python3.11/dist-packages (from ripser) (1.6.1)\n",
            "Requirement already satisfied: deprecated in /usr/local/lib/python3.11/dist-packages (from persim) (1.2.18)\n",
            "Requirement already satisfied: hopcroftkarp in /usr/local/lib/python3.11/dist-packages (from persim) (1.2.5)\n",
            "Requirement already satisfied: joblib in /usr/local/lib/python3.11/dist-packages (from persim) (1.5.1)\n",
            "Requirement already satisfied: matplotlib in /usr/local/lib/python3.11/dist-packages (from persim) (3.10.0)\n",
            "Requirement already satisfied: wrapt<2,>=1.10 in /usr/local/lib/python3.11/dist-packages (from deprecated->persim) (1.17.2)\n",
            "Requirement already satisfied: contourpy>=1.0.1 in /usr/local/lib/python3.11/dist-packages (from matplotlib->persim) (1.3.2)\n",
            "Requirement already satisfied: cycler>=0.10 in /usr/local/lib/python3.11/dist-packages (from matplotlib->persim) (0.12.1)\n",
            "Requirement already satisfied: fonttools>=4.22.0 in /usr/local/lib/python3.11/dist-packages (from matplotlib->persim) (4.59.0)\n",
            "Requirement already satisfied: kiwisolver>=1.3.1 in /usr/local/lib/python3.11/dist-packages (from matplotlib->persim) (1.4.8)\n",
            "Requirement already satisfied: packaging>=20.0 in /usr/local/lib/python3.11/dist-packages (from matplotlib->persim) (25.0)\n",
            "Requirement already satisfied: pillow>=8 in /usr/local/lib/python3.11/dist-packages (from matplotlib->persim) (11.3.0)\n",
            "Requirement already satisfied: pyparsing>=2.3.1 in /usr/local/lib/python3.11/dist-packages (from matplotlib->persim) (3.2.3)\n",
            "Requirement already satisfied: python-dateutil>=2.7 in /usr/local/lib/python3.11/dist-packages (from matplotlib->persim) (2.9.0.post0)\n",
            "Requirement already satisfied: threadpoolctl>=3.1.0 in /usr/local/lib/python3.11/dist-packages (from scikit-learn->ripser) (3.6.0)\n",
            "Requirement already satisfied: six>=1.5 in /usr/local/lib/python3.11/dist-packages (from python-dateutil>=2.7->matplotlib->persim) (1.17.0)\n"
          ]
        }
      ],
      "source": [
        "!pip install ripser persim"
      ]
    },
    {
      "cell_type": "code",
      "execution_count": 5,
      "metadata": {
        "id": "xautd41vK1OK"
      },
      "outputs": [],
      "source": [
        "import scipy.io as sio\n",
        "from sklearn.preprocessing import StandardScaler\n",
        "import tensorflow as tf\n",
        "from sklearn.model_selection import train_test_split\n",
        "from tensorflow.keras.utils import to_categorical\n",
        "import scipy.ndimage as nd\n",
        "import numpy as np\n",
        "from ripser import ripser\n",
        "from scipy.stats import entropy\n",
        "from tensorflow.keras import layers\n"
      ]
    },
    {
      "cell_type": "code",
      "execution_count": 6,
      "metadata": {
        "colab": {
          "base_uri": "https://localhost:8080/"
        },
        "id": "rjRQXePOK1OK",
        "outputId": "8ce67cf3-8eaf-459d-9611-4f524f190a42"
      },
      "outputs": [
        {
          "output_type": "stream",
          "name": "stdout",
          "text": [
            "Normalized cube shape: (145, 145, 200)\n",
            "Label shape: (145, 145)\n"
          ]
        }
      ],
      "source": [
        "# Load Indian Pines HSI cube and labels\n",
        "data = sio.loadmat(\"/kaggle/input/hyperspectral-image-sensing-dataset-ground-truth/Indian_pines_corrected.mat\")\n",
        "cube = data['indian_pines_corrected']  # Shape: (145, 145, 200)\n",
        "\n",
        "gt_data = sio.loadmat(\"/kaggle/input/hyperspectral-image-sensing-dataset-ground-truth/Indian_pines_gt.mat\")\n",
        "gt = gt_data['indian_pines_gt']        # Shape: (145, 145)\n",
        "\n",
        "# Normalize spectral bands per-pixel\n",
        "H, W, B = cube.shape\n",
        "cube_2d = cube.reshape(-1, B)\n",
        "scaler = StandardScaler()\n",
        "cube_norm = scaler.fit_transform(cube_2d)\n",
        "cube_norm = cube_norm.reshape(H, W, B)\n",
        "\n",
        "print(\"Normalized cube shape:\", cube_norm.shape) #Normalized cube shape: (145, 145, 200)\n",
        "print(\"Label shape:\", gt.shape) #Label shape: (145, 145)"
      ]
    },
    {
      "cell_type": "code",
      "execution_count": 7,
      "metadata": {
        "colab": {
          "base_uri": "https://localhost:8080/"
        },
        "id": "oXgtZOvdK1OK",
        "outputId": "c5c43ec4-409e-4ad7-a1df-8071cbed4d8a"
      },
      "outputs": [
        {
          "output_type": "stream",
          "name": "stdout",
          "text": [
            "X shape: (10249, 13, 13, 200)\n",
            "y shape: (10249,)\n",
            "Num classes: 16\n"
          ]
        }
      ],
      "source": [
        "#Patch Extraction for Training\n",
        "def extract_patches_tf(cube, labels, patch_size=13):\n",
        "    pad = patch_size // 2\n",
        "    H, W, B = cube.shape\n",
        "\n",
        "    padded_cube = np.pad(cube, ((pad, pad), (pad, pad), (0, 0)), mode='reflect')\n",
        "\n",
        "    X_patches = []\n",
        "    y_labels = []\n",
        "\n",
        "    for i in range(H):\n",
        "        for j in range(W):\n",
        "            if labels[i, j] == 0:\n",
        "                continue\n",
        "            patch = padded_cube[i:i+patch_size, j:j+patch_size, :]\n",
        "            X_patches.append(patch)\n",
        "            y_labels.append(labels[i, j] - 1)  # classes from 0\n",
        "\n",
        "    return np.array(X_patches), np.array(y_labels)\n",
        "\n",
        "# Extract labeled patches\n",
        "X, y = extract_patches_tf(cube_norm, gt, patch_size=13)\n",
        "num_classes = np.max(y) + 1\n",
        "print(\"X shape:\", X.shape)  # (N, 13, 13, B) X shape: (10249, 13, 13, 200)\n",
        "print(\"y shape:\", y.shape)  # (N,) y shape: (10249,)\n",
        "print(\"Num classes:\", num_classes) #Num classes: 16"
      ]
    },
    {
      "cell_type": "code",
      "execution_count": 8,
      "metadata": {
        "colab": {
          "base_uri": "https://localhost:8080/"
        },
        "id": "D_WZikp3K1OL",
        "outputId": "a59b1a03-42f2-456a-a124-397f16f0fbcb"
      },
      "outputs": [
        {
          "output_type": "stream",
          "name": "stdout",
          "text": [
            "Train: (6149, 13, 13, 200)\n",
            "Val: (2050, 13, 13, 200)\n",
            "Test: (2050, 13, 13, 200)\n"
          ]
        }
      ],
      "source": [
        "X_train, X_temp, y_train, y_temp = train_test_split(X, y, test_size=0.4, stratify=y, random_state=42)\n",
        "X_val, X_test, y_val, y_test = train_test_split(X_temp, y_temp, test_size=0.5, stratify=y_temp, random_state=42)\n",
        "\n",
        "# Convert labels to one-hot\n",
        "y_train_cat = to_categorical(y_train, num_classes)\n",
        "y_val_cat = to_categorical(y_val, num_classes)\n",
        "y_test_cat = to_categorical(y_test, num_classes)\n",
        "\n",
        "print(\"Train:\", X_train.shape) #Train: (6149, 13, 13, 200)\n",
        "print(\"Val:\", X_val.shape) #Val: (2050, 13, 13, 200)\n",
        "print(\"Test:\", X_test.shape) #Test: (2050, 13, 13, 200)"
      ]
    },
    {
      "cell_type": "markdown",
      "metadata": {
        "id": "O2WzIDlvK1OL"
      },
      "source": [
        "# Morphological Band Saliency Attention"
      ]
    },
    {
      "cell_type": "code",
      "execution_count": 9,
      "metadata": {
        "id": "w-GyC3GDK1OM"
      },
      "outputs": [],
      "source": [
        "# Morphological operation: returns 4-band saliency scores\n",
        "def morph_saliency_ops(patch):\n",
        "    # patch: shape (13, 13, 200) — numpy array\n",
        "    saliency = []\n",
        "    for i in range(patch.shape[-1]):\n",
        "        band = patch[:, :, i]\n",
        "        d = nd.grey_dilation(band, size=(3, 3))\n",
        "        e = nd.grey_erosion(band, size=(3, 3))\n",
        "        o = nd.grey_opening(band, size=(3, 3))\n",
        "        c = nd.grey_closing(band, size=(3, 3))\n",
        "\n",
        "        score = (\n",
        "            np.mean((d - band) ** 2) +\n",
        "            np.mean((e - band) ** 2) +\n",
        "            np.mean((o - band) ** 2) +\n",
        "            np.mean((c - band) ** 2)\n",
        "        )\n",
        "        saliency.append(score)\n",
        "    return np.array(saliency, dtype=np.float32)  # shape: (200,)"
      ]
    },
    {
      "cell_type": "markdown",
      "metadata": {
        "id": "GZ5pvdXbK1OM"
      },
      "source": [
        "## Vectorize Band Ranking + Select Top-K Bands"
      ]
    },
    {
      "cell_type": "code",
      "execution_count": 10,
      "metadata": {
        "id": "cXFjom5PK1ON"
      },
      "outputs": [],
      "source": [
        "def select_topk_bands(X_full, k=30, sample_size=1000):\n",
        "    print(\"Sampling for MBSA...\")\n",
        "    if X_full.shape[0] > sample_size:\n",
        "        idx = np.random.choice(X_full.shape[0], sample_size, replace=False)\n",
        "        X_sample = X_full[idx]\n",
        "    else:\n",
        "        X_sample = X_full\n",
        "\n",
        "    band_saliency = np.zeros(X_sample.shape[-1])\n",
        "    for i in range(X_sample.shape[0]):\n",
        "        s = morph_saliency_ops(X_sample[i])\n",
        "        band_saliency += s\n",
        "    band_saliency /= X_sample.shape[0]\n",
        "\n",
        "    topk_indices = np.argsort(band_saliency)[-k:]\n",
        "    print(\"Top-k bands:\", topk_indices)\n",
        "    return topk_indices"
      ]
    },
    {
      "cell_type": "code",
      "execution_count": 11,
      "metadata": {
        "colab": {
          "base_uri": "https://localhost:8080/"
        },
        "id": "3mejD1ICK1ON",
        "outputId": "4d8e8ede-0972-4525-8995-a0e8abe0d427"
      },
      "outputs": [
        {
          "output_type": "stream",
          "name": "stdout",
          "text": [
            "Sampling for MBSA...\n",
            "Top-k bands: [ 91  35  81  94  79  74   2  92  60 198  75  83 143 144  96  82  95   1\n",
            "  85  84  93 102  86  88  89  90 103  87 199   0]\n"
          ]
        }
      ],
      "source": [
        "top_k = 30\n",
        "topk_indices = select_topk_bands(X_train, k=top_k, sample_size=1000)"
      ]
    },
    {
      "cell_type": "code",
      "execution_count": 12,
      "metadata": {
        "id": "LwcCxsQtK1ON"
      },
      "outputs": [],
      "source": [
        "X_train_sel = X_train[..., topk_indices]\n",
        "X_val_sel   = X_val[..., topk_indices]\n",
        "X_test_sel  = X_test[..., topk_indices]"
      ]
    },
    {
      "cell_type": "markdown",
      "metadata": {
        "id": "Aafo1x0xK1ON"
      },
      "source": [
        "# Topological Feature Extraction (with ripser)"
      ]
    },
    {
      "cell_type": "code",
      "execution_count": 13,
      "metadata": {
        "id": "NzygmKsKK1ON"
      },
      "outputs": [],
      "source": [
        "def compute_persistence_entropy(diagram, epsilon=1e-8):\n",
        "    lifetimes = diagram[:, 1] - diagram[:, 0]\n",
        "    lifetimes = lifetimes[lifetimes > 0]\n",
        "\n",
        "    if len(lifetimes) == 0 or np.sum(lifetimes) < epsilon:\n",
        "        return 0.0\n",
        "\n",
        "    probs = lifetimes / (np.sum(lifetimes) + epsilon)\n",
        "    return entropy(probs)"
      ]
    },
    {
      "cell_type": "markdown",
      "metadata": {
        "id": "9UsdAIMfK1ON"
      },
      "source": [
        "# Extract Topological Feature from One Spectrum"
      ]
    },
    {
      "cell_type": "code",
      "execution_count": 14,
      "metadata": {
        "id": "7EjwQEc-K1OO"
      },
      "outputs": [],
      "source": [
        "def extract_topo_feature(spectrum_1d):\n",
        "    \"\"\"\n",
        "    spectrum_1d: (30,) vector → reshaped to (30, 1)\n",
        "    Returns: scalar entropy value\n",
        "    \"\"\"\n",
        "    point_cloud = spectrum_1d.reshape(-1, 1)\n",
        "    dgms = ripser(point_cloud, maxdim=0)['dgms'][0]  # 0D homology\n",
        "    pe = compute_persistence_entropy(dgms)\n",
        "    return pe"
      ]
    },
    {
      "cell_type": "code",
      "execution_count": 15,
      "metadata": {
        "colab": {
          "base_uri": "https://localhost:8080/"
        },
        "id": "DVUCTt0oK1OO",
        "outputId": "e2982bc2-7b1f-4d56-d0a4-12f8c59100c8"
      },
      "outputs": [
        {
          "output_type": "stream",
          "name": "stdout",
          "text": [
            "Topological feature shapes: (6149, 1) (2050, 1) (2050, 1)\n"
          ]
        }
      ],
      "source": [
        "def generate_topo_features(X_patches):\n",
        "    topo = []\n",
        "    for i in range(len(X_patches)):\n",
        "        spectrum = np.mean(X_patches[i], axis=(0, 1))  # (30,)\n",
        "        topo_feat = extract_topo_feature(spectrum)\n",
        "        topo.append(topo_feat)\n",
        "    return np.array(topo).reshape(-1, 1)\n",
        "\n",
        "topo_train = generate_topo_features(X_train_sel)\n",
        "topo_val   = generate_topo_features(X_val_sel)\n",
        "topo_test  = generate_topo_features(X_test_sel)\n",
        "\n",
        "print(\"Topological feature shapes:\", topo_train.shape, topo_val.shape, topo_test.shape)"
      ]
    },
    {
      "cell_type": "markdown",
      "metadata": {
        "id": "kpqeVYkbK1OO"
      },
      "source": [
        "X_train_sel: (6149, 13, 13, 30) → input to CNN\n",
        "\n",
        "topo_train: (6149, 1) → topological entropy vector\n",
        "\n",
        "y_train_cat: (6149, 16) → one-hot labels"
      ]
    },
    {
      "cell_type": "markdown",
      "metadata": {
        "id": "AZCFi6rgK1OO"
      },
      "source": [
        "#  RGConv Block (Spatial Extractor)"
      ]
    },
    {
      "cell_type": "code",
      "execution_count": 16,
      "metadata": {
        "id": "_flyTzGoK1OO"
      },
      "outputs": [],
      "source": [
        "from tensorflow.keras import layers, models\n",
        "def RGConvBlock(input_tensor, filters):\n",
        "    x1 = layers.Conv2D(filters, 3, padding='same', activation='relu')(input_tensor)\n",
        "    x2 = layers.Conv2D(filters, 3, padding='same', activation='relu')(input_tensor)\n",
        "    gated = layers.Multiply()([x1, x2])\n",
        "\n",
        "    # Enhanced feature propagation\n",
        "    x3 = layers.Conv2D(filters, 3, padding='same', activation='relu')(gated)\n",
        "    x4 = layers.Conv2D(filters, 3, padding='same', activation='relu')(gated)\n",
        "    output = layers.Multiply()([x3, x4])\n",
        "    return output"
      ]
    },
    {
      "cell_type": "markdown",
      "metadata": {
        "id": "72zR67wjK1OO"
      },
      "source": [
        "# UNet++ Decoder Block (Spectral Decoder)"
      ]
    },
    {
      "cell_type": "code",
      "execution_count": 17,
      "metadata": {
        "id": "JL67nmLzK1OP"
      },
      "outputs": [],
      "source": [
        "from tensorflow.keras import layers\n",
        "\n",
        "def UNetPlusPlusDecoder(input_tensor, filters=64):\n",
        "    # Initial Conv block\n",
        "    conv1 = layers.Conv2D(filters, 3, padding='same', activation='relu')(input_tensor)\n",
        "    conv1 = layers.Conv2D(filters, 3, padding='same', activation='relu')(conv1)\n",
        "\n",
        "    # Downsample\n",
        "    pool1 = layers.MaxPooling2D(pool_size=(2, 2))(conv1)\n",
        "\n",
        "    # Bottleneck\n",
        "    conv2 = layers.Conv2D(filters * 2, 3, padding='same', activation='relu')(pool1)\n",
        "    conv2 = layers.Conv2D(filters * 2, 3, padding='same', activation='relu')(conv2)\n",
        "\n",
        "    # Up + concat + conv\n",
        "    up1 = layers.UpSampling2D(size=(2, 2), interpolation='bilinear')(conv2)\n",
        "    up1 = layers.Resizing(conv1.shape[1], conv1.shape[2])(up1)  # Ensure exact size match\n",
        "    merge = layers.Concatenate()([up1, conv1])\n",
        "\n",
        "    conv3 = layers.Conv2D(filters, 3, padding='same', activation='relu')(merge)\n",
        "    conv3 = layers.Conv2D(filters, 3, padding='same', activation='relu')(conv3)\n",
        "\n",
        "    # Gated refinement\n",
        "    gate_1 = layers.Conv2D(filters, 3, padding='same', activation='relu')(input_tensor)\n",
        "    gate_2 = layers.Conv2D(filters, 3, padding='same', activation='sigmoid')(input_tensor)\n",
        "    gated = layers.Multiply()([gate_1, gate_2])  # Feature-wise attention\n",
        "    # Add spectral residual\n",
        "    output = layers.Add()([conv3, gated])\n",
        "    return output"
      ]
    },
    {
      "cell_type": "code",
      "execution_count": 18,
      "metadata": {
        "id": "rIe7VrDXK1OP"
      },
      "outputs": [],
      "source": [
        "def TopoAttentionFusion(spectral_feat, topo_feat, filters=64):\n",
        "    \"\"\"\n",
        "    Fuse spectral feature maps with topological descriptors using learned attention.\n",
        "    Args:\n",
        "        spectral_feat: [B, H, W, C]\n",
        "        topo_feat:     [B, 1] or [B, D]\n",
        "        filters:       int, number of output filters (must match spectral_feat channels)\n",
        "    Returns:\n",
        "        Fused feature map: [B, H, W, C]\n",
        "    \"\"\"\n",
        "    # Project topo_feat to match spectral channels\n",
        "    topo_dense = layers.Dense(filters, activation='relu')(topo_feat)  # [B, filters]\n",
        "    topo_reshape = layers.Reshape((1, 1, filters))(topo_dense)         # [B, 1, 1, C]\n",
        "\n",
        "    # Learnable scaling of spectral features\n",
        "    scaled_spectral = layers.Multiply()([spectral_feat, topo_reshape])  # Element-wise scale\n",
        "\n",
        "    # Optional recalibration via Conv2D (acts like SE block)\n",
        "    recal = layers.Conv2D(filters, kernel_size=1, padding='same', activation='relu')(scaled_spectral)\n",
        "\n",
        "    return recal"
      ]
    },
    {
      "cell_type": "markdown",
      "metadata": {
        "id": "eDPx8W1vK1OP"
      },
      "source": [
        "#### Topological Attention Fusion Layer"
      ]
    },
    {
      "cell_type": "markdown",
      "metadata": {
        "id": "CNN4UDKgK1OP"
      },
      "source": [
        "## Final Model Assembly: TopoMorph-RGNet v2"
      ]
    },
    {
      "cell_type": "code",
      "execution_count": 19,
      "metadata": {
        "id": "pU-f8mdwK1OP"
      },
      "outputs": [],
      "source": [
        "def build_topomorph_model(input_shape, topo_dim, num_classes):\n",
        "    # Inputs\n",
        "    input_img = layers.Input(shape=input_shape)      # (13,13,30)\n",
        "    input_topo = layers.Input(shape=(topo_dim,))     # (1)\n",
        "\n",
        "    # Spatial stream\n",
        "    x_spatial = RGConvBlock(input_img, filters=64)\n",
        "\n",
        "    # Spectral decoder\n",
        "    x_spectral = UNetPlusPlusDecoder(input_img, filters=64)\n",
        "\n",
        "    # Topological attention fusion\n",
        "    x_fused = TopoAttentionFusion(x_spectral, input_topo, filters=64)\n",
        "\n",
        "    # Combine spatial & spectral-topo\n",
        "    combined = layers.Add()([x_spatial, x_spectral])\n",
        "    pooled = layers.GlobalAveragePooling2D()(combined)\n",
        "\n",
        "    # Final classifier\n",
        "    output = layers.Dense(num_classes, activation='softmax')(pooled)\n",
        "\n",
        "    # Model\n",
        "    model = models.Model(inputs=[input_img, input_topo], outputs=output)\n",
        "    return model"
      ]
    },
    {
      "cell_type": "code",
      "execution_count": 20,
      "metadata": {
        "id": "_tX1hatzK1OP"
      },
      "outputs": [],
      "source": [
        "model = build_topomorph_model(input_shape=(13,13,30), topo_dim=1, num_classes=16)\n",
        "model.compile(optimizer='adam', loss='categorical_crossentropy', metrics=['accuracy'])\n",
        "#model.summary()"
      ]
    },
    {
      "cell_type": "markdown",
      "metadata": {
        "id": "V0mqaAnWK1OP"
      },
      "source": [
        "Inputs:\n",
        "\n",
        "HSI patch → (13, 13, 30)\n",
        "\n",
        "Topological entropy → (1,)\n",
        "\n",
        "Two streams:\n",
        "\n",
        "RGConv spatial path\n",
        "\n",
        "UNet++ spectral decoder + topological fusion\n",
        "\n",
        "Final classifier → 16 classes"
      ]
    },
    {
      "cell_type": "markdown",
      "metadata": {
        "id": "xn_4SzXZK1OP"
      },
      "source": [
        "#### Input 1 → HSI Patch → RGConv + UNet++\n",
        "\n",
        "#### Input 2 → Topological Entropy → Attention gating\n",
        "\n",
        "#### Fused spatial & spectral streams → final dense classifier"
      ]
    },
    {
      "cell_type": "code",
      "execution_count": 21,
      "metadata": {
        "colab": {
          "base_uri": "https://localhost:8080/",
          "height": 105
        },
        "id": "NaNRTNdzK1OQ",
        "outputId": "0b6f6a67-2ef4-4e9e-82fe-0770e5f87c67"
      },
      "outputs": [
        {
          "output_type": "stream",
          "name": "stdout",
          "text": [
            "<class 'numpy.ndarray'> (6149, 13, 13, 30)\n",
            "<class 'numpy.ndarray'> (6149, 1)\n",
            "<class 'numpy.ndarray'> (6149, 16)\n"
          ]
        },
        {
          "output_type": "execute_result",
          "data": {
            "text/plain": [
              "\"<class 'numpy.ndarray'> (6149, 13, 13, 30)\\n<class 'numpy.ndarray'> (6149, 1)\\n<class 'numpy.ndarray'> (6149, 16)\""
            ],
            "application/vnd.google.colaboratory.intrinsic+json": {
              "type": "string"
            }
          },
          "metadata": {},
          "execution_count": 21
        }
      ],
      "source": [
        "print(type(X_train_sel), X_train_sel.shape)\n",
        "print(type(topo_train), topo_train.shape)\n",
        "print(type(y_train_cat), y_train_cat.shape)\n",
        "'''<class 'numpy.ndarray'> (6149, 13, 13, 30)\n",
        "<class 'numpy.ndarray'> (6149, 1)\n",
        "<class 'numpy.ndarray'> (6149, 16)'''"
      ]
    },
    {
      "cell_type": "code",
      "execution_count": 22,
      "metadata": {
        "id": "ei1sFJqOK1OQ"
      },
      "outputs": [],
      "source": [
        "# Train dataset\n",
        "train_dataset = tf.data.Dataset.from_tensor_slices(((X_train_sel, topo_train), y_train_cat))\n",
        "train_dataset = train_dataset.shuffle(buffer_size=2048).batch(64)\n",
        "\n",
        "# Validation dataset\n",
        "val_dataset = tf.data.Dataset.from_tensor_slices(((X_val_sel, topo_val), y_val_cat))\n",
        "val_dataset = val_dataset.batch(64)\n",
        "\n",
        "# Test dataset\n",
        "test_dataset = tf.data.Dataset.from_tensor_slices(((X_test_sel, topo_test), y_test_cat))\n",
        "test_dataset = test_dataset.batch(64)"
      ]
    },
    {
      "cell_type": "code",
      "execution_count": 23,
      "metadata": {
        "id": "5-6foupRK1OQ"
      },
      "outputs": [],
      "source": [
        "from tensorflow.keras.callbacks import EarlyStopping, ModelCheckpoint\n",
        "model.compile(optimizer='adam', loss='categorical_crossentropy', metrics=['accuracy'])\n",
        "callbacks = [\n",
        "    EarlyStopping(monitor='val_loss',patience=10, restore_best_weights=True),\n",
        "    ModelCheckpoint(\"best_topomorph.keras\", monitor='val_accuracy', save_best_only=True)\n",
        "]"
      ]
    },
    {
      "cell_type": "code",
      "execution_count": 24,
      "metadata": {
        "colab": {
          "base_uri": "https://localhost:8080/"
        },
        "collapsed": true,
        "id": "MugpWMj7K1OQ",
        "outputId": "07a658f5-2b73-4a5f-9660-d52b55a96324"
      },
      "outputs": [
        {
          "output_type": "stream",
          "name": "stdout",
          "text": [
            "Epoch 1/50\n",
            "\u001b[1m97/97\u001b[0m \u001b[32m━━━━━━━━━━━━━━━━━━━━\u001b[0m\u001b[37m\u001b[0m \u001b[1m16s\u001b[0m 76ms/step - accuracy: 0.5970 - loss: 1.2955 - val_accuracy: 0.8556 - val_loss: 0.4257\n",
            "Epoch 2/50\n",
            "\u001b[1m97/97\u001b[0m \u001b[32m━━━━━━━━━━━━━━━━━━━━\u001b[0m\u001b[37m\u001b[0m \u001b[1m1s\u001b[0m 15ms/step - accuracy: 0.8795 - loss: 0.3732 - val_accuracy: 0.9356 - val_loss: 0.2046\n",
            "Epoch 3/50\n",
            "\u001b[1m97/97\u001b[0m \u001b[32m━━━━━━━━━━━━━━━━━━━━\u001b[0m\u001b[37m\u001b[0m \u001b[1m1s\u001b[0m 14ms/step - accuracy: 0.9477 - loss: 0.1542 - val_accuracy: 0.9434 - val_loss: 0.2158\n",
            "Epoch 4/50\n",
            "\u001b[1m97/97\u001b[0m \u001b[32m━━━━━━━━━━━━━━━━━━━━\u001b[0m\u001b[37m\u001b[0m \u001b[1m1s\u001b[0m 15ms/step - accuracy: 0.9599 - loss: 0.1381 - val_accuracy: 0.9590 - val_loss: 0.1784\n",
            "Epoch 5/50\n",
            "\u001b[1m97/97\u001b[0m \u001b[32m━━━━━━━━━━━━━━━━━━━━\u001b[0m\u001b[37m\u001b[0m \u001b[1m1s\u001b[0m 14ms/step - accuracy: 0.9638 - loss: 0.1446 - val_accuracy: 0.9673 - val_loss: 0.0906\n",
            "Epoch 6/50\n",
            "\u001b[1m97/97\u001b[0m \u001b[32m━━━━━━━━━━━━━━━━━━━━\u001b[0m\u001b[37m\u001b[0m \u001b[1m2s\u001b[0m 17ms/step - accuracy: 0.9724 - loss: 0.0766 - val_accuracy: 0.9805 - val_loss: 0.0765\n",
            "Epoch 7/50\n",
            "\u001b[1m97/97\u001b[0m \u001b[32m━━━━━━━━━━━━━━━━━━━━\u001b[0m\u001b[37m\u001b[0m \u001b[1m2s\u001b[0m 16ms/step - accuracy: 0.9796 - loss: 0.0802 - val_accuracy: 0.9863 - val_loss: 0.0465\n",
            "Epoch 8/50\n",
            "\u001b[1m97/97\u001b[0m \u001b[32m━━━━━━━━━━━━━━━━━━━━\u001b[0m\u001b[37m\u001b[0m \u001b[1m1s\u001b[0m 14ms/step - accuracy: 0.9892 - loss: 0.0333 - val_accuracy: 0.9922 - val_loss: 0.0308\n",
            "Epoch 9/50\n",
            "\u001b[1m97/97\u001b[0m \u001b[32m━━━━━━━━━━━━━━━━━━━━\u001b[0m\u001b[37m\u001b[0m \u001b[1m1s\u001b[0m 13ms/step - accuracy: 0.9909 - loss: 0.0251 - val_accuracy: 0.9702 - val_loss: 0.1743\n",
            "Epoch 10/50\n",
            "\u001b[1m97/97\u001b[0m \u001b[32m━━━━━━━━━━━━━━━━━━━━\u001b[0m\u001b[37m\u001b[0m \u001b[1m1s\u001b[0m 13ms/step - accuracy: 0.9755 - loss: 0.1587 - val_accuracy: 0.9883 - val_loss: 0.0396\n",
            "Epoch 11/50\n",
            "\u001b[1m97/97\u001b[0m \u001b[32m━━━━━━━━━━━━━━━━━━━━\u001b[0m\u001b[37m\u001b[0m \u001b[1m1s\u001b[0m 15ms/step - accuracy: 0.9863 - loss: 0.0399 - val_accuracy: 0.9937 - val_loss: 0.0300\n",
            "Epoch 12/50\n",
            "\u001b[1m97/97\u001b[0m \u001b[32m━━━━━━━━━━━━━━━━━━━━\u001b[0m\u001b[37m\u001b[0m \u001b[1m1s\u001b[0m 14ms/step - accuracy: 0.9955 - loss: 0.0209 - val_accuracy: 0.9937 - val_loss: 0.0196\n",
            "Epoch 13/50\n",
            "\u001b[1m97/97\u001b[0m \u001b[32m━━━━━━━━━━━━━━━━━━━━\u001b[0m\u001b[37m\u001b[0m \u001b[1m4s\u001b[0m 25ms/step - accuracy: 0.9980 - loss: 0.0084 - val_accuracy: 0.9859 - val_loss: 0.0493\n",
            "Epoch 14/50\n",
            "\u001b[1m97/97\u001b[0m \u001b[32m━━━━━━━━━━━━━━━━━━━━\u001b[0m\u001b[37m\u001b[0m \u001b[1m2s\u001b[0m 16ms/step - accuracy: 0.9864 - loss: 0.0573 - val_accuracy: 0.9844 - val_loss: 0.0588\n",
            "Epoch 15/50\n",
            "\u001b[1m97/97\u001b[0m \u001b[32m━━━━━━━━━━━━━━━━━━━━\u001b[0m\u001b[37m\u001b[0m \u001b[1m1s\u001b[0m 13ms/step - accuracy: 0.9924 - loss: 0.0284 - val_accuracy: 0.9937 - val_loss: 0.0199\n",
            "Epoch 16/50\n",
            "\u001b[1m97/97\u001b[0m \u001b[32m━━━━━━━━━━━━━━━━━━━━\u001b[0m\u001b[37m\u001b[0m \u001b[1m1s\u001b[0m 14ms/step - accuracy: 0.9988 - loss: 0.0048 - val_accuracy: 0.9976 - val_loss: 0.0069\n",
            "Epoch 17/50\n",
            "\u001b[1m97/97\u001b[0m \u001b[32m━━━━━━━━━━━━━━━━━━━━\u001b[0m\u001b[37m\u001b[0m \u001b[1m1s\u001b[0m 13ms/step - accuracy: 0.9999 - loss: 0.0020 - val_accuracy: 0.9976 - val_loss: 0.0102\n",
            "Epoch 18/50\n",
            "\u001b[1m97/97\u001b[0m \u001b[32m━━━━━━━━━━━━━━━━━━━━\u001b[0m\u001b[37m\u001b[0m \u001b[1m1s\u001b[0m 14ms/step - accuracy: 0.9970 - loss: 0.0133 - val_accuracy: 0.9946 - val_loss: 0.0140\n",
            "Epoch 19/50\n",
            "\u001b[1m97/97\u001b[0m \u001b[32m━━━━━━━━━━━━━━━━━━━━\u001b[0m\u001b[37m\u001b[0m \u001b[1m1s\u001b[0m 14ms/step - accuracy: 0.9990 - loss: 0.0058 - val_accuracy: 0.9976 - val_loss: 0.0110\n",
            "Epoch 20/50\n",
            "\u001b[1m97/97\u001b[0m \u001b[32m━━━━━━━━━━━━━━━━━━━━\u001b[0m\u001b[37m\u001b[0m \u001b[1m1s\u001b[0m 13ms/step - accuracy: 0.9995 - loss: 0.0034 - val_accuracy: 0.9932 - val_loss: 0.0286\n",
            "Epoch 21/50\n",
            "\u001b[1m97/97\u001b[0m \u001b[32m━━━━━━━━━━━━━━━━━━━━\u001b[0m\u001b[37m\u001b[0m \u001b[1m1s\u001b[0m 14ms/step - accuracy: 0.9950 - loss: 0.0198 - val_accuracy: 0.9746 - val_loss: 0.0750\n",
            "Epoch 22/50\n",
            "\u001b[1m97/97\u001b[0m \u001b[32m━━━━━━━━━━━━━━━━━━━━\u001b[0m\u001b[37m\u001b[0m \u001b[1m2s\u001b[0m 17ms/step - accuracy: 0.9935 - loss: 0.0345 - val_accuracy: 0.9790 - val_loss: 0.0944\n",
            "Epoch 23/50\n",
            "\u001b[1m97/97\u001b[0m \u001b[32m━━━━━━━━━━━━━━━━━━━━\u001b[0m\u001b[37m\u001b[0m \u001b[1m1s\u001b[0m 13ms/step - accuracy: 0.9878 - loss: 0.0538 - val_accuracy: 0.9429 - val_loss: 0.2971\n",
            "Epoch 24/50\n",
            "\u001b[1m97/97\u001b[0m \u001b[32m━━━━━━━━━━━━━━━━━━━━\u001b[0m\u001b[37m\u001b[0m \u001b[1m1s\u001b[0m 14ms/step - accuracy: 0.9737 - loss: 0.1073 - val_accuracy: 0.9961 - val_loss: 0.0180\n",
            "Epoch 25/50\n",
            "\u001b[1m97/97\u001b[0m \u001b[32m━━━━━━━━━━━━━━━━━━━━\u001b[0m\u001b[37m\u001b[0m \u001b[1m1s\u001b[0m 13ms/step - accuracy: 0.9962 - loss: 0.0124 - val_accuracy: 0.9956 - val_loss: 0.0140\n",
            "Epoch 26/50\n",
            "\u001b[1m97/97\u001b[0m \u001b[32m━━━━━━━━━━━━━━━━━━━━\u001b[0m\u001b[37m\u001b[0m \u001b[1m1s\u001b[0m 15ms/step - accuracy: 0.9995 - loss: 0.0035 - val_accuracy: 0.9980 - val_loss: 0.0061\n",
            "Epoch 27/50\n",
            "\u001b[1m97/97\u001b[0m \u001b[32m━━━━━━━━━━━━━━━━━━━━\u001b[0m\u001b[37m\u001b[0m \u001b[1m2s\u001b[0m 13ms/step - accuracy: 1.0000 - loss: 5.8291e-04 - val_accuracy: 0.9976 - val_loss: 0.0053\n",
            "Epoch 28/50\n",
            "\u001b[1m97/97\u001b[0m \u001b[32m━━━━━━━━━━━━━━━━━━━━\u001b[0m\u001b[37m\u001b[0m \u001b[1m1s\u001b[0m 13ms/step - accuracy: 1.0000 - loss: 3.8803e-04 - val_accuracy: 0.9976 - val_loss: 0.0068\n",
            "Epoch 29/50\n",
            "\u001b[1m97/97\u001b[0m \u001b[32m━━━━━━━━━━━━━━━━━━━━\u001b[0m\u001b[37m\u001b[0m \u001b[1m1s\u001b[0m 14ms/step - accuracy: 1.0000 - loss: 2.6474e-04 - val_accuracy: 0.9976 - val_loss: 0.0062\n",
            "Epoch 30/50\n",
            "\u001b[1m97/97\u001b[0m \u001b[32m━━━━━━━━━━━━━━━━━━━━\u001b[0m\u001b[37m\u001b[0m \u001b[1m2s\u001b[0m 13ms/step - accuracy: 1.0000 - loss: 1.8658e-04 - val_accuracy: 0.9976 - val_loss: 0.0074\n",
            "Epoch 31/50\n",
            "\u001b[1m97/97\u001b[0m \u001b[32m━━━━━━━━━━━━━━━━━━━━\u001b[0m\u001b[37m\u001b[0m \u001b[1m3s\u001b[0m 14ms/step - accuracy: 1.0000 - loss: 1.7309e-04 - val_accuracy: 0.9976 - val_loss: 0.0063\n",
            "Epoch 32/50\n",
            "\u001b[1m97/97\u001b[0m \u001b[32m━━━━━━━━━━━━━━━━━━━━\u001b[0m\u001b[37m\u001b[0m \u001b[1m3s\u001b[0m 14ms/step - accuracy: 1.0000 - loss: 1.2277e-04 - val_accuracy: 0.9976 - val_loss: 0.0070\n",
            "Epoch 33/50\n",
            "\u001b[1m97/97\u001b[0m \u001b[32m━━━━━━━━━━━━━━━━━━━━\u001b[0m\u001b[37m\u001b[0m \u001b[1m1s\u001b[0m 14ms/step - accuracy: 1.0000 - loss: 1.0093e-04 - val_accuracy: 0.9976 - val_loss: 0.0075\n",
            "Epoch 34/50\n",
            "\u001b[1m97/97\u001b[0m \u001b[32m━━━━━━━━━━━━━━━━━━━━\u001b[0m\u001b[37m\u001b[0m \u001b[1m1s\u001b[0m 13ms/step - accuracy: 1.0000 - loss: 9.8533e-05 - val_accuracy: 0.9976 - val_loss: 0.0075\n",
            "Epoch 35/50\n",
            "\u001b[1m97/97\u001b[0m \u001b[32m━━━━━━━━━━━━━━━━━━━━\u001b[0m\u001b[37m\u001b[0m \u001b[1m2s\u001b[0m 15ms/step - accuracy: 1.0000 - loss: 7.1230e-05 - val_accuracy: 0.9976 - val_loss: 0.0084\n",
            "Epoch 36/50\n",
            "\u001b[1m97/97\u001b[0m \u001b[32m━━━━━━━━━━━━━━━━━━━━\u001b[0m\u001b[37m\u001b[0m \u001b[1m2s\u001b[0m 13ms/step - accuracy: 1.0000 - loss: 6.0923e-05 - val_accuracy: 0.9976 - val_loss: 0.0086\n",
            "Epoch 37/50\n",
            "\u001b[1m97/97\u001b[0m \u001b[32m━━━━━━━━━━━━━━━━━━━━\u001b[0m\u001b[37m\u001b[0m \u001b[1m1s\u001b[0m 13ms/step - accuracy: 1.0000 - loss: 6.7753e-05 - val_accuracy: 0.9976 - val_loss: 0.0083\n"
          ]
        }
      ],
      "source": [
        "history = model.fit(\n",
        "    train_dataset,\n",
        "    validation_data=val_dataset,\n",
        "    epochs=50,\n",
        "    callbacks=callbacks\n",
        ")"
      ]
    },
    {
      "cell_type": "code",
      "execution_count": 24,
      "metadata": {
        "id": "6vEzeukMHjPU"
      },
      "outputs": [],
      "source": []
    },
    {
      "cell_type": "code",
      "execution_count": 25,
      "metadata": {
        "id": "3ptIDlAjK1OQ"
      },
      "outputs": [],
      "source": [
        "model.save(\"best_topomorph.keras\")"
      ]
    },
    {
      "cell_type": "code",
      "execution_count": 26,
      "metadata": {
        "id": "6mnFjoq9K1OQ"
      },
      "outputs": [],
      "source": [
        "from tensorflow.keras.models import load_model\n",
        "proposed_model = load_model(\"best_topomorph.keras\")"
      ]
    },
    {
      "cell_type": "code",
      "execution_count": 27,
      "metadata": {
        "collapsed": true,
        "id": "94vqv3uMK1OQ",
        "outputId": "e56c3d74-1cbc-4c82-8b2a-2d8418977b24",
        "colab": {
          "base_uri": "https://localhost:8080/"
        }
      },
      "outputs": [
        {
          "output_type": "stream",
          "name": "stdout",
          "text": [
            "\u001b[1m33/33\u001b[0m \u001b[32m━━━━━━━━━━━━━━━━━━━━\u001b[0m\u001b[37m\u001b[0m \u001b[1m0s\u001b[0m 5ms/step - accuracy: 0.9988 - loss: 0.0030\n",
            "Test Loss: 0.002064727246761322\n",
            "Test Accuracy: 0.9995121955871582\n",
            "\u001b[1m33/33\u001b[0m \u001b[32m━━━━━━━━━━━━━━━━━━━━\u001b[0m\u001b[37m\u001b[0m \u001b[1m2s\u001b[0m 28ms/step\n",
            "Overall Accuracy (OA): 0.9995121951219512\n",
            "Average Accuracy (AA): 0.9994350282485875\n",
            "Kappa Coefficient: 0.9994439352458525\n",
            "F1 Score (Macro): 0.9981314784506274\n",
            "Confusion Matrix:\n",
            " [[  9   0   0   0   0   0   0   0   0   0   0   0   0   0   0   0]\n",
            " [  0 285   0   0   0   0   0   0   0   0   0   0   0   0   0   0]\n",
            " [  0   0 166   0   0   0   0   0   0   0   0   0   0   0   0   0]\n",
            " [  0   0   0  48   0   0   0   0   0   0   0   0   0   0   0   0]\n",
            " [  0   0   0   0  97   0   0   0   0   0   0   0   0   0   0   0]\n",
            " [  0   0   0   0   0 146   0   0   0   0   0   0   0   0   0   0]\n",
            " [  0   0   0   0   0   0   6   0   0   0   0   0   0   0   0   0]\n",
            " [  0   0   0   0   0   0   0  95   0   0   0   0   0   0   0   0]\n",
            " [  0   0   0   0   0   0   0   0   4   0   0   0   0   0   0   0]\n",
            " [  0   0   0   0   0   0   0   0   0 195   0   0   0   0   0   0]\n",
            " [  0   0   0   0   0   0   0   0   0   0 491   0   0   0   0   0]\n",
            " [  0   0   0   0   0   0   0   0   0   0   0 117   0   0   0   1]\n",
            " [  0   0   0   0   0   0   0   0   0   0   0   0  41   0   0   0]\n",
            " [  0   0   0   0   0   0   0   0   0   0   0   0   0 253   0   0]\n",
            " [  0   0   0   0   0   0   0   0   0   0   0   0   0   0  77   0]\n",
            " [  0   0   0   0   0   0   0   0   0   0   0   0   0   0   0  19]]\n"
          ]
        }
      ],
      "source": [
        "res = model.evaluate(test_dataset)\n",
        "print(\"Test Loss:\", res[0])\n",
        "print(\"Test Accuracy:\", res[1])\n",
        "y_true = np.argmax(y_test_cat, axis=1)\n",
        "\n",
        "# Predict probabilities\n",
        "y_pred_probs = proposed_model.predict(test_dataset)\n",
        "y_pred_proposed = np.argmax(y_pred_probs, axis=1)\n",
        "from sklearn.metrics import accuracy_score, classification_report, cohen_kappa_score, confusion_matrix, f1_score\n",
        "\n",
        "oa = accuracy_score(y_true, y_pred_proposed)\n",
        "kappa = cohen_kappa_score(y_true, y_pred_proposed)\n",
        "f1 = f1_score(y_true, y_pred_proposed, average='macro')\n",
        "conf_mat = confusion_matrix(y_true, y_pred_proposed)\n",
        "\n",
        "# AA (Average Accuracy per class)\n",
        "report = classification_report(y_true, y_pred_proposed, output_dict=True)\n",
        "aa = np.mean([report[str(i)]['recall'] for i in range(1, 16)\n",
        "             if str(i) in report])  # Ignore background class 0\n",
        "\n",
        "print(\"Overall Accuracy (OA):\", oa)\n",
        "print(\"Average Accuracy (AA):\", aa)\n",
        "print(\"Kappa Coefficient:\", kappa)\n",
        "print(\"F1 Score (Macro):\", f1)\n",
        "print(\"Confusion Matrix:\\n\", conf_mat)"
      ]
    },
    {
      "cell_type": "markdown",
      "metadata": {
        "id": "stMeIlinUzbr"
      },
      "source": [
        "## A1"
      ]
    },
    {
      "cell_type": "markdown",
      "metadata": {
        "id": "y39FtuuOK1OQ"
      },
      "source": [
        "###  PCA variant:"
      ]
    },
    {
      "cell_type": "code",
      "execution_count": null,
      "metadata": {
        "id": "aoVnztAuK1OQ"
      },
      "outputs": [],
      "source": [
        "from sklearn.decomposition import PCA\n",
        "\n",
        "def apply_pca(X_data, num_components=30):\n",
        "    N, H, W, B = X_data.shape\n",
        "    X_flat = X_data.reshape(-1, B)\n",
        "    pca = PCA(n_components=num_components)\n",
        "    X_pca = pca.fit_transform(X_flat)\n",
        "    X_pca_reshaped = X_pca.reshape(N, H, W, num_components)\n",
        "    return X_pca_reshaped\n",
        "\n",
        "X_train_pca = apply_pca(X_train)\n",
        "X_val_pca = apply_pca(X_val)\n",
        "X_test_pca = apply_pca(X_test)"
      ]
    },
    {
      "cell_type": "markdown",
      "metadata": {
        "id": "AGKV2KihK1Oa"
      },
      "source": [
        "### All Bands (no band selection):"
      ]
    },
    {
      "cell_type": "code",
      "execution_count": null,
      "metadata": {
        "id": "LbRHRxeDK1Oa"
      },
      "outputs": [],
      "source": [
        "X_train_sel = X_train\n",
        "X_val_sel = X_val\n",
        "X_test_sel = X_test"
      ]
    },
    {
      "cell_type": "markdown",
      "metadata": {
        "id": "u2O9W002K1Oa"
      },
      "source": [
        "🔁 Now run the training and evaluation loop 3 times, one for each variant. Below is the full code block you can use — only change X_train_sel, X_val_sel, X_test_sel each time.\n",
        "\n",
        "| Run           | Code Before                                |\n",
        "| ------------- | ------------------------------------------ |\n",
        "| **MBSA**      | `X_train_sel = X_train[..., topk_indices]` |\n",
        "| **PCA**       | `X_train_sel = X_train_pca`                |\n",
        "| **All Bands** | `X_train_sel = X_train`                    |\n"
      ]
    },
    {
      "cell_type": "code",
      "execution_count": null,
      "metadata": {
        "id": "tAQ9qJViK1Oa",
        "outputId": "652a7dae-0fc7-4ce5-bf34-b9645bbdfe03"
      },
      "outputs": [
        {
          "name": "stdout",
          "output_type": "stream",
          "text": [
            "Epoch 1/100\n",
            "\u001b[1m97/97\u001b[0m \u001b[32m━━━━━━━━━━━━━━━━━━━━\u001b[0m\u001b[37m\u001b[0m \u001b[1m18s\u001b[0m 78ms/step - accuracy: 0.5147 - loss: 2.0190 - val_accuracy: 0.7551 - val_loss: 0.7243\n",
            "Epoch 2/100\n",
            "\u001b[1m97/97\u001b[0m \u001b[32m━━━━━━━━━━━━━━━━━━━━\u001b[0m\u001b[37m\u001b[0m \u001b[1m2s\u001b[0m 23ms/step - accuracy: 0.8455 - loss: 0.4565 - val_accuracy: 0.8385 - val_loss: 0.4304\n",
            "Epoch 3/100\n",
            "\u001b[1m97/97\u001b[0m \u001b[32m━━━━━━━━━━━━━━━━━━━━\u001b[0m\u001b[37m\u001b[0m \u001b[1m2s\u001b[0m 23ms/step - accuracy: 0.8606 - loss: 0.5461 - val_accuracy: 0.9137 - val_loss: 0.2416\n",
            "Epoch 4/100\n",
            "\u001b[1m97/97\u001b[0m \u001b[32m━━━━━━━━━━━━━━━━━━━━\u001b[0m\u001b[37m\u001b[0m \u001b[1m2s\u001b[0m 23ms/step - accuracy: 0.9383 - loss: 0.1896 - val_accuracy: 0.9293 - val_loss: 0.2149\n",
            "Epoch 5/100\n",
            "\u001b[1m97/97\u001b[0m \u001b[32m━━━━━━━━━━━━━━━━━━━━\u001b[0m\u001b[37m\u001b[0m \u001b[1m2s\u001b[0m 23ms/step - accuracy: 0.9550 - loss: 0.1336 - val_accuracy: 0.9707 - val_loss: 0.0880\n",
            "Epoch 6/100\n",
            "\u001b[1m97/97\u001b[0m \u001b[32m━━━━━━━━━━━━━━━━━━━━\u001b[0m\u001b[37m\u001b[0m \u001b[1m2s\u001b[0m 24ms/step - accuracy: 0.9630 - loss: 0.1188 - val_accuracy: 0.9751 - val_loss: 0.0884\n",
            "Epoch 7/100\n",
            "\u001b[1m97/97\u001b[0m \u001b[32m━━━━━━━━━━━━━━━━━━━━\u001b[0m\u001b[37m\u001b[0m \u001b[1m2s\u001b[0m 21ms/step - accuracy: 0.9638 - loss: 0.1323 - val_accuracy: 0.9639 - val_loss: 0.1016\n",
            "Epoch 8/100\n",
            "\u001b[1m97/97\u001b[0m \u001b[32m━━━━━━━━━━━━━━━━━━━━\u001b[0m\u001b[37m\u001b[0m \u001b[1m2s\u001b[0m 21ms/step - accuracy: 0.9712 - loss: 0.0841 - val_accuracy: 0.9659 - val_loss: 0.0919\n",
            "Epoch 9/100\n",
            "\u001b[1m97/97\u001b[0m \u001b[32m━━━━━━━━━━━━━━━━━━━━\u001b[0m\u001b[37m\u001b[0m \u001b[1m2s\u001b[0m 23ms/step - accuracy: 0.9856 - loss: 0.0429 - val_accuracy: 0.9815 - val_loss: 0.0617\n",
            "Epoch 10/100\n",
            "\u001b[1m97/97\u001b[0m \u001b[32m━━━━━━━━━━━━━━━━━━━━\u001b[0m\u001b[37m\u001b[0m \u001b[1m2s\u001b[0m 23ms/step - accuracy: 0.9782 - loss: 0.0780 - val_accuracy: 0.9888 - val_loss: 0.0451\n",
            "Epoch 11/100\n",
            "\u001b[1m97/97\u001b[0m \u001b[32m━━━━━━━━━━━━━━━━━━━━\u001b[0m\u001b[37m\u001b[0m \u001b[1m2s\u001b[0m 21ms/step - accuracy: 0.9720 - loss: 0.0994 - val_accuracy: 0.9839 - val_loss: 0.0500\n",
            "Epoch 12/100\n",
            "\u001b[1m97/97\u001b[0m \u001b[32m━━━━━━━━━━━━━━━━━━━━\u001b[0m\u001b[37m\u001b[0m \u001b[1m2s\u001b[0m 21ms/step - accuracy: 0.9762 - loss: 0.0769 - val_accuracy: 0.9551 - val_loss: 0.1567\n",
            "Epoch 13/100\n",
            "\u001b[1m97/97\u001b[0m \u001b[32m━━━━━━━━━━━━━━━━━━━━\u001b[0m\u001b[37m\u001b[0m \u001b[1m2s\u001b[0m 21ms/step - accuracy: 0.9419 - loss: 0.1979 - val_accuracy: 0.9771 - val_loss: 0.0686\n",
            "Epoch 14/100\n",
            "\u001b[1m97/97\u001b[0m \u001b[32m━━━━━━━━━━━━━━━━━━━━\u001b[0m\u001b[37m\u001b[0m \u001b[1m2s\u001b[0m 22ms/step - accuracy: 0.9813 - loss: 0.0575 - val_accuracy: 0.9185 - val_loss: 0.9563\n",
            "Epoch 15/100\n",
            "\u001b[1m97/97\u001b[0m \u001b[32m━━━━━━━━━━━━━━━━━━━━\u001b[0m\u001b[37m\u001b[0m \u001b[1m2s\u001b[0m 22ms/step - accuracy: 0.9242 - loss: 0.4053 - val_accuracy: 0.9600 - val_loss: 0.1144\n",
            "Epoch 16/100\n",
            "\u001b[1m97/97\u001b[0m \u001b[32m━━━━━━━━━━━━━━━━━━━━\u001b[0m\u001b[37m\u001b[0m \u001b[1m2s\u001b[0m 21ms/step - accuracy: 0.9865 - loss: 0.0549 - val_accuracy: 0.9785 - val_loss: 0.0662\n",
            "Epoch 17/100\n",
            "\u001b[1m97/97\u001b[0m \u001b[32m━━━━━━━━━━━━━━━━━━━━\u001b[0m\u001b[37m\u001b[0m \u001b[1m2s\u001b[0m 23ms/step - accuracy: 0.9797 - loss: 0.0666 - val_accuracy: 0.9956 - val_loss: 0.0214\n",
            "Epoch 18/100\n",
            "\u001b[1m97/97\u001b[0m \u001b[32m━━━━━━━━━━━━━━━━━━━━\u001b[0m\u001b[37m\u001b[0m \u001b[1m2s\u001b[0m 22ms/step - accuracy: 0.9928 - loss: 0.0212 - val_accuracy: 0.9951 - val_loss: 0.0172\n",
            "Epoch 19/100\n",
            "\u001b[1m97/97\u001b[0m \u001b[32m━━━━━━━━━━━━━━━━━━━━\u001b[0m\u001b[37m\u001b[0m \u001b[1m2s\u001b[0m 23ms/step - accuracy: 0.9981 - loss: 0.0089 - val_accuracy: 0.9966 - val_loss: 0.0108\n",
            "Epoch 20/100\n",
            "\u001b[1m97/97\u001b[0m \u001b[32m━━━━━━━━━━━━━━━━━━━━\u001b[0m\u001b[37m\u001b[0m \u001b[1m2s\u001b[0m 21ms/step - accuracy: 0.9986 - loss: 0.0053 - val_accuracy: 0.9961 - val_loss: 0.0138\n",
            "Epoch 21/100\n",
            "\u001b[1m97/97\u001b[0m \u001b[32m━━━━━━━━━━━━━━━━━━━━\u001b[0m\u001b[37m\u001b[0m \u001b[1m2s\u001b[0m 21ms/step - accuracy: 0.9926 - loss: 0.0213 - val_accuracy: 0.9927 - val_loss: 0.0264\n",
            "Epoch 22/100\n",
            "\u001b[1m97/97\u001b[0m \u001b[32m━━━━━━━━━━━━━━━━━━━━\u001b[0m\u001b[37m\u001b[0m \u001b[1m2s\u001b[0m 21ms/step - accuracy: 0.9909 - loss: 0.0289 - val_accuracy: 0.9898 - val_loss: 0.0299\n",
            "Epoch 23/100\n",
            "\u001b[1m97/97\u001b[0m \u001b[32m━━━━━━━━━━━━━━━━━━━━\u001b[0m\u001b[37m\u001b[0m \u001b[1m2s\u001b[0m 21ms/step - accuracy: 0.9936 - loss: 0.0214 - val_accuracy: 0.9712 - val_loss: 0.1128\n",
            "Epoch 24/100\n",
            "\u001b[1m97/97\u001b[0m \u001b[32m━━━━━━━━━━━━━━━━━━━━\u001b[0m\u001b[37m\u001b[0m \u001b[1m2s\u001b[0m 21ms/step - accuracy: 0.9835 - loss: 0.0508 - val_accuracy: 0.8039 - val_loss: 0.8670\n",
            "Epoch 25/100\n",
            "\u001b[1m97/97\u001b[0m \u001b[32m━━━━━━━━━━━━━━━━━━━━\u001b[0m\u001b[37m\u001b[0m \u001b[1m2s\u001b[0m 21ms/step - accuracy: 0.9459 - loss: 0.1970 - val_accuracy: 0.9639 - val_loss: 0.1036\n",
            "Epoch 26/100\n",
            "\u001b[1m97/97\u001b[0m \u001b[32m━━━━━━━━━━━━━━━━━━━━\u001b[0m\u001b[37m\u001b[0m \u001b[1m2s\u001b[0m 21ms/step - accuracy: 0.9831 - loss: 0.0457 - val_accuracy: 0.9937 - val_loss: 0.0258\n",
            "Epoch 27/100\n",
            "\u001b[1m97/97\u001b[0m \u001b[32m━━━━━━━━━━━━━━━━━━━━\u001b[0m\u001b[37m\u001b[0m \u001b[1m2s\u001b[0m 21ms/step - accuracy: 0.9938 - loss: 0.0170 - val_accuracy: 0.9883 - val_loss: 0.0360\n",
            "Epoch 28/100\n",
            "\u001b[1m97/97\u001b[0m \u001b[32m━━━━━━━━━━━━━━━━━━━━\u001b[0m\u001b[37m\u001b[0m \u001b[1m2s\u001b[0m 21ms/step - accuracy: 0.9940 - loss: 0.0152 - val_accuracy: 0.9741 - val_loss: 0.0737\n",
            "Epoch 29/100\n",
            "\u001b[1m97/97\u001b[0m \u001b[32m━━━━━━━━━━━━━━━━━━━━\u001b[0m\u001b[37m\u001b[0m \u001b[1m2s\u001b[0m 22ms/step - accuracy: 0.9499 - loss: 0.2457 - val_accuracy: 0.9302 - val_loss: 0.3619\n",
            "\u001b[1m33/33\u001b[0m \u001b[32m━━━━━━━━━━━━━━━━━━━━\u001b[0m\u001b[37m\u001b[0m \u001b[1m3s\u001b[0m 26ms/step - accuracy: 0.9991 - loss: 0.0050\n",
            "Test Loss: 0.005679208319634199\n",
            "Test Accuracy: 0.9985365867614746\n",
            "\u001b[1m33/33\u001b[0m \u001b[32m━━━━━━━━━━━━━━━━━━━━\u001b[0m\u001b[37m\u001b[0m \u001b[1m2s\u001b[0m 37ms/step\n",
            "OA: 0.9985, AA: 0.9966, Kappa: 0.9983, Macro F1: 0.9980\n"
          ]
        }
      ],
      "source": [
        "# Topological features (reuse if not recalculating)\n",
        "topo_train = generate_topo_features(X_train_sel)\n",
        "topo_val = generate_topo_features(X_val_sel)\n",
        "topo_test = generate_topo_features(X_test_sel)\n",
        "\n",
        "# Model\n",
        "model = build_topomorph_model(input_shape=X_train_sel.shape[1:], topo_dim=1, num_classes=num_classes)\n",
        "model.compile(optimizer='adam', loss='categorical_crossentropy', metrics=['accuracy'])\n",
        "\n",
        "# Datasets\n",
        "train_dataset = tf.data.Dataset.from_tensor_slices(((X_train_sel, topo_train), y_train_cat)).shuffle(2048).batch(64)\n",
        "val_dataset   = tf.data.Dataset.from_tensor_slices(((X_val_sel, topo_val), y_val_cat)).batch(64)\n",
        "test_dataset  = tf.data.Dataset.from_tensor_slices(((X_test_sel, topo_test), y_test_cat)).batch(64)\n",
        "\n",
        "# Callbacks\n",
        "callbacks = [\n",
        "    EarlyStopping(monitor='val_loss', patience=10, restore_best_weights=True),\n",
        "    ModelCheckpoint(\"a1_variant_model.keras\", monitor='val_accuracy', save_best_only=True)\n",
        "]\n",
        "\n",
        "# Train\n",
        "history = model.fit(train_dataset, validation_data=val_dataset, epochs=100, callbacks=callbacks)\n",
        "\n",
        "# Evaluate\n",
        "model = load_model(\"a1_variant_model.keras\")\n",
        "res = model.evaluate(test_dataset)\n",
        "print(\"Test Loss:\", res[0])\n",
        "print(\"Test Accuracy:\", res[1])\n",
        "\n",
        "# Get predictions\n",
        "y_pred_probs = model.predict(test_dataset)\n",
        "y_pred = np.argmax(y_pred_probs, axis=1)\n",
        "y_true = np.argmax(y_test_cat, axis=1)\n",
        "\n",
        "# Metrics\n",
        "oa = accuracy_score(y_true, y_pred)\n",
        "kappa = cohen_kappa_score(y_true, y_pred)\n",
        "f1 = f1_score(y_true, y_pred, average='macro')\n",
        "report = classification_report(y_true, y_pred, output_dict=True)\n",
        "aa = np.mean([report[str(i)]['recall'] for i in range(1, 16) if str(i) in report])\n",
        "\n",
        "print(f\"OA: {oa:.4f}, AA: {aa:.4f}, Kappa: {kappa:.4f}, Macro F1: {f1:.4f}\")"
      ]
    },
    {
      "cell_type": "markdown",
      "metadata": {
        "id": "AwrPGIksK1Oa"
      },
      "source": [
        "## All bands\n",
        "Test Loss: 0.005679208319634199\n",
        "\n",
        "Test Accuracy: 0.9985365867614746\n",
        "\n",
        "33/33 ━━━━━━━━━━━━━━━━━━━━ 2s 37ms/step\n",
        "OA: 0.9985,\n",
        "\n",
        "AA: 0.9966,\n",
        "\n",
        "Kappa: 0.9983,\n",
        "\n",
        "Macro F1: 0.9980"
      ]
    },
    {
      "cell_type": "code",
      "execution_count": null,
      "metadata": {
        "collapsed": true,
        "id": "thXlzPaXK1Oa",
        "outputId": "9799c92e-2463-4dd6-f03e-da561dcf00f3"
      },
      "outputs": [
        {
          "name": "stdout",
          "output_type": "stream",
          "text": [
            "Epoch 1/100\n",
            "\u001b[1m97/97\u001b[0m \u001b[32m━━━━━━━━━━━━━━━━━━━━\u001b[0m\u001b[37m\u001b[0m \u001b[1m14s\u001b[0m 54ms/step - accuracy: 0.6200 - loss: 1.6878 - val_accuracy: 0.9146 - val_loss: 0.2697\n",
            "Epoch 2/100\n",
            "\u001b[1m97/97\u001b[0m \u001b[32m━━━━━━━━━━━━━━━━━━━━\u001b[0m\u001b[37m\u001b[0m \u001b[1m1s\u001b[0m 12ms/step - accuracy: 0.9535 - loss: 0.1484 - val_accuracy: 0.9395 - val_loss: 0.2138\n",
            "Epoch 3/100\n",
            "\u001b[1m97/97\u001b[0m \u001b[32m━━━━━━━━━━━━━━━━━━━━\u001b[0m\u001b[37m\u001b[0m \u001b[1m1s\u001b[0m 11ms/step - accuracy: 0.9793 - loss: 0.0622 - val_accuracy: 0.9327 - val_loss: 0.2319\n",
            "Epoch 4/100\n",
            "\u001b[1m97/97\u001b[0m \u001b[32m━━━━━━━━━━━━━━━━━━━━\u001b[0m\u001b[37m\u001b[0m \u001b[1m1s\u001b[0m 12ms/step - accuracy: 0.9898 - loss: 0.0401 - val_accuracy: 0.9454 - val_loss: 0.2047\n",
            "Epoch 5/100\n",
            "\u001b[1m97/97\u001b[0m \u001b[32m━━━━━━━━━━━━━━━━━━━━\u001b[0m\u001b[37m\u001b[0m \u001b[1m1s\u001b[0m 11ms/step - accuracy: 0.9876 - loss: 0.0402 - val_accuracy: 0.9439 - val_loss: 0.2317\n",
            "Epoch 6/100\n",
            "\u001b[1m97/97\u001b[0m \u001b[32m━━━━━━━━━━━━━━━━━━━━\u001b[0m\u001b[37m\u001b[0m \u001b[1m1s\u001b[0m 12ms/step - accuracy: 0.9717 - loss: 0.0946 - val_accuracy: 0.9717 - val_loss: 0.1035\n",
            "Epoch 7/100\n",
            "\u001b[1m97/97\u001b[0m \u001b[32m━━━━━━━━━━━━━━━━━━━━\u001b[0m\u001b[37m\u001b[0m \u001b[1m1s\u001b[0m 11ms/step - accuracy: 0.9866 - loss: 0.0582 - val_accuracy: 0.9483 - val_loss: 0.2082\n",
            "Epoch 8/100\n",
            "\u001b[1m97/97\u001b[0m \u001b[32m━━━━━━━━━━━━━━━━━━━━\u001b[0m\u001b[37m\u001b[0m \u001b[1m1s\u001b[0m 11ms/step - accuracy: 0.9967 - loss: 0.0168 - val_accuracy: 0.9532 - val_loss: 0.1902\n",
            "Epoch 9/100\n",
            "\u001b[1m97/97\u001b[0m \u001b[32m━━━━━━━━━━━━━━━━━━━━\u001b[0m\u001b[37m\u001b[0m \u001b[1m1s\u001b[0m 11ms/step - accuracy: 0.9933 - loss: 0.0215 - val_accuracy: 0.9454 - val_loss: 0.2349\n",
            "Epoch 10/100\n",
            "\u001b[1m97/97\u001b[0m \u001b[32m━━━━━━━━━━━━━━━━━━━━\u001b[0m\u001b[37m\u001b[0m \u001b[1m1s\u001b[0m 11ms/step - accuracy: 0.9974 - loss: 0.0099 - val_accuracy: 0.9537 - val_loss: 0.2250\n",
            "Epoch 11/100\n",
            "\u001b[1m97/97\u001b[0m \u001b[32m━━━━━━━━━━━━━━━━━━━━\u001b[0m\u001b[37m\u001b[0m \u001b[1m1s\u001b[0m 11ms/step - accuracy: 0.9988 - loss: 0.0071 - val_accuracy: 0.9668 - val_loss: 0.1318\n",
            "Epoch 12/100\n",
            "\u001b[1m97/97\u001b[0m \u001b[32m━━━━━━━━━━━━━━━━━━━━\u001b[0m\u001b[37m\u001b[0m \u001b[1m1s\u001b[0m 11ms/step - accuracy: 0.9978 - loss: 0.0056 - val_accuracy: 0.9659 - val_loss: 0.1495\n",
            "Epoch 13/100\n",
            "\u001b[1m97/97\u001b[0m \u001b[32m━━━━━━━━━━━━━━━━━━━━\u001b[0m\u001b[37m\u001b[0m \u001b[1m1s\u001b[0m 11ms/step - accuracy: 0.9951 - loss: 0.0139 - val_accuracy: 0.9259 - val_loss: 0.6331\n",
            "Epoch 14/100\n",
            "\u001b[1m97/97\u001b[0m \u001b[32m━━━━━━━━━━━━━━━━━━━━\u001b[0m\u001b[37m\u001b[0m \u001b[1m1s\u001b[0m 11ms/step - accuracy: 0.9932 - loss: 0.0259 - val_accuracy: 0.9698 - val_loss: 0.1347\n",
            "Epoch 15/100\n",
            "\u001b[1m97/97\u001b[0m \u001b[32m━━━━━━━━━━━━━━━━━━━━\u001b[0m\u001b[37m\u001b[0m \u001b[1m1s\u001b[0m 11ms/step - accuracy: 0.9955 - loss: 0.0170 - val_accuracy: 0.9493 - val_loss: 0.2150\n",
            "Epoch 16/100\n",
            "\u001b[1m97/97\u001b[0m \u001b[32m━━━━━━━━━━━━━━━━━━━━\u001b[0m\u001b[37m\u001b[0m \u001b[1m1s\u001b[0m 11ms/step - accuracy: 0.9956 - loss: 0.0169 - val_accuracy: 0.9532 - val_loss: 0.1852\n",
            "\u001b[1m33/33\u001b[0m \u001b[32m━━━━━━━━━━━━━━━━━━━━\u001b[0m\u001b[37m\u001b[0m \u001b[1m2s\u001b[0m 20ms/step - accuracy: 0.9893 - loss: 0.0276\n",
            "Test Loss: 0.029735520482063293\n",
            "Test Accuracy: 0.9878048896789551\n",
            "\u001b[1m33/33\u001b[0m \u001b[32m━━━━━━━━━━━━━━━━━━━━\u001b[0m\u001b[37m\u001b[0m \u001b[1m2s\u001b[0m 25ms/step\n",
            "OA: 0.9878, AA: 0.9724, Kappa: 0.9861, Macro F1: 0.9822\n"
          ]
        }
      ],
      "source": [
        "# 1. Assign PCA data to _sel variables\n",
        "X_train_sel = X_train_pca\n",
        "X_val_sel = X_val_pca\n",
        "X_test_sel = X_test_pca\n",
        "\n",
        "# 2. Generate topological features from PCA-selected bands\n",
        "topo_train = generate_topo_features(X_train_sel)\n",
        "topo_val   = generate_topo_features(X_val_sel)\n",
        "topo_test  = generate_topo_features(X_test_sel)\n",
        "\n",
        "# 3. Build and compile model\n",
        "model = build_topomorph_model(input_shape=X_train_sel.shape[1:], topo_dim=1, num_classes=num_classes)\n",
        "model.compile(optimizer='adam', loss='categorical_crossentropy', metrics=['accuracy'])\n",
        "\n",
        "# 4. Create datasets using _sel variables\n",
        "train_dataset = tf.data.Dataset.from_tensor_slices(((X_train_sel, topo_train), y_train_cat)).shuffle(2048).batch(64)\n",
        "val_dataset   = tf.data.Dataset.from_tensor_slices(((X_val_sel, topo_val), y_val_cat)).batch(64)\n",
        "test_dataset  = tf.data.Dataset.from_tensor_slices(((X_test_sel, topo_test), y_test_cat)).batch(64)\n",
        "\n",
        "# Callbacks\n",
        "callbacks = [\n",
        "    EarlyStopping(monitor='val_loss', patience=10, restore_best_weights=True),\n",
        "    ModelCheckpoint(\"a1_variant_model.keras\", monitor='val_accuracy', save_best_only=True)\n",
        "]\n",
        "\n",
        "# Train\n",
        "history = model.fit(train_dataset, validation_data=val_dataset, epochs=100, callbacks=callbacks)\n",
        "\n",
        "# Evaluate\n",
        "model = load_model(\"a1_variant_model.keras\")\n",
        "res = model.evaluate(test_dataset)\n",
        "print(\"Test Loss:\", res[0])\n",
        "print(\"Test Accuracy:\", res[1])\n",
        "\n",
        "# Get predictions\n",
        "y_pred_probs = model.predict(test_dataset)\n",
        "y_pred = np.argmax(y_pred_probs, axis=1)\n",
        "y_true = np.argmax(y_test_cat, axis=1)\n",
        "\n",
        "# Metrics\n",
        "oa = accuracy_score(y_true, y_pred)\n",
        "kappa = cohen_kappa_score(y_true, y_pred)\n",
        "f1 = f1_score(y_true, y_pred, average='macro')\n",
        "report = classification_report(y_true, y_pred, output_dict=True)\n",
        "aa = np.mean([report[str(i)]['recall'] for i in range(1, 16) if str(i) in report])\n",
        "\n",
        "print(f\"OA: {oa:.4f}, AA: {aa:.4f}, Kappa: {kappa:.4f}, Macro F1: {f1:.4f}\")\n"
      ]
    },
    {
      "cell_type": "markdown",
      "metadata": {
        "id": "NQcE5q29K1Oa"
      },
      "source": [
        "#### pca\n",
        "\n",
        "Test Loss: 0.029735520482063293\n",
        "\n",
        "Test Accuracy: 0.9878048896789551\n",
        "\n",
        "OA: 0.9878,\n",
        "\n",
        "AA: 0.9724,\n",
        "\n",
        "Kappa: 0.9861,\n",
        "\n",
        "Macro F1: 0.9822"
      ]
    },
    {
      "cell_type": "code",
      "execution_count": null,
      "metadata": {
        "id": "xAqmIjJCK1Oa"
      },
      "outputs": [],
      "source": [
        "X_train_sel = X_train[..., topk_indices]\n",
        "X_val_sel   = X_val[..., topk_indices]\n",
        "X_test_sel  = X_test[..., topk_indices]"
      ]
    },
    {
      "cell_type": "code",
      "execution_count": null,
      "metadata": {
        "collapsed": true,
        "id": "VN2PqySZK1Oa",
        "outputId": "b4d1d8bc-2aa3-4ea5-eeab-7a47c6f7ac29"
      },
      "outputs": [
        {
          "name": "stdout",
          "output_type": "stream",
          "text": [
            "Epoch 1/100\n",
            "\u001b[1m97/97\u001b[0m \u001b[32m━━━━━━━━━━━━━━━━━━━━\u001b[0m\u001b[37m\u001b[0m \u001b[1m14s\u001b[0m 55ms/step - accuracy: 0.5533 - loss: 1.3814 - val_accuracy: 0.8922 - val_loss: 0.3336\n",
            "Epoch 2/100\n",
            "\u001b[1m97/97\u001b[0m \u001b[32m━━━━━━━━━━━━━━━━━━━━\u001b[0m\u001b[37m\u001b[0m \u001b[1m1s\u001b[0m 13ms/step - accuracy: 0.9127 - loss: 0.2595 - val_accuracy: 0.9624 - val_loss: 0.1321\n",
            "Epoch 3/100\n",
            "\u001b[1m97/97\u001b[0m \u001b[32m━━━━━━━━━━━━━━━━━━━━\u001b[0m\u001b[37m\u001b[0m \u001b[1m1s\u001b[0m 12ms/step - accuracy: 0.9527 - loss: 0.1529 - val_accuracy: 0.9829 - val_loss: 0.0675\n",
            "Epoch 4/100\n",
            "\u001b[1m97/97\u001b[0m \u001b[32m━━━━━━━━━━━━━━━━━━━━\u001b[0m\u001b[37m\u001b[0m \u001b[1m1s\u001b[0m 11ms/step - accuracy: 0.9756 - loss: 0.0681 - val_accuracy: 0.9776 - val_loss: 0.0702\n",
            "Epoch 5/100\n",
            "\u001b[1m97/97\u001b[0m \u001b[32m━━━━━━━━━━━━━━━━━━━━\u001b[0m\u001b[37m\u001b[0m \u001b[1m1s\u001b[0m 11ms/step - accuracy: 0.9680 - loss: 0.0926 - val_accuracy: 0.9439 - val_loss: 0.4198\n",
            "Epoch 6/100\n",
            "\u001b[1m97/97\u001b[0m \u001b[32m━━━━━━━━━━━━━━━━━━━━\u001b[0m\u001b[37m\u001b[0m \u001b[1m1s\u001b[0m 11ms/step - accuracy: 0.9610 - loss: 0.1846 - val_accuracy: 0.9785 - val_loss: 0.0691\n",
            "Epoch 7/100\n",
            "\u001b[1m97/97\u001b[0m \u001b[32m━━━━━━━━━━━━━━━━━━━━\u001b[0m\u001b[37m\u001b[0m \u001b[1m1s\u001b[0m 12ms/step - accuracy: 0.9856 - loss: 0.0377 - val_accuracy: 0.9902 - val_loss: 0.0299\n",
            "Epoch 8/100\n",
            "\u001b[1m97/97\u001b[0m \u001b[32m━━━━━━━━━━━━━━━━━━━━\u001b[0m\u001b[37m\u001b[0m \u001b[1m1s\u001b[0m 12ms/step - accuracy: 0.9904 - loss: 0.0325 - val_accuracy: 0.9927 - val_loss: 0.0232\n",
            "Epoch 9/100\n",
            "\u001b[1m97/97\u001b[0m \u001b[32m━━━━━━━━━━━━━━━━━━━━\u001b[0m\u001b[37m\u001b[0m \u001b[1m1s\u001b[0m 12ms/step - accuracy: 0.9931 - loss: 0.0296 - val_accuracy: 0.9941 - val_loss: 0.0170\n",
            "Epoch 10/100\n",
            "\u001b[1m97/97\u001b[0m \u001b[32m━━━━━━━━━━━━━━━━━━━━\u001b[0m\u001b[37m\u001b[0m \u001b[1m1s\u001b[0m 12ms/step - accuracy: 0.9968 - loss: 0.0097 - val_accuracy: 0.9956 - val_loss: 0.0158\n",
            "Epoch 11/100\n",
            "\u001b[1m97/97\u001b[0m \u001b[32m━━━━━━━━━━━━━━━━━━━━\u001b[0m\u001b[37m\u001b[0m \u001b[1m1s\u001b[0m 11ms/step - accuracy: 0.9986 - loss: 0.0053 - val_accuracy: 0.9951 - val_loss: 0.0183\n",
            "Epoch 12/100\n",
            "\u001b[1m97/97\u001b[0m \u001b[32m━━━━━━━━━━━━━━━━━━━━\u001b[0m\u001b[37m\u001b[0m \u001b[1m1s\u001b[0m 11ms/step - accuracy: 0.9769 - loss: 0.0762 - val_accuracy: 0.9898 - val_loss: 0.0348\n",
            "Epoch 13/100\n",
            "\u001b[1m97/97\u001b[0m \u001b[32m━━━━━━━━━━━━━━━━━━━━\u001b[0m\u001b[37m\u001b[0m \u001b[1m1s\u001b[0m 11ms/step - accuracy: 0.9959 - loss: 0.0160 - val_accuracy: 0.9941 - val_loss: 0.0178\n",
            "Epoch 14/100\n",
            "\u001b[1m97/97\u001b[0m \u001b[32m━━━━━━━━━━━━━━━━━━━━\u001b[0m\u001b[37m\u001b[0m \u001b[1m1s\u001b[0m 11ms/step - accuracy: 0.9964 - loss: 0.0138 - val_accuracy: 0.9912 - val_loss: 0.0368\n",
            "Epoch 15/100\n",
            "\u001b[1m97/97\u001b[0m \u001b[32m━━━━━━━━━━━━━━━━━━━━\u001b[0m\u001b[37m\u001b[0m \u001b[1m1s\u001b[0m 11ms/step - accuracy: 0.9950 - loss: 0.0159 - val_accuracy: 0.9917 - val_loss: 0.0319\n",
            "Epoch 16/100\n",
            "\u001b[1m97/97\u001b[0m \u001b[32m━━━━━━━━━━━━━━━━━━━━\u001b[0m\u001b[37m\u001b[0m \u001b[1m1s\u001b[0m 11ms/step - accuracy: 0.9924 - loss: 0.0322 - val_accuracy: 0.9795 - val_loss: 0.0994\n",
            "Epoch 17/100\n",
            "\u001b[1m97/97\u001b[0m \u001b[32m━━━━━━━━━━━━━━━━━━━━\u001b[0m\u001b[37m\u001b[0m \u001b[1m1s\u001b[0m 11ms/step - accuracy: 0.9871 - loss: 0.0462 - val_accuracy: 0.9751 - val_loss: 0.0854\n",
            "Epoch 18/100\n",
            "\u001b[1m97/97\u001b[0m \u001b[32m━━━━━━━━━━━━━━━━━━━━\u001b[0m\u001b[37m\u001b[0m \u001b[1m1s\u001b[0m 11ms/step - accuracy: 0.9729 - loss: 0.1250 - val_accuracy: 0.9946 - val_loss: 0.0169\n",
            "Epoch 19/100\n",
            "\u001b[1m97/97\u001b[0m \u001b[32m━━━━━━━━━━━━━━━━━━━━\u001b[0m\u001b[37m\u001b[0m \u001b[1m1s\u001b[0m 12ms/step - accuracy: 0.9951 - loss: 0.0163 - val_accuracy: 0.9917 - val_loss: 0.0237\n",
            "Epoch 20/100\n",
            "\u001b[1m97/97\u001b[0m \u001b[32m━━━━━━━━━━━━━━━━━━━━\u001b[0m\u001b[37m\u001b[0m \u001b[1m1s\u001b[0m 12ms/step - accuracy: 0.9919 - loss: 0.0316 - val_accuracy: 0.9971 - val_loss: 0.0133\n",
            "Epoch 21/100\n",
            "\u001b[1m97/97\u001b[0m \u001b[32m━━━━━━━━━━━━━━━━━━━━\u001b[0m\u001b[37m\u001b[0m \u001b[1m1s\u001b[0m 13ms/step - accuracy: 0.9980 - loss: 0.0070 - val_accuracy: 0.9980 - val_loss: 0.0075\n",
            "Epoch 22/100\n",
            "\u001b[1m97/97\u001b[0m \u001b[32m━━━━━━━━━━━━━━━━━━━━\u001b[0m\u001b[37m\u001b[0m \u001b[1m1s\u001b[0m 11ms/step - accuracy: 1.0000 - loss: 0.0011 - val_accuracy: 0.9980 - val_loss: 0.0065\n",
            "Epoch 23/100\n",
            "\u001b[1m97/97\u001b[0m \u001b[32m━━━━━━━━━━━━━━━━━━━━\u001b[0m\u001b[37m\u001b[0m \u001b[1m1s\u001b[0m 11ms/step - accuracy: 0.9998 - loss: 5.4719e-04 - val_accuracy: 0.9976 - val_loss: 0.0067\n",
            "Epoch 24/100\n",
            "\u001b[1m97/97\u001b[0m \u001b[32m━━━━━━━━━━━━━━━━━━━━\u001b[0m\u001b[37m\u001b[0m \u001b[1m1s\u001b[0m 12ms/step - accuracy: 0.9990 - loss: 0.0029 - val_accuracy: 0.9985 - val_loss: 0.0050\n",
            "Epoch 25/100\n",
            "\u001b[1m97/97\u001b[0m \u001b[32m━━━━━━━━━━━━━━━━━━━━\u001b[0m\u001b[37m\u001b[0m \u001b[1m1s\u001b[0m 11ms/step - accuracy: 0.9993 - loss: 0.0025 - val_accuracy: 0.9985 - val_loss: 0.0065\n",
            "Epoch 26/100\n",
            "\u001b[1m97/97\u001b[0m \u001b[32m━━━━━━━━━━━━━━━━━━━━\u001b[0m\u001b[37m\u001b[0m \u001b[1m1s\u001b[0m 11ms/step - accuracy: 1.0000 - loss: 4.9332e-04 - val_accuracy: 0.9985 - val_loss: 0.0051\n",
            "Epoch 27/100\n",
            "\u001b[1m97/97\u001b[0m \u001b[32m━━━━━━━━━━━━━━━━━━━━\u001b[0m\u001b[37m\u001b[0m \u001b[1m1s\u001b[0m 11ms/step - accuracy: 0.9997 - loss: 4.9291e-04 - val_accuracy: 0.9985 - val_loss: 0.0059\n",
            "Epoch 28/100\n",
            "\u001b[1m97/97\u001b[0m \u001b[32m━━━━━━━━━━━━━━━━━━━━\u001b[0m\u001b[37m\u001b[0m \u001b[1m1s\u001b[0m 11ms/step - accuracy: 1.0000 - loss: 2.4473e-04 - val_accuracy: 0.9985 - val_loss: 0.0060\n",
            "Epoch 29/100\n",
            "\u001b[1m97/97\u001b[0m \u001b[32m━━━━━━━━━━━━━━━━━━━━\u001b[0m\u001b[37m\u001b[0m \u001b[1m1s\u001b[0m 11ms/step - accuracy: 1.0000 - loss: 1.3856e-04 - val_accuracy: 0.9985 - val_loss: 0.0063\n",
            "Epoch 30/100\n",
            "\u001b[1m97/97\u001b[0m \u001b[32m━━━━━━━━━━━━━━━━━━━━\u001b[0m\u001b[37m\u001b[0m \u001b[1m1s\u001b[0m 11ms/step - accuracy: 1.0000 - loss: 1.1756e-04 - val_accuracy: 0.9985 - val_loss: 0.0060\n",
            "Epoch 31/100\n",
            "\u001b[1m97/97\u001b[0m \u001b[32m━━━━━━━━━━━━━━━━━━━━\u001b[0m\u001b[37m\u001b[0m \u001b[1m1s\u001b[0m 11ms/step - accuracy: 1.0000 - loss: 1.0665e-04 - val_accuracy: 0.9985 - val_loss: 0.0060\n",
            "Epoch 32/100\n",
            "\u001b[1m97/97\u001b[0m \u001b[32m━━━━━━━━━━━━━━━━━━━━\u001b[0m\u001b[37m\u001b[0m \u001b[1m1s\u001b[0m 11ms/step - accuracy: 1.0000 - loss: 8.0350e-05 - val_accuracy: 0.9985 - val_loss: 0.0060\n",
            "Epoch 33/100\n",
            "\u001b[1m97/97\u001b[0m \u001b[32m━━━━━━━━━━━━━━━━━━━━\u001b[0m\u001b[37m\u001b[0m \u001b[1m1s\u001b[0m 11ms/step - accuracy: 1.0000 - loss: 7.3981e-05 - val_accuracy: 0.9985 - val_loss: 0.0057\n",
            "Epoch 34/100\n",
            "\u001b[1m97/97\u001b[0m \u001b[32m━━━━━━━━━━━━━━━━━━━━\u001b[0m\u001b[37m\u001b[0m \u001b[1m1s\u001b[0m 11ms/step - accuracy: 1.0000 - loss: 5.4535e-05 - val_accuracy: 0.9985 - val_loss: 0.0058\n",
            "\u001b[1m33/33\u001b[0m \u001b[32m━━━━━━━━━━━━━━━━━━━━\u001b[0m\u001b[37m\u001b[0m \u001b[1m2s\u001b[0m 20ms/step - accuracy: 0.9994 - loss: 0.0035\n",
            "Test Loss: 0.003621302777901292\n",
            "Test Accuracy: 0.9995121955871582\n",
            "\u001b[1m33/33\u001b[0m \u001b[32m━━━━━━━━━━━━━━━━━━━━\u001b[0m\u001b[37m\u001b[0m \u001b[1m2s\u001b[0m 26ms/step\n",
            "OA: 0.9995, AA: 0.9965, Kappa: 0.9994, Macro F1: 0.9980\n"
          ]
        }
      ],
      "source": [
        "# Topological features for mbsa\n",
        "topo_train = generate_topo_features(X_train_sel)\n",
        "topo_val = generate_topo_features(X_val_sel)\n",
        "topo_test = generate_topo_features(X_test_sel)\n",
        "\n",
        "# Model\n",
        "model = build_topomorph_model(input_shape=X_train_sel.shape[1:], topo_dim=1, num_classes=num_classes)\n",
        "model.compile(optimizer='adam', loss='categorical_crossentropy', metrics=['accuracy'])\n",
        "\n",
        "# Datasets\n",
        "train_dataset = tf.data.Dataset.from_tensor_slices(((X_train_sel, topo_train), y_train_cat)).shuffle(2048).batch(64)\n",
        "val_dataset   = tf.data.Dataset.from_tensor_slices(((X_val_sel, topo_val), y_val_cat)).batch(64)\n",
        "test_dataset  = tf.data.Dataset.from_tensor_slices(((X_test_sel, topo_test), y_test_cat)).batch(64)\n",
        "\n",
        "# Callbacks\n",
        "callbacks = [\n",
        "    EarlyStopping(monitor='val_loss', patience=10, restore_best_weights=True),\n",
        "    ModelCheckpoint(\"a1_variant_model.keras\", monitor='val_accuracy', save_best_only=True)\n",
        "]\n",
        "\n",
        "# Train\n",
        "history = model.fit(train_dataset, validation_data=val_dataset, epochs=100, callbacks=callbacks)\n",
        "\n",
        "# Evaluate\n",
        "model = load_model(\"a1_variant_model.keras\")\n",
        "res = model.evaluate(test_dataset)\n",
        "print(\"Test Loss:\", res[0])\n",
        "print(\"Test Accuracy:\", res[1])\n",
        "\n",
        "# Get predictions\n",
        "y_pred_probs = model.predict(test_dataset)\n",
        "y_pred = np.argmax(y_pred_probs, axis=1)\n",
        "y_true = np.argmax(y_test_cat, axis=1)\n",
        "\n",
        "# Metrics\n",
        "oa = accuracy_score(y_true, y_pred)\n",
        "kappa = cohen_kappa_score(y_true, y_pred)\n",
        "f1 = f1_score(y_true, y_pred, average='macro')\n",
        "report = classification_report(y_true, y_pred, output_dict=True)\n",
        "aa = np.mean([report[str(i)]['recall'] for i in range(1, 16) if str(i) in report])\n",
        "\n",
        "print(f\"OA: {oa:.4f}, AA: {aa:.4f}, Kappa: {kappa:.4f}, Macro F1: {f1:.4f}\")"
      ]
    },
    {
      "cell_type": "markdown",
      "metadata": {
        "id": "LaxDDW33K1Ob"
      },
      "source": [
        "#### mbsa\n",
        "Test Loss: 0.003621302777901292\n",
        "\n",
        "Test Accuracy: 0.9995121955871582\n",
        "\n",
        "OA: 0.9995,\n",
        "\n",
        "AA: 0.9965,\n",
        "\n",
        "Kappa: 0.9994,\n",
        "\n",
        "Macro F1: 0.9980"
      ]
    },
    {
      "cell_type": "markdown",
      "metadata": {
        "id": "C2D6ZbIAK1Ob"
      },
      "source": [
        "## ✅ A2: Persistent Homology Gate On vs Off"
      ]
    },
    {
      "cell_type": "markdown",
      "metadata": {
        "id": "5TidZ4mGK1Ob"
      },
      "source": [
        "### To disable topo gate:"
      ]
    },
    {
      "cell_type": "code",
      "execution_count": null,
      "metadata": {
        "id": "pfsDWYI9K1Ob"
      },
      "outputs": [],
      "source": [
        "def build_topomorph_model_no_topo(input_shape, num_classes):\n",
        "    input_img = layers.Input(shape=input_shape)\n",
        "    x_spatial = RGConvBlock(input_img, filters=64)\n",
        "    x_spectral = UNetPlusPlusDecoder(input_img, filters=64)\n",
        "    combined = layers.Add()([x_spatial, x_spectral])\n",
        "    pooled = layers.GlobalAveragePooling2D()(combined)\n",
        "    output = layers.Dense(num_classes, activation='softmax')(pooled)\n",
        "    model = models.Model(inputs=input_img, outputs=output)\n",
        "    return model\n"
      ]
    },
    {
      "cell_type": "code",
      "execution_count": null,
      "metadata": {
        "id": "r_n9Hi8XK1Ob"
      },
      "outputs": [],
      "source": [
        "# If using MBSA\n",
        "X_train_sel = X_train[..., topk_indices]\n",
        "X_val_sel   = X_val[..., topk_indices]\n",
        "X_test_sel  = X_test[..., topk_indices]"
      ]
    },
    {
      "cell_type": "code",
      "execution_count": null,
      "metadata": {
        "id": "2SzgHrXaK1Ob"
      },
      "outputs": [],
      "source": [
        "train_dataset = tf.data.Dataset.from_tensor_slices((X_train_sel, y_train_cat)).shuffle(2048).batch(64)\n",
        "val_dataset   = tf.data.Dataset.from_tensor_slices((X_val_sel, y_val_cat)).batch(64)\n",
        "test_dataset  = tf.data.Dataset.from_tensor_slices((X_test_sel, y_test_cat)).batch(64)\n"
      ]
    },
    {
      "cell_type": "markdown",
      "metadata": {
        "id": "G-vUF6mZK1Oc"
      },
      "source": [
        "### Build and train the \"no-topo\" model:"
      ]
    },
    {
      "cell_type": "code",
      "execution_count": null,
      "metadata": {
        "id": "14R9Hs7AK1Oc",
        "outputId": "d681575c-7140-492e-ed1c-99a20c525394"
      },
      "outputs": [
        {
          "name": "stdout",
          "output_type": "stream",
          "text": [
            "Epoch 1/100\n",
            "\u001b[1m97/97\u001b[0m \u001b[32m━━━━━━━━━━━━━━━━━━━━\u001b[0m\u001b[37m\u001b[0m \u001b[1m14s\u001b[0m 54ms/step - accuracy: 0.5888 - loss: 1.2917 - val_accuracy: 0.8444 - val_loss: 0.4396\n",
            "Epoch 2/100\n",
            "\u001b[1m97/97\u001b[0m \u001b[32m━━━━━━━━━━━━━━━━━━━━\u001b[0m\u001b[37m\u001b[0m \u001b[1m1s\u001b[0m 12ms/step - accuracy: 0.9120 - loss: 0.2867 - val_accuracy: 0.9541 - val_loss: 0.1367\n",
            "Epoch 3/100\n",
            "\u001b[1m97/97\u001b[0m \u001b[32m━━━━━━━━━━━━━━━━━━━━\u001b[0m\u001b[37m\u001b[0m \u001b[1m1s\u001b[0m 11ms/step - accuracy: 0.9568 - loss: 0.1347 - val_accuracy: 0.8849 - val_loss: 0.3350\n",
            "Epoch 4/100\n",
            "\u001b[1m97/97\u001b[0m \u001b[32m━━━━━━━━━━━━━━━━━━━━\u001b[0m\u001b[37m\u001b[0m \u001b[1m1s\u001b[0m 12ms/step - accuracy: 0.9554 - loss: 0.1327 - val_accuracy: 0.9585 - val_loss: 0.1148\n",
            "Epoch 5/100\n",
            "\u001b[1m97/97\u001b[0m \u001b[32m━━━━━━━━━━━━━━━━━━━━\u001b[0m\u001b[37m\u001b[0m \u001b[1m1s\u001b[0m 12ms/step - accuracy: 0.9686 - loss: 0.0838 - val_accuracy: 0.9756 - val_loss: 0.0997\n",
            "Epoch 6/100\n",
            "\u001b[1m97/97\u001b[0m \u001b[32m━━━━━━━━━━━━━━━━━━━━\u001b[0m\u001b[37m\u001b[0m \u001b[1m1s\u001b[0m 13ms/step - accuracy: 0.9780 - loss: 0.0850 - val_accuracy: 0.9917 - val_loss: 0.0370\n",
            "Epoch 7/100\n",
            "\u001b[1m97/97\u001b[0m \u001b[32m━━━━━━━━━━━━━━━━━━━━\u001b[0m\u001b[37m\u001b[0m \u001b[1m1s\u001b[0m 11ms/step - accuracy: 0.9912 - loss: 0.0233 - val_accuracy: 0.9873 - val_loss: 0.0373\n",
            "Epoch 8/100\n",
            "\u001b[1m97/97\u001b[0m \u001b[32m━━━━━━━━━━━━━━━━━━━━\u001b[0m\u001b[37m\u001b[0m \u001b[1m1s\u001b[0m 11ms/step - accuracy: 0.9918 - loss: 0.0285 - val_accuracy: 0.9898 - val_loss: 0.0320\n",
            "Epoch 9/100\n",
            "\u001b[1m97/97\u001b[0m \u001b[32m━━━━━━━━━━━━━━━━━━━━\u001b[0m\u001b[37m\u001b[0m \u001b[1m1s\u001b[0m 11ms/step - accuracy: 0.9968 - loss: 0.0166 - val_accuracy: 0.9888 - val_loss: 0.0427\n",
            "Epoch 10/100\n",
            "\u001b[1m97/97\u001b[0m \u001b[32m━━━━━━━━━━━━━━━━━━━━\u001b[0m\u001b[37m\u001b[0m \u001b[1m1s\u001b[0m 11ms/step - accuracy: 0.9901 - loss: 0.0275 - val_accuracy: 0.9859 - val_loss: 0.0426\n",
            "Epoch 11/100\n",
            "\u001b[1m97/97\u001b[0m \u001b[32m━━━━━━━━━━━━━━━━━━━━\u001b[0m\u001b[37m\u001b[0m \u001b[1m1s\u001b[0m 11ms/step - accuracy: 0.9857 - loss: 0.0519 - val_accuracy: 0.9624 - val_loss: 0.1233\n",
            "Epoch 12/100\n",
            "\u001b[1m97/97\u001b[0m \u001b[32m━━━━━━━━━━━━━━━━━━━━\u001b[0m\u001b[37m\u001b[0m \u001b[1m1s\u001b[0m 11ms/step - accuracy: 0.9815 - loss: 0.0659 - val_accuracy: 0.9859 - val_loss: 0.0487\n",
            "Epoch 13/100\n",
            "\u001b[1m97/97\u001b[0m \u001b[32m━━━━━━━━━━━━━━━━━━━━\u001b[0m\u001b[37m\u001b[0m \u001b[1m1s\u001b[0m 12ms/step - accuracy: 0.9895 - loss: 0.0377 - val_accuracy: 0.9937 - val_loss: 0.0175\n",
            "Epoch 14/100\n",
            "\u001b[1m97/97\u001b[0m \u001b[32m━━━━━━━━━━━━━━━━━━━━\u001b[0m\u001b[37m\u001b[0m \u001b[1m1s\u001b[0m 12ms/step - accuracy: 0.9977 - loss: 0.0065 - val_accuracy: 0.9946 - val_loss: 0.0155\n",
            "Epoch 15/100\n",
            "\u001b[1m97/97\u001b[0m \u001b[32m━━━━━━━━━━━━━━━━━━━━\u001b[0m\u001b[37m\u001b[0m \u001b[1m1s\u001b[0m 12ms/step - accuracy: 0.9965 - loss: 0.0127 - val_accuracy: 0.9971 - val_loss: 0.0119\n",
            "Epoch 16/100\n",
            "\u001b[1m97/97\u001b[0m \u001b[32m━━━━━━━━━━━━━━━━━━━━\u001b[0m\u001b[37m\u001b[0m \u001b[1m1s\u001b[0m 11ms/step - accuracy: 0.9959 - loss: 0.0100 - val_accuracy: 0.9961 - val_loss: 0.0138\n",
            "Epoch 17/100\n",
            "\u001b[1m97/97\u001b[0m \u001b[32m━━━━━━━━━━━━━━━━━━━━\u001b[0m\u001b[37m\u001b[0m \u001b[1m1s\u001b[0m 12ms/step - accuracy: 0.9981 - loss: 0.0055 - val_accuracy: 0.9980 - val_loss: 0.0089\n",
            "Epoch 18/100\n",
            "\u001b[1m97/97\u001b[0m \u001b[32m━━━━━━━━━━━━━━━━━━━━\u001b[0m\u001b[37m\u001b[0m \u001b[1m1s\u001b[0m 11ms/step - accuracy: 1.0000 - loss: 0.0011 - val_accuracy: 0.9971 - val_loss: 0.0098\n",
            "Epoch 19/100\n",
            "\u001b[1m97/97\u001b[0m \u001b[32m━━━━━━━━━━━━━━━━━━━━\u001b[0m\u001b[37m\u001b[0m \u001b[1m1s\u001b[0m 11ms/step - accuracy: 1.0000 - loss: 3.5654e-04 - val_accuracy: 0.9971 - val_loss: 0.0108\n",
            "Epoch 20/100\n",
            "\u001b[1m97/97\u001b[0m \u001b[32m━━━━━━━━━━━━━━━━━━━━\u001b[0m\u001b[37m\u001b[0m \u001b[1m1s\u001b[0m 11ms/step - accuracy: 1.0000 - loss: 2.8548e-04 - val_accuracy: 0.9971 - val_loss: 0.0100\n",
            "Epoch 21/100\n",
            "\u001b[1m97/97\u001b[0m \u001b[32m━━━━━━━━━━━━━━━━━━━━\u001b[0m\u001b[37m\u001b[0m \u001b[1m1s\u001b[0m 11ms/step - accuracy: 1.0000 - loss: 1.9895e-04 - val_accuracy: 0.9971 - val_loss: 0.0104\n",
            "Epoch 22/100\n",
            "\u001b[1m97/97\u001b[0m \u001b[32m━━━━━━━━━━━━━━━━━━━━\u001b[0m\u001b[37m\u001b[0m \u001b[1m1s\u001b[0m 11ms/step - accuracy: 1.0000 - loss: 1.1188e-04 - val_accuracy: 0.9971 - val_loss: 0.0104\n",
            "Epoch 23/100\n",
            "\u001b[1m97/97\u001b[0m \u001b[32m━━━━━━━━━━━━━━━━━━━━\u001b[0m\u001b[37m\u001b[0m \u001b[1m1s\u001b[0m 11ms/step - accuracy: 1.0000 - loss: 7.4327e-05 - val_accuracy: 0.9971 - val_loss: 0.0107\n",
            "Epoch 24/100\n",
            "\u001b[1m97/97\u001b[0m \u001b[32m━━━━━━━━━━━━━━━━━━━━\u001b[0m\u001b[37m\u001b[0m \u001b[1m1s\u001b[0m 11ms/step - accuracy: 1.0000 - loss: 7.8574e-05 - val_accuracy: 0.9971 - val_loss: 0.0103\n",
            "Epoch 25/100\n",
            "\u001b[1m97/97\u001b[0m \u001b[32m━━━━━━━━━━━━━━━━━━━━\u001b[0m\u001b[37m\u001b[0m \u001b[1m1s\u001b[0m 11ms/step - accuracy: 1.0000 - loss: 8.3220e-05 - val_accuracy: 0.9971 - val_loss: 0.0103\n",
            "Epoch 26/100\n",
            "\u001b[1m97/97\u001b[0m \u001b[32m━━━━━━━━━━━━━━━━━━━━\u001b[0m\u001b[37m\u001b[0m \u001b[1m1s\u001b[0m 12ms/step - accuracy: 1.0000 - loss: 5.0716e-05 - val_accuracy: 0.9971 - val_loss: 0.0110\n",
            "Epoch 27/100\n",
            "\u001b[1m97/97\u001b[0m \u001b[32m━━━━━━━━━━━━━━━━━━━━\u001b[0m\u001b[37m\u001b[0m \u001b[1m1s\u001b[0m 11ms/step - accuracy: 1.0000 - loss: 2.2025e-04 - val_accuracy: 0.9951 - val_loss: 0.0214\n"
          ]
        }
      ],
      "source": [
        "model = build_topomorph_model_no_topo(input_shape=X_train_sel.shape[1:], num_classes=num_classes)\n",
        "model.compile(optimizer='adam', loss='categorical_crossentropy', metrics=['accuracy'])\n",
        "callbacks = [\n",
        "    EarlyStopping(monitor='val_loss', patience=10, restore_best_weights=True),\n",
        "    ModelCheckpoint(\"a2_no_topo_model.keras\", monitor='val_accuracy', save_best_only=True)\n",
        "]\n",
        "history = model.fit(train_dataset, validation_data=val_dataset, epochs=100, callbacks=callbacks)"
      ]
    },
    {
      "cell_type": "code",
      "execution_count": null,
      "metadata": {
        "id": "a8H5jBK2K1Oc",
        "outputId": "bf4f7e88-3956-4d59-fb49-ff55bf11b56a"
      },
      "outputs": [
        {
          "name": "stdout",
          "output_type": "stream",
          "text": [
            "\u001b[1m33/33\u001b[0m \u001b[32m━━━━━━━━━━━━━━━━━━━━\u001b[0m\u001b[37m\u001b[0m \u001b[1m2s\u001b[0m 20ms/step - accuracy: 0.9994 - loss: 0.0051\n",
            "Test Loss: 0.004483590833842754\n",
            "Test Accuracy: 0.9990243911743164\n",
            "\u001b[1m33/33\u001b[0m \u001b[32m━━━━━━━━━━━━━━━━━━━━\u001b[0m\u001b[37m\u001b[0m \u001b[1m2s\u001b[0m 25ms/step\n",
            "A2 (No Topo) → OA: 0.9990, AA: 0.9930, Kappa: 0.9989, F1: 0.9960\n"
          ]
        }
      ],
      "source": [
        "from sklearn.metrics import accuracy_score, classification_report, cohen_kappa_score, f1_score\n",
        "\n",
        "model = load_model(\"a2_no_topo_model.keras\")\n",
        "res = model.evaluate(test_dataset)\n",
        "print(\"Test Loss:\", res[0])\n",
        "print(\"Test Accuracy:\", res[1])\n",
        "\n",
        "# Predictions\n",
        "y_pred_probs = model.predict(test_dataset)\n",
        "y_pred = np.argmax(y_pred_probs, axis=1)\n",
        "y_true = np.argmax(y_test_cat, axis=1)\n",
        "\n",
        "# Metrics\n",
        "oa = accuracy_score(y_true, y_pred)\n",
        "kappa = cohen_kappa_score(y_true, y_pred)\n",
        "f1 = f1_score(y_true, y_pred, average='macro')\n",
        "report = classification_report(y_true, y_pred, output_dict=True)\n",
        "aa = np.mean([report[str(i)]['recall'] for i in range(1, 16) if str(i) in report])\n",
        "\n",
        "print(f\"A2 (No Topo) → OA: {oa:.4f}, AA: {aa:.4f}, Kappa: {kappa:.4f}, F1: {f1:.4f}\")"
      ]
    },
    {
      "cell_type": "markdown",
      "metadata": {
        "id": "AeQvC0kMK1Od"
      },
      "source": [
        "accuracy: 0.9994 - loss: 0.0051\n",
        "\n",
        "Test Loss: 0.004483590833842754\n",
        "\n",
        "Test Accuracy: 0.9990243911743164\n",
        "\n",
        "A2 (No Topo) → OA: 0.9990,\n",
        "\n",
        "AA: 0.9930,\n",
        "\n",
        "Kappa: 0.9989,\n",
        "\n",
        "F1: 0.9960"
      ]
    },
    {
      "cell_type": "markdown",
      "metadata": {
        "id": "VKSeGS2rK1Oe"
      },
      "source": [
        "Cross-Gating (current) – implemented via TopoAttentionFusion(...)\n",
        "\n"
      ]
    },
    {
      "cell_type": "markdown",
      "metadata": {
        "id": "36FHAIQWK1Oe"
      },
      "source": [
        "## ✅ A3: Fusion Method – Cross-Gating vs Late Fusion vs Additive"
      ]
    },
    {
      "cell_type": "markdown",
      "metadata": {
        "id": "idSmdttnK1Oe"
      },
      "source": [
        "### Late Fusion (no interaction, average outputs):"
      ]
    },
    {
      "cell_type": "code",
      "execution_count": null,
      "metadata": {
        "id": "x7KdFiUJK1Oe"
      },
      "outputs": [],
      "source": [
        "def build_latefusion_model(input_shape, topo_dim, num_classes):\n",
        "    input_img = layers.Input(shape=input_shape)\n",
        "    input_topo = layers.Input(shape=(topo_dim,))\n",
        "    x_spatial = RGConvBlock(input_img, filters=64)\n",
        "    x_spectral = UNetPlusPlusDecoder(input_img, filters=64)\n",
        "\n",
        "    pooled_img = layers.GlobalAveragePooling2D()(x_spatial)\n",
        "    pooled_spec = layers.GlobalAveragePooling2D()(x_spectral)\n",
        "    topo_dense = layers.Dense(64, activation='relu')(input_topo)\n",
        "\n",
        "    combined = layers.Average()([pooled_img, pooled_spec, topo_dense])\n",
        "    output = layers.Dense(num_classes, activation='softmax')(combined)\n",
        "    return models.Model(inputs=[input_img, input_topo], outputs=output)\n"
      ]
    },
    {
      "cell_type": "code",
      "execution_count": null,
      "metadata": {
        "id": "nt2lIHbUK1Oe",
        "outputId": "6eb0a76a-2972-4f6b-d7af-589882abab61"
      },
      "outputs": [
        {
          "name": "stdout",
          "output_type": "stream",
          "text": [
            "Epoch 1/100\n",
            "\u001b[1m97/97\u001b[0m \u001b[32m━━━━━━━━━━━━━━━━━━━━\u001b[0m\u001b[37m\u001b[0m \u001b[1m14s\u001b[0m 57ms/step - accuracy: 0.0095 - loss: nan - val_accuracy: 0.0088 - val_loss: nan\n",
            "Epoch 2/100\n",
            "\u001b[1m97/97\u001b[0m \u001b[32m━━━━━━━━━━━━━━━━━━━━\u001b[0m\u001b[37m\u001b[0m \u001b[1m1s\u001b[0m 11ms/step - accuracy: 0.0093 - loss: nan - val_accuracy: 0.0088 - val_loss: nan\n",
            "Epoch 3/100\n",
            "\u001b[1m97/97\u001b[0m \u001b[32m━━━━━━━━━━━━━━━━━━━━\u001b[0m\u001b[37m\u001b[0m \u001b[1m1s\u001b[0m 11ms/step - accuracy: 0.0107 - loss: nan - val_accuracy: 0.0088 - val_loss: nan\n",
            "Epoch 4/100\n",
            "\u001b[1m97/97\u001b[0m \u001b[32m━━━━━━━━━━━━━━━━━━━━\u001b[0m\u001b[37m\u001b[0m \u001b[1m1s\u001b[0m 11ms/step - accuracy: 0.0102 - loss: nan - val_accuracy: 0.0088 - val_loss: nan\n",
            "Epoch 5/100\n",
            "\u001b[1m97/97\u001b[0m \u001b[32m━━━━━━━━━━━━━━━━━━━━\u001b[0m\u001b[37m\u001b[0m \u001b[1m1s\u001b[0m 11ms/step - accuracy: 0.0083 - loss: nan - val_accuracy: 0.0088 - val_loss: nan\n",
            "Epoch 6/100\n",
            "\u001b[1m97/97\u001b[0m \u001b[32m━━━━━━━━━━━━━━━━━━━━\u001b[0m\u001b[37m\u001b[0m \u001b[1m1s\u001b[0m 11ms/step - accuracy: 0.0092 - loss: nan - val_accuracy: 0.0088 - val_loss: nan\n",
            "Epoch 7/100\n",
            "\u001b[1m97/97\u001b[0m \u001b[32m━━━━━━━━━━━━━━━━━━━━\u001b[0m\u001b[37m\u001b[0m \u001b[1m1s\u001b[0m 11ms/step - accuracy: 0.0089 - loss: nan - val_accuracy: 0.0088 - val_loss: nan\n",
            "Epoch 8/100\n",
            "\u001b[1m97/97\u001b[0m \u001b[32m━━━━━━━━━━━━━━━━━━━━\u001b[0m\u001b[37m\u001b[0m \u001b[1m1s\u001b[0m 11ms/step - accuracy: 0.0117 - loss: nan - val_accuracy: 0.0088 - val_loss: nan\n",
            "Epoch 9/100\n",
            "\u001b[1m97/97\u001b[0m \u001b[32m━━━━━━━━━━━━━━━━━━━━\u001b[0m\u001b[37m\u001b[0m \u001b[1m1s\u001b[0m 11ms/step - accuracy: 0.0100 - loss: nan - val_accuracy: 0.0088 - val_loss: nan\n",
            "Epoch 10/100\n",
            "\u001b[1m97/97\u001b[0m \u001b[32m━━━━━━━━━━━━━━━━━━━━\u001b[0m\u001b[37m\u001b[0m \u001b[1m1s\u001b[0m 11ms/step - accuracy: 0.0099 - loss: nan - val_accuracy: 0.0088 - val_loss: nan\n",
            "Epoch 11/100\n",
            "\u001b[1m97/97\u001b[0m \u001b[32m━━━━━━━━━━━━━━━━━━━━\u001b[0m\u001b[37m\u001b[0m \u001b[1m1s\u001b[0m 11ms/step - accuracy: 0.0082 - loss: nan - val_accuracy: 0.0088 - val_loss: nan\n",
            "\u001b[1m33/33\u001b[0m \u001b[32m━━━━━━━━━━━━━━━━━━━━\u001b[0m\u001b[37m\u001b[0m \u001b[1m3s\u001b[0m 20ms/step - accuracy: 0.0083 - loss: nan\n"
          ]
        }
      ],
      "source": [
        "model = build_latefusion_model(input_shape=X_train_sel.shape[1:], topo_dim=topo_train.shape[1], num_classes=num_classes)\n",
        "model.compile(optimizer='adam', loss='categorical_crossentropy', metrics=['accuracy'])\n",
        "\n",
        "train_dataset = tf.data.Dataset.from_tensor_slices(((X_train_sel, topo_train), y_train_cat)).shuffle(2048).batch(64)\n",
        "val_dataset   = tf.data.Dataset.from_tensor_slices(((X_val_sel, topo_val), y_val_cat)).batch(64)\n",
        "test_dataset  = tf.data.Dataset.from_tensor_slices(((X_test_sel, topo_test), y_test_cat)).batch(64)\n",
        "\n",
        "callbacks = [\n",
        "    EarlyStopping(monitor='val_loss', patience=10, restore_best_weights=True),\n",
        "    ModelCheckpoint(\"a3_latefusion_model.keras\", monitor='val_accuracy', save_best_only=True)\n",
        "]\n",
        "\n",
        "history = model.fit(train_dataset, validation_data=val_dataset, epochs=100, callbacks=callbacks)\n",
        "model = load_model(\"a3_latefusion_model.keras\")\n",
        "res = model.evaluate(test_dataset)"
      ]
    },
    {
      "cell_type": "code",
      "execution_count": null,
      "metadata": {
        "id": "EZ1wWRuAK1Oe",
        "outputId": "4dc98729-2d27-4c2c-950d-9df40c1055fb"
      },
      "outputs": [
        {
          "name": "stdout",
          "output_type": "stream",
          "text": [
            "\u001b[1m33/33\u001b[0m \u001b[32m━━━━━━━━━━━━━━━━━━━━\u001b[0m\u001b[37m\u001b[0m \u001b[1m2s\u001b[0m 31ms/step\n",
            "Overall Accuracy (OA): 0.0044\n",
            "Average Accuracy (AA): 0.0625\n",
            "Precision (macro): 0.0003\n",
            "Recall (macro):    0.0625\n",
            "F1-score (macro):  0.0005\n",
            "Mean IoU (mIoU):   0.0003\n",
            "\n",
            "Classification Report:\n",
            "              precision    recall  f1-score   support\n",
            "\n",
            "           0     0.0044    1.0000    0.0087         9\n",
            "           1     0.0000    0.0000    0.0000       285\n",
            "           2     0.0000    0.0000    0.0000       166\n",
            "           3     0.0000    0.0000    0.0000        48\n",
            "           4     0.0000    0.0000    0.0000        97\n",
            "           5     0.0000    0.0000    0.0000       146\n",
            "           6     0.0000    0.0000    0.0000         6\n",
            "           7     0.0000    0.0000    0.0000        95\n",
            "           8     0.0000    0.0000    0.0000         4\n",
            "           9     0.0000    0.0000    0.0000       195\n",
            "          10     0.0000    0.0000    0.0000       491\n",
            "          11     0.0000    0.0000    0.0000       118\n",
            "          12     0.0000    0.0000    0.0000        41\n",
            "          13     0.0000    0.0000    0.0000       253\n",
            "          14     0.0000    0.0000    0.0000        77\n",
            "          15     0.0000    0.0000    0.0000        19\n",
            "\n",
            "    accuracy                         0.0044      2050\n",
            "   macro avg     0.0003    0.0625    0.0005      2050\n",
            "weighted avg     0.0000    0.0044    0.0000      2050\n",
            "\n"
          ]
        }
      ],
      "source": [
        "import numpy as np\n",
        "from sklearn.metrics import classification_report, confusion_matrix, f1_score, precision_score, recall_score, accuracy_score, jaccard_score\n",
        "\n",
        "# Step 1: Get predictions and true labels\n",
        "y_pred_probs = model.predict(test_dataset)\n",
        "y_pred = np.argmax(y_pred_probs, axis=1)\n",
        "\n",
        "y_true = np.concatenate([np.argmax(y.numpy(), axis=1) for _, y in test_dataset], axis=0)\n",
        "\n",
        "# Step 2: Compute OA (Overall Accuracy)\n",
        "oa = accuracy_score(y_true, y_pred)\n",
        "print(f\"Overall Accuracy (OA): {oa:.4f}\")\n",
        "\n",
        "# Step 3: Compute AA (Average Accuracy)\n",
        "conf_mat = confusion_matrix(y_true, y_pred)\n",
        "class_acc = conf_mat.diagonal() / conf_mat.sum(axis=1)\n",
        "aa = np.mean(class_acc)\n",
        "print(f\"Average Accuracy (AA): {aa:.4f}\")\n",
        "\n",
        "# Step 4: Compute Precision, Recall, F1 (Macro avg)\n",
        "precision = precision_score(y_true, y_pred, average='macro', zero_division=0)\n",
        "recall = recall_score(y_true, y_pred, average='macro', zero_division=0)\n",
        "f1 = f1_score(y_true, y_pred, average='macro', zero_division=0)\n",
        "\n",
        "print(f\"Precision (macro): {precision:.4f}\")\n",
        "print(f\"Recall (macro):    {recall:.4f}\")\n",
        "print(f\"F1-score (macro):  {f1:.4f}\")\n",
        "\n",
        "# Step 5: Compute mIoU (mean Intersection over Union)\n",
        "miou = jaccard_score(y_true, y_pred, average='macro', zero_division=0)\n",
        "print(f\"Mean IoU (mIoU):   {miou:.4f}\")\n",
        "\n",
        "# Step 6: Full classification report\n",
        "print(\"\\nClassification Report:\")\n",
        "print(classification_report(y_true, y_pred, digits=4, zero_division=0))"
      ]
    },
    {
      "cell_type": "markdown",
      "metadata": {
        "id": "YMURJ93JK1Oe"
      },
      "source": [
        "### ✅ 2. Cross-Gating Fusion (your existing TopoMorph RGNet)\n"
      ]
    },
    {
      "cell_type": "code",
      "execution_count": null,
      "metadata": {
        "id": "SqtQmeo7K1Of"
      },
      "outputs": [],
      "source": [
        "def build_topomorph_model_crossgate(input_shape, topo_dim, num_classes):\n",
        "    input_img = layers.Input(shape=input_shape)      # e.g., (13, 13, 30)\n",
        "    input_topo = layers.Input(shape=(topo_dim,))     # e.g., (1,)\n",
        "\n",
        "    # Branch 1: Spatial features via RGConv\n",
        "    x_spatial = RGConvBlock(input_img, filters=64)\n",
        "\n",
        "    # Branch 2: Spectral features via UNet++\n",
        "    x_spectral = UNetPlusPlusDecoder(input_img, filters=64)\n",
        "\n",
        "    # Apply Cross-Gating Fusion (TopoAttention) on Spectral + Topo\n",
        "    x_fused = TopoAttentionFusion(x_spectral, input_topo, filters=64)\n",
        "\n",
        "    # Combine fused spectral + spatial features\n",
        "    combined = layers.Add()([x_spatial, x_fused])  # ✅ use fused spectral!\n",
        "\n",
        "    # Final layers\n",
        "    pooled = layers.GlobalAveragePooling2D()(combined)\n",
        "    output = layers.Dense(num_classes, activation='softmax')(pooled)\n",
        "\n",
        "    model = models.Model(inputs=[input_img, input_topo], outputs=output)\n",
        "    return model"
      ]
    },
    {
      "cell_type": "code",
      "execution_count": null,
      "metadata": {
        "id": "JDkB8yKiK1Of",
        "outputId": "0a23b2c2-8040-49b0-ff7d-ed55415d01e6"
      },
      "outputs": [
        {
          "name": "stdout",
          "output_type": "stream",
          "text": [
            "Epoch 1/100\n",
            "\u001b[1m97/97\u001b[0m \u001b[32m━━━━━━━━━━━━━━━━━━━━\u001b[0m\u001b[37m\u001b[0m \u001b[1m15s\u001b[0m 61ms/step - accuracy: 0.0097 - loss: nan - val_accuracy: 0.0088 - val_loss: nan\n",
            "Epoch 2/100\n",
            "\u001b[1m97/97\u001b[0m \u001b[32m━━━━━━━━━━━━━━━━━━━━\u001b[0m\u001b[37m\u001b[0m \u001b[1m1s\u001b[0m 11ms/step - accuracy: 0.0104 - loss: nan - val_accuracy: 0.0088 - val_loss: nan\n",
            "Epoch 3/100\n",
            "\u001b[1m97/97\u001b[0m \u001b[32m━━━━━━━━━━━━━━━━━━━━\u001b[0m\u001b[37m\u001b[0m \u001b[1m1s\u001b[0m 11ms/step - accuracy: 0.0094 - loss: nan - val_accuracy: 0.0088 - val_loss: nan\n",
            "Epoch 4/100\n",
            "\u001b[1m97/97\u001b[0m \u001b[32m━━━━━━━━━━━━━━━━━━━━\u001b[0m\u001b[37m\u001b[0m \u001b[1m1s\u001b[0m 11ms/step - accuracy: 0.0098 - loss: nan - val_accuracy: 0.0088 - val_loss: nan\n",
            "Epoch 5/100\n",
            "\u001b[1m97/97\u001b[0m \u001b[32m━━━━━━━━━━━━━━━━━━━━\u001b[0m\u001b[37m\u001b[0m \u001b[1m1s\u001b[0m 11ms/step - accuracy: 0.0121 - loss: nan - val_accuracy: 0.0088 - val_loss: nan\n",
            "Epoch 6/100\n",
            "\u001b[1m97/97\u001b[0m \u001b[32m━━━━━━━━━━━━━━━━━━━━\u001b[0m\u001b[37m\u001b[0m \u001b[1m1s\u001b[0m 11ms/step - accuracy: 0.0096 - loss: nan - val_accuracy: 0.0088 - val_loss: nan\n",
            "Epoch 7/100\n",
            "\u001b[1m97/97\u001b[0m \u001b[32m━━━━━━━━━━━━━━━━━━━━\u001b[0m\u001b[37m\u001b[0m \u001b[1m1s\u001b[0m 11ms/step - accuracy: 0.0100 - loss: nan - val_accuracy: 0.0088 - val_loss: nan\n",
            "Epoch 8/100\n",
            "\u001b[1m97/97\u001b[0m \u001b[32m━━━━━━━━━━━━━━━━━━━━\u001b[0m\u001b[37m\u001b[0m \u001b[1m1s\u001b[0m 11ms/step - accuracy: 0.0092 - loss: nan - val_accuracy: 0.0088 - val_loss: nan\n",
            "Epoch 9/100\n",
            "\u001b[1m97/97\u001b[0m \u001b[32m━━━━━━━━━━━━━━━━━━━━\u001b[0m\u001b[37m\u001b[0m \u001b[1m1s\u001b[0m 11ms/step - accuracy: 0.0088 - loss: nan - val_accuracy: 0.0088 - val_loss: nan\n",
            "Epoch 10/100\n",
            "\u001b[1m97/97\u001b[0m \u001b[32m━━━━━━━━━━━━━━━━━━━━\u001b[0m\u001b[37m\u001b[0m \u001b[1m1s\u001b[0m 11ms/step - accuracy: 0.0098 - loss: nan - val_accuracy: 0.0088 - val_loss: nan\n",
            "Epoch 11/100\n",
            "\u001b[1m97/97\u001b[0m \u001b[32m━━━━━━━━━━━━━━━━━━━━\u001b[0m\u001b[37m\u001b[0m \u001b[1m1s\u001b[0m 11ms/step - accuracy: 0.0122 - loss: nan - val_accuracy: 0.0088 - val_loss: nan\n",
            "\u001b[1m33/33\u001b[0m \u001b[32m━━━━━━━━━━━━━━━━━━━━\u001b[0m\u001b[37m\u001b[0m \u001b[1m2s\u001b[0m 31ms/step\n"
          ]
        }
      ],
      "source": [
        "model = build_topomorph_model_crossgate(input_shape=X_train_sel.shape[1:], topo_dim=topo_train.shape[1], num_classes=num_classes)\n",
        "model.compile(optimizer='adam', loss='categorical_crossentropy', metrics=['accuracy'])\n",
        "train_dataset = tf.data.Dataset.from_tensor_slices(((X_train_sel, topo_train), y_train_cat)).shuffle(2048).batch(64)\n",
        "val_dataset = tf.data.Dataset.from_tensor_slices(((X_val_sel, topo_val), y_val_cat)).batch(64)\n",
        "test_dataset = tf.data.Dataset.from_tensor_slices(((X_test_sel, topo_test), y_test_cat)).batch(64)\n",
        "callbacks = [\n",
        "    tf.keras.callbacks.EarlyStopping(monitor='val_loss', patience=10, restore_best_weights=True),\n",
        "    tf.keras.callbacks.ModelCheckpoint(\"best_crossgate.h5\", monitor='val_accuracy', save_best_only=True)\n",
        "]\n",
        "\n",
        "history = model.fit(\n",
        "    train_dataset,\n",
        "    validation_data=val_dataset,\n",
        "    epochs=100,\n",
        "    callbacks=callbacks,\n",
        "    verbose=1\n",
        ")\n",
        "from sklearn.metrics import classification_report, confusion_matrix, cohen_kappa_score, f1_score, accuracy_score, jaccard_score\n",
        "import numpy as np\n",
        "\n",
        "# Predict\n",
        "y_pred_probs = model.predict(test_dataset)\n",
        "y_pred = np.argmax(y_pred_probs, axis=1)\n",
        "y_true = np.argmax(y_test_cat, axis=1)\n",
        "\n",
        "# Metrics\n",
        "oa = accuracy_score(y_true, y_pred)\n",
        "conf_matrix = confusion_matrix(y_true, y_pred)\n",
        "aa = np.mean(conf_matrix.diagonal() / conf_matrix.sum(axis=1))\n",
        "kappa = cohen_kappa_score(y_true, y_pred)\n",
        "f1 = f1_score(y_true, y_pred, average=None)\n",
        "miou = jaccard_score(y_true, y_pred, average='macro')\n",
        "\n",
        "# Dict of results\n",
        "results_crossgate = {\n",
        "    \"OA\": oa,\n",
        "    \"AA\": aa,\n",
        "    \"Kappa\": kappa,\n",
        "    \"F1_per_class\": f1,\n",
        "    \"mIoU\": miou\n",
        "}"
      ]
    },
    {
      "cell_type": "code",
      "execution_count": null,
      "metadata": {
        "id": "H8PdhtwVK1Og",
        "outputId": "47c91494-547f-47d5-b2e1-a438556a4a0d"
      },
      "outputs": [
        {
          "data": {
            "text/plain": "{'OA': 0.004390243902439025,\n 'AA': 0.0625,\n 'Kappa': 0.0,\n 'F1_per_class': array([0.00874211, 0.        , 0.        , 0.        , 0.        ,\n        0.        , 0.        , 0.        , 0.        , 0.        ,\n        0.        , 0.        , 0.        , 0.        , 0.        ,\n        0.        ]),\n 'mIoU': 0.00027439024390243905}"
          },
          "execution_count": 61,
          "metadata": {},
          "output_type": "execute_result"
        }
      ],
      "source": [
        "results_crossgate"
      ]
    },
    {
      "cell_type": "markdown",
      "metadata": {
        "id": "ukNWbRqVK1Og"
      },
      "source": [
        "### Additive Fusion (your original fusion):"
      ]
    },
    {
      "cell_type": "code",
      "execution_count": null,
      "metadata": {
        "id": "1EX5Pn5ZK1Og"
      },
      "outputs": [],
      "source": [
        "def build_addfusion_model(input_shape, topo_dim, num_classes):\n",
        "    input_img = layers.Input(shape=input_shape)\n",
        "    input_topo = layers.Input(shape=(topo_dim,))\n",
        "\n",
        "    x_spatial = RGConvBlock(input_img, filters=64)\n",
        "    x_spectral = UNetPlusPlusDecoder(input_img, filters=64)\n",
        "\n",
        "    pooled_img = layers.GlobalAveragePooling2D()(x_spatial)\n",
        "    pooled_spec = layers.GlobalAveragePooling2D()(x_spectral)\n",
        "    topo_dense = layers.Dense(64, activation='relu')(input_topo)\n",
        "\n",
        "    # Simple element-wise add\n",
        "    added = layers.Add()([pooled_img, pooled_spec, topo_dense])\n",
        "    output = layers.Dense(num_classes, activation='softmax')(added)\n",
        "\n",
        "    model = models.Model(inputs=[input_img, input_topo], outputs=output)\n",
        "    return model\n"
      ]
    },
    {
      "cell_type": "code",
      "execution_count": null,
      "metadata": {
        "id": "lTdlZVHXK1Og",
        "outputId": "1576b486-0356-443a-a4ec-2f1de2b46704"
      },
      "outputs": [
        {
          "name": "stdout",
          "output_type": "stream",
          "text": [
            "Epoch 1/100\n",
            "\u001b[1m97/97\u001b[0m \u001b[32m━━━━━━━━━━━━━━━━━━━━\u001b[0m\u001b[37m\u001b[0m \u001b[1m14s\u001b[0m 58ms/step - accuracy: 0.0097 - loss: nan - val_accuracy: 0.0088 - val_loss: nan\n",
            "Epoch 2/100\n",
            "\u001b[1m97/97\u001b[0m \u001b[32m━━━━━━━━━━━━━━━━━━━━\u001b[0m\u001b[37m\u001b[0m \u001b[1m1s\u001b[0m 11ms/step - accuracy: 0.0111 - loss: nan - val_accuracy: 0.0088 - val_loss: nan\n",
            "Epoch 3/100\n",
            "\u001b[1m97/97\u001b[0m \u001b[32m━━━━━━━━━━━━━━━━━━━━\u001b[0m\u001b[37m\u001b[0m \u001b[1m1s\u001b[0m 11ms/step - accuracy: 0.0101 - loss: nan - val_accuracy: 0.0088 - val_loss: nan\n",
            "Epoch 4/100\n",
            "\u001b[1m97/97\u001b[0m \u001b[32m━━━━━━━━━━━━━━━━━━━━\u001b[0m\u001b[37m\u001b[0m \u001b[1m1s\u001b[0m 11ms/step - accuracy: 0.0087 - loss: nan - val_accuracy: 0.0088 - val_loss: nan\n",
            "Epoch 5/100\n",
            "\u001b[1m97/97\u001b[0m \u001b[32m━━━━━━━━━━━━━━━━━━━━\u001b[0m\u001b[37m\u001b[0m \u001b[1m1s\u001b[0m 11ms/step - accuracy: 0.0093 - loss: nan - val_accuracy: 0.0088 - val_loss: nan\n",
            "Epoch 6/100\n",
            "\u001b[1m97/97\u001b[0m \u001b[32m━━━━━━━━━━━━━━━━━━━━\u001b[0m\u001b[37m\u001b[0m \u001b[1m1s\u001b[0m 11ms/step - accuracy: 0.0090 - loss: nan - val_accuracy: 0.0088 - val_loss: nan\n",
            "Epoch 7/100\n",
            "\u001b[1m97/97\u001b[0m \u001b[32m━━━━━━━━━━━━━━━━━━━━\u001b[0m\u001b[37m\u001b[0m \u001b[1m1s\u001b[0m 11ms/step - accuracy: 0.0103 - loss: nan - val_accuracy: 0.0088 - val_loss: nan\n",
            "Epoch 8/100\n",
            "\u001b[1m97/97\u001b[0m \u001b[32m━━━━━━━━━━━━━━━━━━━━\u001b[0m\u001b[37m\u001b[0m \u001b[1m1s\u001b[0m 11ms/step - accuracy: 0.0093 - loss: nan - val_accuracy: 0.0088 - val_loss: nan\n",
            "Epoch 9/100\n",
            "\u001b[1m97/97\u001b[0m \u001b[32m━━━━━━━━━━━━━━━━━━━━\u001b[0m\u001b[37m\u001b[0m \u001b[1m1s\u001b[0m 11ms/step - accuracy: 0.0119 - loss: nan - val_accuracy: 0.0088 - val_loss: nan\n",
            "Epoch 10/100\n",
            "\u001b[1m97/97\u001b[0m \u001b[32m━━━━━━━━━━━━━━━━━━━━\u001b[0m\u001b[37m\u001b[0m \u001b[1m1s\u001b[0m 11ms/step - accuracy: 0.0101 - loss: nan - val_accuracy: 0.0088 - val_loss: nan\n",
            "Epoch 11/100\n",
            "\u001b[1m97/97\u001b[0m \u001b[32m━━━━━━━━━━━━━━━━━━━━\u001b[0m\u001b[37m\u001b[0m \u001b[1m1s\u001b[0m 11ms/step - accuracy: 0.0085 - loss: nan - val_accuracy: 0.0088 - val_loss: nan\n",
            "\u001b[1m33/33\u001b[0m \u001b[32m━━━━━━━━━━━━━━━━━━━━\u001b[0m\u001b[37m\u001b[0m \u001b[1m2s\u001b[0m 20ms/step - accuracy: 0.0083 - loss: nan\n"
          ]
        }
      ],
      "source": [
        "model = build_addfusion_model(X_train_sel.shape[1:], topo_train.shape[1], num_classes)\n",
        "model.compile(optimizer='adam', loss='categorical_crossentropy', metrics=['accuracy'])\n",
        "\n",
        "train_dataset = tf.data.Dataset.from_tensor_slices(((X_train_sel, topo_train), y_train_cat)).shuffle(2048).batch(64)\n",
        "val_dataset   = tf.data.Dataset.from_tensor_slices(((X_val_sel, topo_val), y_val_cat)).batch(64)\n",
        "test_dataset  = tf.data.Dataset.from_tensor_slices(((X_test_sel, topo_test), y_test_cat)).batch(64)\n",
        "\n",
        "callbacks = [\n",
        "    EarlyStopping(monitor='val_loss', patience=10, restore_best_weights=True),\n",
        "    ModelCheckpoint(\"a3_addfusion_model.keras\", monitor='val_accuracy', save_best_only=True)\n",
        "]\n",
        "\n",
        "history = model.fit(train_dataset, validation_data=val_dataset, epochs=100, callbacks=callbacks)\n",
        "model = load_model(\"a3_addfusion_model.keras\")\n",
        "res = model.evaluate(test_dataset)"
      ]
    },
    {
      "cell_type": "code",
      "execution_count": null,
      "metadata": {
        "collapsed": true,
        "id": "LwAqGk0NK1Og",
        "outputId": "22f5b7f5-3213-4881-e8e2-00fec71ff165"
      },
      "outputs": [
        {
          "name": "stdout",
          "output_type": "stream",
          "text": [
            "\u001b[1m33/33\u001b[0m \u001b[32m━━━━━━━━━━━━━━━━━━━━\u001b[0m\u001b[37m\u001b[0m \u001b[1m0s\u001b[0m 4ms/step\n",
            "Overall Accuracy (OA)%: 0.4390243902439025\n",
            "Average Accuracy (AA)%: 6.25\n",
            "F1 Score (Macro): 0.0005463817387081108\n",
            "F1 Score (Per Class): [0.00874211 0.         0.         0.         0.         0.\n",
            " 0.         0.         0.         0.         0.         0.\n",
            " 0.         0.         0.         0.        ]\n",
            "Precision (Macro): 0.00027439024390243905\n",
            "Recall (Macro): 0.0625\n",
            "Mean IoU (mIoU): 0.00027439024390243905\n",
            "\n",
            "Classification Report:\n",
            "               precision    recall  f1-score   support\n",
            "\n",
            "           0       0.00      1.00      0.01         9\n",
            "           1       0.00      0.00      0.00       285\n",
            "           2       0.00      0.00      0.00       166\n",
            "           3       0.00      0.00      0.00        48\n",
            "           4       0.00      0.00      0.00        97\n",
            "           5       0.00      0.00      0.00       146\n",
            "           6       0.00      0.00      0.00         6\n",
            "           7       0.00      0.00      0.00        95\n",
            "           8       0.00      0.00      0.00         4\n",
            "           9       0.00      0.00      0.00       195\n",
            "          10       0.00      0.00      0.00       491\n",
            "          11       0.00      0.00      0.00       118\n",
            "          12       0.00      0.00      0.00        41\n",
            "          13       0.00      0.00      0.00       253\n",
            "          14       0.00      0.00      0.00        77\n",
            "          15       0.00      0.00      0.00        19\n",
            "\n",
            "    accuracy                           0.00      2050\n",
            "   macro avg       0.00      0.06      0.00      2050\n",
            "weighted avg       0.00      0.00      0.00      2050\n",
            "\n"
          ]
        }
      ],
      "source": [
        "from sklearn.metrics import classification_report, confusion_matrix, f1_score, accuracy_score, precision_score, recall_score, jaccard_score\n",
        "import numpy as np\n",
        "\n",
        "# Predict on test data\n",
        "y_pred_probs = model.predict(test_dataset)\n",
        "y_pred = np.argmax(y_pred_probs, axis=1)\n",
        "y_true = np.argmax(y_test_cat, axis=1)\n",
        "\n",
        "# Overall Accuracy (OA)\n",
        "oa = accuracy_score(y_true, y_pred)\n",
        "print(\"Overall Accuracy (OA)%:\", oa*100)\n",
        "\n",
        "# Average Accuracy (AA)\n",
        "conf_mat = confusion_matrix(y_true, y_pred)\n",
        "class_accuracies = conf_mat.diagonal() / conf_mat.sum(axis=1)\n",
        "aa = np.mean(class_accuracies)\n",
        "print(\"Average Accuracy (AA)%:\", aa*100)\n",
        "\n",
        "# F1-Score (per class & average)\n",
        "f1_macro = f1_score(y_true, y_pred, average='macro')\n",
        "f1_per_class = f1_score(y_true, y_pred, average=None)\n",
        "print(\"F1 Score (Macro):\", f1_macro)\n",
        "print(\"F1 Score (Per Class):\", f1_per_class)\n",
        "\n",
        "# Precision & Recall\n",
        "precision = precision_score(y_true, y_pred, average='macro')\n",
        "recall = recall_score(y_true, y_pred, average='macro')\n",
        "print(\"Precision (Macro):\", precision)\n",
        "print(\"Recall (Macro):\", recall)\n",
        "\n",
        "# mIoU (mean Intersection over Union)\n",
        "miou = jaccard_score(y_true, y_pred, average='macro')\n",
        "print(\"Mean IoU (mIoU):\", miou)\n",
        "\n",
        "# Classification Report\n",
        "print(\"\\nClassification Report:\\n\", classification_report(y_true, y_pred))\n"
      ]
    },
    {
      "cell_type": "markdown",
      "metadata": {
        "id": "FCJ6yMrMK1Og"
      },
      "source": [
        "## ✅ A4: RGC Depth and Kernel Size"
      ]
    },
    {
      "cell_type": "code",
      "execution_count": null,
      "metadata": {
        "id": "mJhcC4HBK1Og"
      },
      "outputs": [],
      "source": [
        "# Variant: deeper RGConvBlock with larger kernels\n",
        "def RGConvBlock_deep(input_tensor, filters):\n",
        "    x = input_tensor\n",
        "    for _ in range(4):  # more layers\n",
        "        x1 = layers.Conv2D(filters, 5, padding='same', activation='relu')(x)\n",
        "        x2 = layers.Conv2D(filters, 5, padding='same', activation='relu')(x)\n",
        "        x = layers.Multiply()([x1, x2])\n",
        "    return x"
      ]
    },
    {
      "cell_type": "code",
      "execution_count": null,
      "metadata": {
        "id": "ONtuIXzwK1Og"
      },
      "outputs": [],
      "source": [
        "def build_topomorph_model_deepRG(input_shape, topo_dim, num_classes):\n",
        "    input_img = layers.Input(shape=input_shape)       # e.g., (13,13,30)\n",
        "    input_topo = layers.Input(shape=(topo_dim,))      # e.g., (1,)\n",
        "\n",
        "    x_spatial = RGConvBlock_deep(input_img, filters=64)\n",
        "    x_spectral = UNetPlusPlusDecoder(input_img, filters=64)\n",
        "\n",
        "    x_fused = TopoAttentionFusion(x_spectral, input_topo, filters=64)\n",
        "    combined = layers.Add()([x_spatial, x_fused])\n",
        "\n",
        "    pooled = layers.GlobalAveragePooling2D()(combined)\n",
        "    output = layers.Dense(num_classes, activation='softmax')(pooled)\n",
        "\n",
        "    model = models.Model(inputs=[input_img, input_topo], outputs=output)\n",
        "    return model\n"
      ]
    },
    {
      "cell_type": "code",
      "execution_count": null,
      "metadata": {
        "id": "3jPDeyePK1Og"
      },
      "outputs": [],
      "source": [
        "model = build_topomorph_model_deepRG(input_shape=X_train_sel.shape[1:], topo_dim=topo_train.shape[1], num_classes=num_classes)\n",
        "model.compile(optimizer='adam', loss='categorical_crossentropy', metrics=['accuracy'])\n"
      ]
    },
    {
      "cell_type": "code",
      "execution_count": null,
      "metadata": {
        "id": "OOvBQ079K1Oh"
      },
      "outputs": [],
      "source": [
        "train_dataset = tf.data.Dataset.from_tensor_slices(((X_train_sel, topo_train), y_train_cat)).shuffle(2048).batch(64)\n",
        "val_dataset = tf.data.Dataset.from_tensor_slices(((X_val_sel, topo_val), y_val_cat)).batch(64)\n",
        "test_dataset = tf.data.Dataset.from_tensor_slices(((X_test_sel, topo_test), y_test_cat)).batch(64)"
      ]
    },
    {
      "cell_type": "code",
      "execution_count": null,
      "metadata": {
        "id": "5P4HpncoK1Oh",
        "outputId": "9fa66d7e-e740-469a-c671-f55211cf05ac"
      },
      "outputs": [
        {
          "name": "stdout",
          "output_type": "stream",
          "text": [
            "Epoch 1/100\n",
            "\u001b[1m97/97\u001b[0m \u001b[32m━━━━━━━━━━━━━━━━━━━━\u001b[0m\u001b[37m\u001b[0m \u001b[1m19s\u001b[0m 81ms/step - accuracy: 0.0102 - loss: nan - val_accuracy: 0.0088 - val_loss: nan\n",
            "Epoch 2/100\n",
            "\u001b[1m97/97\u001b[0m \u001b[32m━━━━━━━━━━━━━━━━━━━━\u001b[0m\u001b[37m\u001b[0m \u001b[1m2s\u001b[0m 18ms/step - accuracy: 0.0098 - loss: nan - val_accuracy: 0.0088 - val_loss: nan\n",
            "Epoch 3/100\n",
            "\u001b[1m97/97\u001b[0m \u001b[32m━━━━━━━━━━━━━━━━━━━━\u001b[0m\u001b[37m\u001b[0m \u001b[1m2s\u001b[0m 18ms/step - accuracy: 0.0089 - loss: nan - val_accuracy: 0.0088 - val_loss: nan\n",
            "Epoch 4/100\n",
            "\u001b[1m97/97\u001b[0m \u001b[32m━━━━━━━━━━━━━━━━━━━━\u001b[0m\u001b[37m\u001b[0m \u001b[1m2s\u001b[0m 18ms/step - accuracy: 0.0097 - loss: nan - val_accuracy: 0.0088 - val_loss: nan\n",
            "Epoch 5/100\n",
            "\u001b[1m97/97\u001b[0m \u001b[32m━━━━━━━━━━━━━━━━━━━━\u001b[0m\u001b[37m\u001b[0m \u001b[1m2s\u001b[0m 18ms/step - accuracy: 0.0085 - loss: nan - val_accuracy: 0.0088 - val_loss: nan\n",
            "Epoch 6/100\n",
            "\u001b[1m97/97\u001b[0m \u001b[32m━━━━━━━━━━━━━━━━━━━━\u001b[0m\u001b[37m\u001b[0m \u001b[1m2s\u001b[0m 18ms/step - accuracy: 0.0097 - loss: nan - val_accuracy: 0.0088 - val_loss: nan\n",
            "Epoch 7/100\n",
            "\u001b[1m97/97\u001b[0m \u001b[32m━━━━━━━━━━━━━━━━━━━━\u001b[0m\u001b[37m\u001b[0m \u001b[1m2s\u001b[0m 18ms/step - accuracy: 0.0108 - loss: nan - val_accuracy: 0.0088 - val_loss: nan\n",
            "Epoch 8/100\n",
            "\u001b[1m97/97\u001b[0m \u001b[32m━━━━━━━━━━━━━━━━━━━━\u001b[0m\u001b[37m\u001b[0m \u001b[1m2s\u001b[0m 18ms/step - accuracy: 0.0118 - loss: nan - val_accuracy: 0.0088 - val_loss: nan\n",
            "Epoch 9/100\n",
            "\u001b[1m97/97\u001b[0m \u001b[32m━━━━━━━━━━━━━━━━━━━━\u001b[0m\u001b[37m\u001b[0m \u001b[1m2s\u001b[0m 18ms/step - accuracy: 0.0093 - loss: nan - val_accuracy: 0.0088 - val_loss: nan\n",
            "Epoch 10/100\n",
            "\u001b[1m97/97\u001b[0m \u001b[32m━━━━━━━━━━━━━━━━━━━━\u001b[0m\u001b[37m\u001b[0m \u001b[1m2s\u001b[0m 18ms/step - accuracy: 0.0087 - loss: nan - val_accuracy: 0.0088 - val_loss: nan\n",
            "Epoch 11/100\n",
            "\u001b[1m97/97\u001b[0m \u001b[32m━━━━━━━━━━━━━━━━━━━━\u001b[0m\u001b[37m\u001b[0m \u001b[1m2s\u001b[0m 18ms/step - accuracy: 0.0106 - loss: nan - val_accuracy: 0.0088 - val_loss: nan\n"
          ]
        }
      ],
      "source": [
        "callbacks = [\n",
        "    tf.keras.callbacks.EarlyStopping(monitor='val_loss', patience=10, restore_best_weights=True),\n",
        "    tf.keras.callbacks.ModelCheckpoint(\"best_deepRG.h5\", monitor='val_accuracy', save_best_only=True)\n",
        "]\n",
        "history = model.fit(\n",
        "    train_dataset,\n",
        "    validation_data=val_dataset,\n",
        "    epochs=100,\n",
        "    callbacks=callbacks,\n",
        "    verbose=1\n",
        ")"
      ]
    },
    {
      "cell_type": "code",
      "execution_count": null,
      "metadata": {
        "id": "kYdza-IxK1Oh",
        "outputId": "c79e9506-3fa5-4bbd-d84f-06239d430f51"
      },
      "outputs": [
        {
          "name": "stdout",
          "output_type": "stream",
          "text": [
            "\u001b[1m33/33\u001b[0m \u001b[32m━━━━━━━━━━━━━━━━━━━━\u001b[0m\u001b[37m\u001b[0m \u001b[1m0s\u001b[0m 7ms/step\n"
          ]
        },
        {
          "data": {
            "text/plain": "{'OA': 0.004390243902439025,\n 'AA': 0.0625,\n 'Kappa': 0.0,\n 'F1_per_class': array([0.00874211, 0.        , 0.        , 0.        , 0.        ,\n        0.        , 0.        , 0.        , 0.        , 0.        ,\n        0.        , 0.        , 0.        , 0.        , 0.        ,\n        0.        ]),\n 'mIoU': 0.00027439024390243905}"
          },
          "execution_count": 67,
          "metadata": {},
          "output_type": "execute_result"
        }
      ],
      "source": [
        "y_pred_probs = model.predict(test_dataset)\n",
        "y_pred = np.argmax(y_pred_probs, axis=1)\n",
        "y_true = np.argmax(y_test_cat, axis=1)\n",
        "\n",
        "results_deepRG = {\n",
        "    \"OA\": accuracy_score(y_true, y_pred),\n",
        "    \"AA\": np.mean(confusion_matrix(y_true, y_pred).diagonal() / confusion_matrix(y_true, y_pred).sum(axis=1)),\n",
        "    \"Kappa\": cohen_kappa_score(y_true, y_pred),\n",
        "    \"F1_per_class\": f1_score(y_true, y_pred, average=None),\n",
        "    \"mIoU\": jaccard_score(y_true, y_pred, average='macro')\n",
        "}\n",
        "results_deepRG"
      ]
    },
    {
      "cell_type": "markdown",
      "metadata": {
        "id": "_9kS6t2tK1Oh"
      },
      "source": [
        "## ✅ A5: Multi-Scale Input Patches"
      ]
    },
    {
      "cell_type": "code",
      "execution_count": null,
      "metadata": {
        "id": "omsqzxaIAIiZ"
      },
      "outputs": [],
      "source": [
        "def extract_multi_scale_patches_fast(cube, labels, patch_sizes=[5, 9, 13]):\n",
        "    from tqdm import tqdm  # optional for progress bar\n",
        "\n",
        "    H, W, B = cube.shape\n",
        "    positions = [(i, j) for i in range(H) for j in range(W) if labels[i, j] > 0]\n",
        "    y_labels = np.array([labels[i, j] - 1 for (i, j) in positions])\n",
        "\n",
        "    X_patches = {}\n",
        "\n",
        "    for size in patch_sizes:\n",
        "        print(f\"Extracting patches of size {size}×{size}...\")\n",
        "        pad = size // 2\n",
        "        padded = np.pad(cube, ((pad, pad), (pad, pad), (0, 0)), mode='reflect')\n",
        "        patches = np.zeros((len(positions), size, size, B), dtype=np.float32)\n",
        "\n",
        "        for idx, (i, j) in enumerate(tqdm(positions)):\n",
        "            patch = padded[i:i+size, j:j+size, :]\n",
        "            patches[idx] = patch\n",
        "\n",
        "        X_patches[size] = patches\n",
        "\n",
        "    return X_patches, y_labels"
      ]
    },
    {
      "cell_type": "code",
      "execution_count": null,
      "metadata": {
        "colab": {
          "base_uri": "https://localhost:8080/"
        },
        "id": "e-xFq-02_lU4",
        "outputId": "80243acf-f6dc-4f13-faa3-27c476633f35"
      },
      "outputs": [
        {
          "name": "stdout",
          "output_type": "stream",
          "text": [
            "Extracting patches of size 5×5...\n"
          ]
        },
        {
          "name": "stderr",
          "output_type": "stream",
          "text": [
            "100%|██████████| 10249/10249 [00:00<00:00, 51730.68it/s]\n"
          ]
        },
        {
          "name": "stdout",
          "output_type": "stream",
          "text": [
            "Extracting patches of size 9×9...\n"
          ]
        },
        {
          "name": "stderr",
          "output_type": "stream",
          "text": [
            "100%|██████████| 10249/10249 [00:00<00:00, 20470.63it/s]\n"
          ]
        },
        {
          "name": "stdout",
          "output_type": "stream",
          "text": [
            "Extracting patches of size 13×13...\n"
          ]
        },
        {
          "name": "stderr",
          "output_type": "stream",
          "text": [
            "100%|██████████| 10249/10249 [00:01<00:00, 7293.25it/s]\n"
          ]
        }
      ],
      "source": [
        "patch_sizes = [5, 9, 13]  # Small, medium, large scales\n",
        "X_ms, y_ms = extract_multi_scale_patches_fast(cube_norm, gt, patch_sizes=patch_sizes)"
      ]
    },
    {
      "cell_type": "code",
      "execution_count": null,
      "metadata": {
        "id": "ChpaNz6bKaWq"
      },
      "outputs": [],
      "source": [
        "from sklearn.model_selection import train_test_split\n",
        "from tensorflow.keras.models import Sequential\n",
        "from tensorflow.keras.layers import Conv2D, Flatten, Dense, InputLayer\n",
        "from tensorflow.keras.utils import to_categorical\n",
        "import numpy as np\n",
        "\n",
        "def train_single_patch_model(X, y, num_classes=16, patch_size=5, epochs=10):\n",
        "    print(f\"\\n▶️ Training on patch size {patch_size}...\")\n",
        "\n",
        "    # Split\n",
        "    X_train, X_temp, y_train, y_temp = train_test_split(X, y, test_size=0.4, stratify=y, random_state=42)\n",
        "    X_val, X_test, y_val, y_test = train_test_split(X_temp, y_temp, test_size=0.5, stratify=y_temp, random_state=42)\n",
        "\n",
        "    # One-hot\n",
        "    y_train_cat = to_categorical(y_train, num_classes)\n",
        "    y_val_cat = to_categorical(y_val, num_classes)\n",
        "    y_test_cat = to_categorical(y_test, num_classes)\n",
        "\n",
        "    # Model (very light)\n",
        "    model = Sequential([\n",
        "        InputLayer(input_shape=X_train.shape[1:]),\n",
        "        Conv2D(16, kernel_size=3, activation='relu', padding='same'),\n",
        "        Flatten(),\n",
        "        Dense(64, activation='relu'),\n",
        "        Dense(num_classes, activation='softmax')\n",
        "    ])\n",
        "\n",
        "    model.compile(optimizer='adam', loss='categorical_crossentropy', metrics=['accuracy'])\n",
        "\n",
        "    # Train (quick)\n",
        "    model.fit(X_train, y_train_cat, validation_data=(X_val, y_val_cat),\n",
        "              epochs=10, batch_size=64, verbose=2)\n",
        "\n",
        "    # Evaluate\n",
        "    test_loss, test_acc = model.evaluate(X_test, y_test_cat, verbose=0)\n",
        "    print(f\"✅ Test Accuracy on {patch_size}x{patch_size}: {test_acc*100:.2f}%\")\n"
      ]
    },
    {
      "cell_type": "code",
      "execution_count": null,
      "metadata": {
        "colab": {
          "base_uri": "https://localhost:8080/"
        },
        "collapsed": true,
        "id": "LZLj0FvVKbge",
        "outputId": "1755afee-5d70-4c1b-de0c-40f62180d169"
      },
      "outputs": [
        {
          "name": "stdout",
          "output_type": "stream",
          "text": [
            "\n",
            "▶️ Training on patch size 5...\n",
            "Epoch 1/10\n",
            "97/97 - 10s - 102ms/step - accuracy: 0.5163 - loss: 1.3606 - val_accuracy: 0.6351 - val_loss: 1.0502\n",
            "Epoch 2/10\n",
            "97/97 - 5s - 53ms/step - accuracy: 0.7099 - loss: 0.7797 - val_accuracy: 0.7400 - val_loss: 0.7281\n",
            "Epoch 3/10\n",
            "97/97 - 1s - 7ms/step - accuracy: 0.8099 - loss: 0.5342 - val_accuracy: 0.8044 - val_loss: 0.5289\n",
            "Epoch 4/10\n",
            "97/97 - 1s - 7ms/step - accuracy: 0.8603 - loss: 0.3840 - val_accuracy: 0.8234 - val_loss: 0.4585\n",
            "Epoch 5/10\n",
            "97/97 - 1s - 6ms/step - accuracy: 0.8980 - loss: 0.2848 - val_accuracy: 0.8722 - val_loss: 0.3386\n",
            "Epoch 6/10\n",
            "97/97 - 1s - 6ms/step - accuracy: 0.9291 - loss: 0.2068 - val_accuracy: 0.8420 - val_loss: 0.4393\n",
            "Epoch 7/10\n",
            "97/97 - 0s - 5ms/step - accuracy: 0.9413 - loss: 0.1813 - val_accuracy: 0.9361 - val_loss: 0.1908\n",
            "Epoch 8/10\n",
            "97/97 - 1s - 6ms/step - accuracy: 0.9673 - loss: 0.1084 - val_accuracy: 0.9483 - val_loss: 0.1596\n",
            "Epoch 9/10\n",
            "97/97 - 1s - 7ms/step - accuracy: 0.9722 - loss: 0.0960 - val_accuracy: 0.9463 - val_loss: 0.1621\n",
            "Epoch 10/10\n",
            "97/97 - 0s - 4ms/step - accuracy: 0.9777 - loss: 0.0776 - val_accuracy: 0.9337 - val_loss: 0.1810\n",
            "✅ Test Accuracy on 5x5: 93.76%\n"
          ]
        }
      ],
      "source": [
        "# Patch size 5\n",
        "train_single_patch_model(X_ms[5], y_ms, patch_size=5)"
      ]
    },
    {
      "cell_type": "markdown",
      "metadata": {
        "id": "-_V1d4CCNLLG"
      },
      "source": [
        "### ✅ Test Accuracy on 5x5: 93.76%"
      ]
    },
    {
      "cell_type": "code",
      "execution_count": null,
      "metadata": {
        "colab": {
          "base_uri": "https://localhost:8080/"
        },
        "collapsed": true,
        "id": "tmeIWp28Lwdn",
        "outputId": "e44cc8f0-0b23-40f0-a9dc-08d37e3033a5"
      },
      "outputs": [
        {
          "name": "stdout",
          "output_type": "stream",
          "text": [
            "\n",
            "▶️ Training on patch size 9...\n",
            "Epoch 1/10\n",
            "97/97 - 7s - 76ms/step - accuracy: 0.6219 - loss: 1.0978 - val_accuracy: 0.7517 - val_loss: 0.6588\n",
            "Epoch 2/10\n",
            "97/97 - 6s - 60ms/step - accuracy: 0.8374 - loss: 0.4529 - val_accuracy: 0.8561 - val_loss: 0.4226\n",
            "Epoch 3/10\n",
            "97/97 - 1s - 8ms/step - accuracy: 0.9249 - loss: 0.2316 - val_accuracy: 0.9346 - val_loss: 0.1973\n",
            "Epoch 4/10\n",
            "97/97 - 1s - 6ms/step - accuracy: 0.9587 - loss: 0.1308 - val_accuracy: 0.9522 - val_loss: 0.1437\n",
            "Epoch 5/10\n",
            "97/97 - 1s - 6ms/step - accuracy: 0.9693 - loss: 0.0922 - val_accuracy: 0.9468 - val_loss: 0.1632\n",
            "Epoch 6/10\n",
            "97/97 - 1s - 6ms/step - accuracy: 0.9556 - loss: 0.1628 - val_accuracy: 0.9810 - val_loss: 0.0757\n",
            "Epoch 7/10\n",
            "97/97 - 1s - 6ms/step - accuracy: 0.9797 - loss: 0.0636 - val_accuracy: 0.9717 - val_loss: 0.0866\n",
            "Epoch 8/10\n",
            "97/97 - 1s - 6ms/step - accuracy: 0.9904 - loss: 0.0339 - val_accuracy: 0.9810 - val_loss: 0.0661\n",
            "Epoch 9/10\n",
            "97/97 - 1s - 6ms/step - accuracy: 0.9948 - loss: 0.0203 - val_accuracy: 0.9810 - val_loss: 0.0673\n",
            "Epoch 10/10\n",
            "97/97 - 1s - 6ms/step - accuracy: 0.9997 - loss: 0.0052 - val_accuracy: 0.9898 - val_loss: 0.0390\n",
            "✅ Test Accuracy on 9x9: 99.37%\n"
          ]
        }
      ],
      "source": [
        "# Patch size 9\n",
        "train_single_patch_model(X_ms[9], y_ms, patch_size=9)"
      ]
    },
    {
      "cell_type": "markdown",
      "metadata": {
        "id": "ZkX1zqoVNQ1L"
      },
      "source": [
        "### ✅ Test Accuracy on 9x9: 99.37%"
      ]
    },
    {
      "cell_type": "markdown",
      "metadata": {
        "id": "7b86LiH3K1Oi"
      },
      "source": [
        "## ✅ A6: Data-level – Noisy Bands, Partial Labels"
      ]
    },
    {
      "cell_type": "markdown",
      "metadata": {
        "id": "IQBMjRBhK1Oi"
      },
      "source": [
        "### 🔁 Add noise to spectral bands:"
      ]
    },
    {
      "cell_type": "code",
      "execution_count": null,
      "metadata": {
        "id": "gSwg4m2DK1Oi"
      },
      "outputs": [],
      "source": [
        "def add_spectral_noise(X, noise_level=0.05):\n",
        "    noise = np.random.normal(0, noise_level, size=X.shape)\n",
        "    return np.clip(X + noise, 0, 1)\n",
        "\n",
        "X_train_noisy = add_spectral_noise(X_train_sel)\n",
        "X_val_noisy = add_spectral_noise(X_val_sel)\n",
        "X_test_noisy = add_spectral_noise(X_test_sel)"
      ]
    },
    {
      "cell_type": "markdown",
      "metadata": {
        "id": "y52RIdtzK1Oi"
      },
      "source": [
        "### 🔁 Simulate partial labels (semi-supervised):"
      ]
    },
    {
      "cell_type": "code",
      "execution_count": null,
      "metadata": {
        "id": "zSJWkpRBK1Oi"
      },
      "outputs": [],
      "source": [
        "def partial_labels(X, y, keep_ratio=0.3):\n",
        "    idx = np.random.choice(len(y), int(len(y)*keep_ratio), replace=False)\n",
        "    return X[idx], y[idx]\n",
        "\n",
        "X_train_partial, y_train_partial = partial_labels(X_train_sel, y_train)\n",
        "y_train_partial_cat = to_categorical(y_train_partial, num_classes)"
      ]
    },
    {
      "cell_type": "markdown",
      "metadata": {
        "id": "1s2jJ3B2VgK-"
      },
      "source": [
        "Use full y_train, just noisy features\n"
      ]
    },
    {
      "cell_type": "code",
      "execution_count": null,
      "metadata": {
        "id": "94G4w9raVaBS"
      },
      "outputs": [],
      "source": [
        "train_dataset_noisy = tf.data.Dataset.from_tensor_slices(((X_train_noisy, topo_train), y_train_cat)).shuffle(2048).batch(64)\n"
      ]
    },
    {
      "cell_type": "code",
      "execution_count": null,
      "metadata": {
        "id": "sg5rvMX_VcL2"
      },
      "outputs": [],
      "source": [
        "val_dataset_noisy   = tf.data.Dataset.from_tensor_slices(((X_val_noisy, topo_val), y_val_cat)).batch(64)\n"
      ]
    },
    {
      "cell_type": "code",
      "execution_count": null,
      "metadata": {
        "id": "2zqUzwFvVd8G"
      },
      "outputs": [],
      "source": [
        "test_dataset_noisy  = tf.data.Dataset.from_tensor_slices(((X_test_noisy, topo_test), y_test_cat)).batch(64)\n"
      ]
    },
    {
      "cell_type": "code",
      "execution_count": null,
      "metadata": {
        "id": "fKJX9zmpV8Qj"
      },
      "outputs": [],
      "source": [
        "from tensorflow.keras.layers import Input, Dense, Conv3D, GlobalAveragePooling3D, Concatenate, Dropout\n",
        "from tensorflow.keras.models import Model\n",
        "\n",
        "def build_addfusion_model(spatial_input_shape, topo_input_dim, num_classes):\n",
        "    # Spatial branch (3D-CNN)\n",
        "    spatial_input = Input(shape=spatial_input_shape)\n",
        "    x = Conv3D(16, kernel_size=(3,3,3), activation='relu', padding='same')(spatial_input)\n",
        "    x = Conv3D(32, kernel_size=(3,3,3), activation='relu', padding='same')(x)\n",
        "    x = GlobalAveragePooling3D()(x)\n",
        "\n",
        "    # Topological branch (dense features)\n",
        "    topo_input = Input(shape=(topo_input_dim,))\n",
        "    t = Dense(64, activation='relu')(topo_input)\n",
        "    t = Dropout(0.3)(t)\n",
        "\n",
        "    # Fusion\n",
        "    fusion = Concatenate()([x, t])\n",
        "    fusion = Dense(128, activation='relu')(fusion)\n",
        "    fusion = Dropout(0.3)(fusion)\n",
        "    output = Dense(num_classes, activation='softmax')(fusion)\n",
        "\n",
        "    model = Model(inputs=[spatial_input, topo_input], outputs=output)\n",
        "    return model\n"
      ]
    },
    {
      "cell_type": "code",
      "execution_count": null,
      "metadata": {
        "id": "pgqBrdIjWOLl"
      },
      "outputs": [],
      "source": [
        "# For original (clean) training too\n",
        "X_train_sel = X_train_sel[..., np.newaxis]\n",
        "X_val_sel = X_val_sel[..., np.newaxis]\n",
        "X_test_sel = X_test_sel[..., np.newaxis]\n"
      ]
    },
    {
      "cell_type": "code",
      "execution_count": null,
      "metadata": {
        "id": "WzPk9H19WtjJ"
      },
      "outputs": [],
      "source": [
        "def add_band_noise(X, noise_std=0.1):\n",
        "    noisy_X = X + np.random.normal(0, noise_std, X.shape).astype(np.float32)\n",
        "    return np.clip(noisy_X, 0, 1)  # Optional: clamp between [0, 1]\n"
      ]
    },
    {
      "cell_type": "code",
      "execution_count": null,
      "metadata": {
        "id": "c5UusjV9XBlW"
      },
      "outputs": [],
      "source": [
        "X_train_noisy = add_band_noise(X_train_sel, noise_std=0.1)\n"
      ]
    },
    {
      "cell_type": "code",
      "execution_count": null,
      "metadata": {
        "id": "IzvTwbtSXCxX"
      },
      "outputs": [],
      "source": [
        "topo_train_noisy = generate_topo_features(X_train_noisy)\n"
      ]
    },
    {
      "cell_type": "code",
      "execution_count": null,
      "metadata": {
        "id": "U9RE7px3XHm5"
      },
      "outputs": [],
      "source": [
        "from sklearn.model_selection import StratifiedShuffleSplit\n",
        "\n",
        "def create_partial_labels(X, y, fraction=0.3):\n",
        "    sss = StratifiedShuffleSplit(n_splits=1, train_size=fraction, random_state=42)\n",
        "    indices = next(sss.split(X, y))[0]\n",
        "    return X[indices], y[indices]\n",
        "\n",
        "X_train_partial, y_train_partial = create_partial_labels(X_train_noisy, y_train, fraction=0.3)\n",
        "topo_train_partial = topo_train_noisy[:len(X_train_partial)]\n",
        "y_train_partial_cat = to_categorical(y_train_partial, num_classes)\n"
      ]
    },
    {
      "cell_type": "code",
      "execution_count": null,
      "metadata": {
        "colab": {
          "base_uri": "https://localhost:8080/"
        },
        "id": "0Z89JtWpX-xm",
        "outputId": "4a186133-0e07-495a-fef2-4eba463f623e"
      },
      "outputs": [
        {
          "name": "stdout",
          "output_type": "stream",
          "text": [
            "\u001b[?25l   \u001b[90m━━━━━━━━━━━━━━━━━━━━━━━━━━━━━━━━━━━━━━━━\u001b[0m \u001b[32m0.0/611.8 kB\u001b[0m \u001b[31m?\u001b[0m eta \u001b[36m-:--:--\u001b[0m\r\u001b[2K   \u001b[91m━━━━━━━━━━━━━━━\u001b[0m\u001b[90m╺\u001b[0m\u001b[90m━━━━━━━━━━━━━━━━━━━━━━━━\u001b[0m \u001b[32m235.5/611.8 kB\u001b[0m \u001b[31m7.1 MB/s\u001b[0m eta \u001b[36m0:00:01\u001b[0m\r\u001b[2K   \u001b[90m━━━━━━━━━━━━━━━━━━━━━━━━━━━━━━━━━━━━━━━━\u001b[0m \u001b[32m611.8/611.8 kB\u001b[0m \u001b[31m9.5 MB/s\u001b[0m eta \u001b[36m0:00:00\u001b[0m\n",
            "\u001b[?25h\u001b[31mERROR: pip's dependency resolver does not currently take into account all the packages that are installed. This behaviour is the source of the following dependency conflicts.\n",
            "inflect 7.5.0 requires typeguard>=4.0.1, but you have typeguard 2.13.3 which is incompatible.\u001b[0m\u001b[31m\n",
            "\u001b[0m"
          ]
        }
      ],
      "source": [
        "!pip install -q tensorflow-addons"
      ]
    },
    {
      "cell_type": "code",
      "execution_count": null,
      "metadata": {
        "id": "buVi5CEYX1O9"
      },
      "outputs": [],
      "source": [
        "from tensorflow.keras.callbacks import EarlyStopping, ReduceLROnPlateau\n",
        "from tensorflow.keras.optimizers import Adam\n",
        "from tensorflow.keras.optimizers import Adam\n",
        "from tensorflow.keras.regularizers import l2\n",
        "\n",
        "optimizer = Adam(learning_rate=1e-3)\n",
        "\n",
        "# Early stopping\n",
        "early_stop = EarlyStopping(monitor='val_loss', patience=10, restore_best_weights=True)\n",
        "\n",
        "# Reduce LR on plateau\n",
        "reduce_lr = ReduceLROnPlateau(monitor='val_loss', factor=0.5, patience=5, min_lr=1e-5)\n",
        "\n",
        "# Combine\n",
        "callbacks = [early_stop, reduce_lr]"
      ]
    },
    {
      "cell_type": "code",
      "execution_count": null,
      "metadata": {
        "colab": {
          "base_uri": "https://localhost:8080/"
        },
        "id": "KnwKJuEgXJ29",
        "outputId": "1acdefab-d110-4445-f7ff-2d85e1361f2f"
      },
      "outputs": [
        {
          "name": "stdout",
          "output_type": "stream",
          "text": [
            "Epoch 1/100\n",
            "29/29 - 13s - 441ms/step - accuracy: 0.3639 - loss: 1.9745 - val_accuracy: 0.4707 - val_loss: 2.6200 - learning_rate: 1.0000e-03\n",
            "Epoch 2/100\n",
            "29/29 - 1s - 20ms/step - accuracy: 0.5792 - loss: 1.2012 - val_accuracy: 0.5459 - val_loss: 4.2518 - learning_rate: 1.0000e-03\n",
            "Epoch 3/100\n",
            "29/29 - 1s - 20ms/step - accuracy: 0.6584 - loss: 0.9365 - val_accuracy: 0.5112 - val_loss: 11.5401 - learning_rate: 1.0000e-03\n",
            "Epoch 4/100\n",
            "29/29 - 1s - 24ms/step - accuracy: 0.7543 - loss: 0.6717 - val_accuracy: 0.5834 - val_loss: 11.6470 - learning_rate: 1.0000e-03\n",
            "Epoch 5/100\n",
            "29/29 - 1s - 23ms/step - accuracy: 0.8140 - loss: 0.5398 - val_accuracy: 0.5761 - val_loss: 15.7990 - learning_rate: 1.0000e-03\n",
            "Epoch 6/100\n",
            "29/29 - 1s - 25ms/step - accuracy: 0.8552 - loss: 0.3970 - val_accuracy: 0.5624 - val_loss: 28.0925 - learning_rate: 1.0000e-03\n",
            "Epoch 7/100\n",
            "29/29 - 1s - 36ms/step - accuracy: 0.9170 - loss: 0.2359 - val_accuracy: 0.5454 - val_loss: 26.0201 - learning_rate: 5.0000e-04\n",
            "Epoch 8/100\n",
            "29/29 - 1s - 18ms/step - accuracy: 0.9371 - loss: 0.2106 - val_accuracy: 0.5488 - val_loss: 34.7860 - learning_rate: 5.0000e-04\n",
            "Epoch 9/100\n",
            "29/29 - 1s - 23ms/step - accuracy: 0.9474 - loss: 0.1590 - val_accuracy: 0.5390 - val_loss: 42.2816 - learning_rate: 5.0000e-04\n",
            "Epoch 10/100\n",
            "29/29 - 1s - 18ms/step - accuracy: 0.9382 - loss: 0.1567 - val_accuracy: 0.5546 - val_loss: 40.8891 - learning_rate: 5.0000e-04\n",
            "Epoch 11/100\n",
            "29/29 - 1s - 21ms/step - accuracy: 0.9593 - loss: 0.1157 - val_accuracy: 0.5312 - val_loss: 47.5472 - learning_rate: 5.0000e-04\n",
            "Noisy Bands + Partial Labels → Test Loss: 2.730531692504883\n",
            "🧪 Test Accuracy (Noisy Bands + Partial Labels): 46.63%\n"
          ]
        }
      ],
      "source": [
        "train_dataset_partial = tf.data.Dataset.from_tensor_slices(\n",
        "    ((X_train_partial, topo_train_partial), y_train_partial_cat)\n",
        ").shuffle(2048).batch(64)\n",
        "\n",
        "model_partial = build_topomorph_model(input_shape=(13,13,30), topo_dim=1, num_classes=16)\n",
        "model_partial.compile(optimizer=optimizer, loss='categorical_crossentropy', metrics=['accuracy'])\n",
        "history_partial = model_partial.fit(\n",
        "    train_dataset_partial,\n",
        "    validation_data=val_dataset,\n",
        "    epochs=100,\n",
        "    callbacks=callbacks,\n",
        "    verbose=2\n",
        ")\n",
        "\n",
        "# Evaluate\n",
        "res = model_partial.evaluate(test_dataset, verbose=0)\n",
        "print(\"Noisy Bands + Partial Labels → Test Loss:\", res[0])\n",
        "print(f\"🧪 Test Accuracy (Noisy Bands + Partial Labels): {res[1]*100:.2f}%\")"
      ]
    },
    {
      "cell_type": "markdown",
      "metadata": {
        "id": "F81svgWQZS2Y"
      },
      "source": [
        "Noisy Bands + Partial Labels → Test Loss: 2.730531692504883\n",
        "🧪 Test Accuracy (Noisy Bands + Partial Labels): 46.63%"
      ]
    },
    {
      "cell_type": "markdown",
      "metadata": {
        "id": "7w2TeFqsK1Oi"
      },
      "source": [
        "💡 What This Means:\n",
        "MBSA selected the same top 30 bands on both X_train and X_test independently.\n",
        "\n",
        "This indicates that the salient bands are consistent across splits, which is a very good sign.\n",
        "\n",
        "It suggests band selection is stable and not overfitting to a specific subset."
      ]
    },
    {
      "cell_type": "code",
      "execution_count": null,
      "metadata": {
        "id": "0kNB_xoiK1Oi"
      },
      "outputs": [],
      "source": [
        "# Assuming `report` is your classification report dict\n",
        "cls_acc = [report[str(i)]['recall'] for i in range(num_classes) if str(i) in report]\n",
        "for i, acc in enumerate(cls_acc):\n",
        "    print(f\"Class {i+1} Accuracy: {acc:.4f}\")"
      ]
    },
    {
      "cell_type": "code",
      "execution_count": null,
      "metadata": {
        "id": "Y15FX0jgK1Oi"
      },
      "outputs": [],
      "source": [
        "import time\n",
        "from sklearn.metrics import classification_report, confusion_matrix, f1_score\n",
        "from tensorflow.keras.utils import to_categorical\n",
        "\n",
        "# Inference\n",
        "start = time.time()\n",
        "y_pred_probs = model.predict(test_dataset)\n",
        "end = time.time()\n",
        "\n",
        "# Inference time\n",
        "inference_time = end - start\n",
        "\n",
        "# Predictions\n",
        "y_pred = np.argmax(y_pred_probs, axis=1)\n",
        "y_true = np.argmax(y_test_cat, axis=1)\n",
        "\n",
        "# Classification Metrics\n",
        "oa = accuracy_score(y_true, y_pred)\n",
        "kappa = cohen_kappa_score(y_true, y_pred)\n",
        "f1_per_class = f1_score(y_true, y_pred, average=None)\n",
        "report = classification_report(y_true, y_pred, output_dict=True)\n",
        "aa = np.mean([report[str(i)]['recall'] for i in range(num_classes) if str(i) in report])\n",
        "\n",
        "# mIoU Calculation\n",
        "conf_mat = confusion_matrix(y_true, y_pred)\n",
        "intersection = np.diag(conf_mat)\n",
        "union = np.sum(conf_mat, axis=1) + np.sum(conf_mat, axis=0) - intersection\n",
        "iou = intersection / np.maximum(union, 1)\n",
        "miou = np.mean(iou)\n",
        "\n",
        "print(\"OA:\", oa)\n",
        "print(\"AA:\", aa)\n",
        "print(\"Kappa:\", kappa)\n",
        "print(\"F1 per class:\", f1_per_class)\n",
        "print(\"mIoU:\", miou)\n",
        "print(\"Inference Time (s):\", inference_time)"
      ]
    },
    {
      "cell_type": "code",
      "execution_count": null,
      "metadata": {
        "id": "lGtj_ptaK1Oi"
      },
      "outputs": [],
      "source": [
        "from tensorflow.python.framework.convert_to_constants import convert_variables_to_constants_v2\n",
        "import tensorflow as tf\n",
        "\n",
        "def get_flops(model):\n",
        "    concrete = tf.function(lambda x1, x2: model([x1, x2]))\n",
        "    input_shapes = [(1, 13, 13, 30), (1, 1)]\n",
        "    concrete_func = concrete.get_concrete_function(\n",
        "        tf.TensorSpec(input_shapes[0], tf.float32),\n",
        "        tf.TensorSpec(input_shapes[1], tf.float32)\n",
        "    )\n",
        "    frozen_func = convert_variables_to_constants_v2(concrete_func)\n",
        "    graph_def = frozen_func.graph.as_graph_def()\n",
        "\n",
        "    with tf.Graph().as_default() as graph:\n",
        "        tf.import_graph_def(graph_def, name='')\n",
        "        run_meta = tf.compat.v1.RunMetadata()\n",
        "        opts = tf.compat.v1.profiler.ProfileOptionBuilder.float_operation()\n",
        "        flops = tf.compat.v1.profiler.profile(graph=graph, run_meta=run_meta, cmd='op', options=opts)\n",
        "        return flops.total_float_ops\n",
        "\n",
        "print(\"FLOPs:\", get_flops(model))\n"
      ]
    },
    {
      "cell_type": "code",
      "execution_count": null,
      "metadata": {
        "id": "peLPM8glK1Oi"
      },
      "outputs": [],
      "source": [
        "print(\"Model Parameters:\", model.count_params())"
      ]
    },
    {
      "cell_type": "markdown",
      "metadata": {
        "id": "_FUz1gzZK1Oi"
      },
      "source": [
        "/kaggle/input/hyperspectral-image-sensing-dataset-ground-truth/Indian_pines_corrected.mat\n",
        "\n",
        "/kaggle/input/hyperspectral-image-sensing-dataset-ground-truth/Salinas_gt.mat\n",
        "\n",
        "/kaggle/input/hyperspectral-image-sensing-dataset-ground-truth/PaviaU_gt.mat\n",
        "\n",
        "/kaggle/input/hyperspectral-image-sensing-dataset-ground-truth/KSC.mat\n",
        "\n",
        "/kaggle/input/hyperspectral-image-sensing-dataset-ground-truth/Salinas_corrected.mat\n",
        "\n",
        "/kaggle/input/hyperspectral-image-sensing-dataset-ground-truth/Indian_pines_gt.mat\n",
        "\n",
        "/kaggle/input/hyperspectral-image-sensing-dataset-ground-truth/PaviaU.mat\n",
        "\n",
        "/kaggle/input/hyperspectral-image-sensing-dataset-ground-truth/KSC_gt.mat"
      ]
    },
    {
      "cell_type": "markdown",
      "metadata": {
        "id": "FBHs2H8tK1Oi"
      },
      "source": [
        "Since your model is already trained on Indian Pines and you've structured it to take in MBSA-selected bands and topological features\n",
        "\n",
        "Load .mat data and GT\n",
        "\n",
        "Normalize data (like you did for Indian Pines)\n",
        "\n",
        "Extract patches of size 13×13 around labeled pixels\n",
        "\n",
        "Apply MBSA to select top-k spectral bands\n",
        "\n",
        "Compute topological features\n",
        "\n",
        "Evaluate using model.evaluate() and metrics"
      ]
    },
    {
      "cell_type": "markdown",
      "metadata": {
        "id": "P3RQ38Q8K1Oi"
      },
      "source": []
    },
    {
      "cell_type": "markdown",
      "source": [
        "# run frm here"
      ],
      "metadata": {
        "id": "VTP6Go_rNva-"
      }
    },
    {
      "cell_type": "code",
      "execution_count": 28,
      "metadata": {
        "id": "i4nhJAlfK1Ok"
      },
      "outputs": [],
      "source": [
        "from sklearn.svm import LinearSVC\n",
        "from sklearn.svm import SVC\n",
        "from sklearn.utils import resample"
      ]
    },
    {
      "cell_type": "code",
      "execution_count": 29,
      "metadata": {
        "id": "b2MpJVyAK1Ok"
      },
      "outputs": [],
      "source": [
        "X_train_flat = X_train_sel.reshape(len(X_train_sel), -1)\n",
        "X_test_flat = X_test_sel.reshape(len(X_test_sel), -1)"
      ]
    },
    {
      "cell_type": "code",
      "execution_count": 30,
      "metadata": {
        "id": "Gg9Y9swtK1Ok",
        "colab": {
          "base_uri": "https://localhost:8080/"
        },
        "outputId": "811408d9-5ad2-42a4-8748-89cb714e17ae"
      },
      "outputs": [
        {
          "output_type": "stream",
          "name": "stdout",
          "text": [
            "\u001b[1m65/65\u001b[0m \u001b[32m━━━━━━━━━━━━━━━━━━━━\u001b[0m\u001b[37m\u001b[0m \u001b[1m1s\u001b[0m 9ms/step\n"
          ]
        }
      ],
      "source": [
        "def build_2dcnn(input_shape, num_classes):\n",
        "    model = tf.keras.Sequential([\n",
        "        layers.Conv2D(32, 3, activation='relu', padding='same', input_shape=input_shape),\n",
        "        layers.MaxPooling2D(),\n",
        "        layers.Conv2D(64, 3, activation='relu', padding='same'),\n",
        "        layers.GlobalAveragePooling2D(),\n",
        "        layers.Dense(num_classes, activation='softmax')\n",
        "    ])\n",
        "    model.compile(optimizer='adam', loss='sparse_categorical_crossentropy', metrics=['accuracy'])\n",
        "    return model\n",
        "\n",
        "cnn2d = build_2dcnn(X_train_sel.shape[1:], num_classes)\n",
        "cnn2d.fit(X_train_sel, y_train, epochs=20, batch_size=64, validation_split=0.2, verbose=0)\n",
        "cnn_preds = np.argmax(cnn2d.predict(X_test_sel), axis=1)\n",
        "#cnn_acc = get_per_class_accuracy(y_test, cnn_preds, num_classes)"
      ]
    },
    {
      "cell_type": "code",
      "execution_count": 31,
      "metadata": {
        "id": "9A9KgK4PK1Ol"
      },
      "outputs": [],
      "source": [
        "from sklearn.metrics import classification_report, f1_score, accuracy_score, cohen_kappa_score\n",
        "\n",
        "def get_metrics_dict(y_true, y_pred, num_classes):\n",
        "    report = classification_report(y_true, y_pred, output_dict=True, zero_division=0)\n",
        "    per_class_f1 = [report.get(str(i), {}).get(\"f1-score\", 0.0) for i in range(num_classes)]\n",
        "    precision = f1_score(y_true, y_pred, average='macro')\n",
        "    recall = report[\"macro avg\"][\"recall\"]\n",
        "    oa = accuracy_score(y_true, y_pred)\n",
        "    kappa = cohen_kappa_score(y_true, y_pred)\n",
        "    aa = np.mean([report.get(str(i), {}).get(\"recall\", 0.0) for i in range(num_classes)])\n",
        "\n",
        "    return {\n",
        "        \"OA\": round(oa, 4),\n",
        "        \"AA\": round(aa, 4),\n",
        "        \"Kappa\": round(kappa, 4),\n",
        "        \"F1\": round(precision, 4),\n",
        "        \"F1_per_class\": [round(x, 4) for x in per_class_f1],\n",
        "        \"Precision\": round(report[\"macro avg\"][\"precision\"], 4),\n",
        "        \"Recall\": round(recall, 4)\n",
        "    }"
      ]
    },
    {
      "cell_type": "markdown",
      "metadata": {
        "id": "9R3vkV_EZ8DW"
      },
      "source": [
        "## HybridSN"
      ]
    },
    {
      "cell_type": "code",
      "execution_count": 32,
      "metadata": {
        "id": "iGmNvin-Z-tI"
      },
      "outputs": [],
      "source": [
        "def build_hybridSN(input_shape, num_classes):\n",
        "    input_layer = layers.Input(shape=input_shape)  # (13, 13, 30)\n",
        "\n",
        "    x = layers.Reshape((*input_shape, 1))(input_layer)  # (13, 13, 30, 1)\n",
        "\n",
        "    # 3D Convolutions\n",
        "    x = layers.Conv3D(8, (3, 3, 7), activation='relu', padding='valid')(x)  # out: (11, 11, 24, 8)\n",
        "    x = layers.Conv3D(16, (3, 3, 5), activation='relu', padding='valid')(x)  # out: (9, 9, 20, 16)\n",
        "    x = layers.Conv3D(32, (3, 3, 3), activation='relu', padding='valid')(x)  # out: (7, 7, 18, 32)\n",
        "\n",
        "    x = layers.Reshape((x.shape[1], x.shape[2], -1))(x)  # Flatten spectral dim: (7, 7, features)\n",
        "    x = layers.Conv2D(64, (3, 3), activation='relu', padding='same')(x)\n",
        "    x = layers.GlobalAveragePooling2D()(x)\n",
        "    output = layers.Dense(num_classes, activation='softmax')(x)\n",
        "\n",
        "    model = models.Model(inputs=input_layer, outputs=output)\n",
        "    return model\n"
      ]
    },
    {
      "cell_type": "code",
      "execution_count": 33,
      "metadata": {
        "colab": {
          "base_uri": "https://localhost:8080/"
        },
        "collapsed": true,
        "id": "3RW0N94NaCAg",
        "outputId": "0fe8c109-fef5-47d5-d359-0bcb9658a3dd"
      },
      "outputs": [
        {
          "output_type": "stream",
          "name": "stdout",
          "text": [
            "Epoch 1/20\n",
            "\u001b[1m97/97\u001b[0m \u001b[32m━━━━━━━━━━━━━━━━━━━━\u001b[0m\u001b[37m\u001b[0m \u001b[1m8s\u001b[0m 41ms/step - accuracy: 0.4956 - loss: 1.5702 - val_accuracy: 0.8249 - val_loss: 0.5227\n",
            "Epoch 2/20\n",
            "\u001b[1m97/97\u001b[0m \u001b[32m━━━━━━━━━━━━━━━━━━━━\u001b[0m\u001b[37m\u001b[0m \u001b[1m1s\u001b[0m 14ms/step - accuracy: 0.8442 - loss: 0.4211 - val_accuracy: 0.9356 - val_loss: 0.2024\n",
            "Epoch 3/20\n",
            "\u001b[1m97/97\u001b[0m \u001b[32m━━━━━━━━━━━━━━━━━━━━\u001b[0m\u001b[37m\u001b[0m \u001b[1m2s\u001b[0m 16ms/step - accuracy: 0.9353 - loss: 0.1745 - val_accuracy: 0.9380 - val_loss: 0.1862\n",
            "Epoch 4/20\n",
            "\u001b[1m97/97\u001b[0m \u001b[32m━━━━━━━━━━━━━━━━━━━━\u001b[0m\u001b[37m\u001b[0m \u001b[1m1s\u001b[0m 15ms/step - accuracy: 0.9566 - loss: 0.1289 - val_accuracy: 0.9766 - val_loss: 0.0775\n",
            "Epoch 5/20\n",
            "\u001b[1m97/97\u001b[0m \u001b[32m━━━━━━━━━━━━━━━━━━━━\u001b[0m\u001b[37m\u001b[0m \u001b[1m1s\u001b[0m 14ms/step - accuracy: 0.9807 - loss: 0.0655 - val_accuracy: 0.9888 - val_loss: 0.0366\n",
            "Epoch 6/20\n",
            "\u001b[1m97/97\u001b[0m \u001b[32m━━━━━━━━━━━━━━━━━━━━\u001b[0m\u001b[37m\u001b[0m \u001b[1m1s\u001b[0m 14ms/step - accuracy: 0.9806 - loss: 0.0699 - val_accuracy: 0.9854 - val_loss: 0.0578\n",
            "Epoch 7/20\n",
            "\u001b[1m97/97\u001b[0m \u001b[32m━━━━━━━━━━━━━━━━━━━━\u001b[0m\u001b[37m\u001b[0m \u001b[1m1s\u001b[0m 14ms/step - accuracy: 0.9889 - loss: 0.0355 - val_accuracy: 0.9639 - val_loss: 0.1013\n",
            "Epoch 8/20\n",
            "\u001b[1m97/97\u001b[0m \u001b[32m━━━━━━━━━━━━━━━━━━━━\u001b[0m\u001b[37m\u001b[0m \u001b[1m1s\u001b[0m 14ms/step - accuracy: 0.9895 - loss: 0.0369 - val_accuracy: 0.9922 - val_loss: 0.0241\n",
            "Epoch 9/20\n",
            "\u001b[1m97/97\u001b[0m \u001b[32m━━━━━━━━━━━━━━━━━━━━\u001b[0m\u001b[37m\u001b[0m \u001b[1m3s\u001b[0m 14ms/step - accuracy: 0.9959 - loss: 0.0147 - val_accuracy: 0.9820 - val_loss: 0.0580\n",
            "Epoch 10/20\n",
            "\u001b[1m97/97\u001b[0m \u001b[32m━━━━━━━━━━━━━━━━━━━━\u001b[0m\u001b[37m\u001b[0m \u001b[1m1s\u001b[0m 14ms/step - accuracy: 0.9912 - loss: 0.0311 - val_accuracy: 0.9859 - val_loss: 0.0540\n",
            "Epoch 11/20\n",
            "\u001b[1m97/97\u001b[0m \u001b[32m━━━━━━━━━━━━━━━━━━━━\u001b[0m\u001b[37m\u001b[0m \u001b[1m2s\u001b[0m 16ms/step - accuracy: 0.9926 - loss: 0.0242 - val_accuracy: 0.9883 - val_loss: 0.0389\n",
            "Epoch 12/20\n",
            "\u001b[1m97/97\u001b[0m \u001b[32m━━━━━━━━━━━━━━━━━━━━\u001b[0m\u001b[37m\u001b[0m \u001b[1m2s\u001b[0m 14ms/step - accuracy: 0.9910 - loss: 0.0272 - val_accuracy: 0.9966 - val_loss: 0.0148\n",
            "Epoch 13/20\n",
            "\u001b[1m97/97\u001b[0m \u001b[32m━━━━━━━━━━━━━━━━━━━━\u001b[0m\u001b[37m\u001b[0m \u001b[1m1s\u001b[0m 14ms/step - accuracy: 0.9936 - loss: 0.0229 - val_accuracy: 0.9868 - val_loss: 0.0460\n",
            "Epoch 14/20\n",
            "\u001b[1m97/97\u001b[0m \u001b[32m━━━━━━━━━━━━━━━━━━━━\u001b[0m\u001b[37m\u001b[0m \u001b[1m1s\u001b[0m 14ms/step - accuracy: 0.9882 - loss: 0.0428 - val_accuracy: 0.9873 - val_loss: 0.0589\n",
            "Epoch 15/20\n",
            "\u001b[1m97/97\u001b[0m \u001b[32m━━━━━━━━━━━━━━━━━━━━\u001b[0m\u001b[37m\u001b[0m \u001b[1m1s\u001b[0m 14ms/step - accuracy: 0.9898 - loss: 0.0388 - val_accuracy: 0.9815 - val_loss: 0.0588\n",
            "Epoch 16/20\n",
            "\u001b[1m97/97\u001b[0m \u001b[32m━━━━━━━━━━━━━━━━━━━━\u001b[0m\u001b[37m\u001b[0m \u001b[1m1s\u001b[0m 14ms/step - accuracy: 0.9954 - loss: 0.0184 - val_accuracy: 0.9932 - val_loss: 0.0228\n",
            "Epoch 17/20\n",
            "\u001b[1m97/97\u001b[0m \u001b[32m━━━━━━━━━━━━━━━━━━━━\u001b[0m\u001b[37m\u001b[0m \u001b[1m1s\u001b[0m 14ms/step - accuracy: 0.9971 - loss: 0.0161 - val_accuracy: 0.9844 - val_loss: 0.0467\n",
            "Epoch 18/20\n",
            "\u001b[1m97/97\u001b[0m \u001b[32m━━━━━━━━━━━━━━━━━━━━\u001b[0m\u001b[37m\u001b[0m \u001b[1m1s\u001b[0m 14ms/step - accuracy: 0.9958 - loss: 0.0172 - val_accuracy: 0.9941 - val_loss: 0.0172\n",
            "Epoch 19/20\n",
            "\u001b[1m97/97\u001b[0m \u001b[32m━━━━━━━━━━━━━━━━━━━━\u001b[0m\u001b[37m\u001b[0m \u001b[1m2s\u001b[0m 16ms/step - accuracy: 0.9986 - loss: 0.0078 - val_accuracy: 0.9961 - val_loss: 0.0123\n",
            "Epoch 20/20\n",
            "\u001b[1m97/97\u001b[0m \u001b[32m━━━━━━━━━━━━━━━━━━━━\u001b[0m\u001b[37m\u001b[0m \u001b[1m1s\u001b[0m 15ms/step - accuracy: 0.9956 - loss: 0.0131 - val_accuracy: 0.9902 - val_loss: 0.0260\n"
          ]
        }
      ],
      "source": [
        "hybrid_model = build_hybridSN(input_shape=(13, 13, 30), num_classes=16)\n",
        "hybrid_model.compile(optimizer='adam', loss='categorical_crossentropy', metrics=['accuracy'])\n",
        "\n",
        "train_ds = tf.data.Dataset.from_tensor_slices((X_train_sel, y_train_cat)).shuffle(2048).batch(64)\n",
        "val_ds   = tf.data.Dataset.from_tensor_slices((X_val_sel, y_val_cat)).batch(64)\n",
        "test_ds  = tf.data.Dataset.from_tensor_slices((X_test_sel, y_test_cat)).batch(64)\n",
        "\n",
        "hybrid_model.fit(train_ds, validation_data=val_ds, epochs=20, callbacks=callbacks)\n",
        "hybrid_model.save(\"hybridSN_model.keras\")"
      ]
    },
    {
      "cell_type": "code",
      "execution_count": 34,
      "metadata": {
        "colab": {
          "base_uri": "https://localhost:8080/"
        },
        "id": "inHjzPqOala4",
        "outputId": "99647e7b-73ce-4557-c16a-bd460157311c"
      },
      "outputs": [
        {
          "output_type": "stream",
          "name": "stdout",
          "text": [
            "\u001b[1m33/33\u001b[0m \u001b[32m━━━━━━━━━━━━━━━━━━━━\u001b[0m\u001b[37m\u001b[0m \u001b[1m1s\u001b[0m 15ms/step\n"
          ]
        }
      ],
      "source": [
        "from tensorflow.keras.models import load_model\n",
        "from sklearn.metrics import accuracy_score, cohen_kappa_score, confusion_matrix\n",
        "from sklearn.metrics import classification_report\n",
        "from sklearn.metrics import f1_score\n",
        "\n",
        "hybrid_model = load_model(\"hybridSN_model.keras\")\n",
        "y_pred_hybrid = np.argmax(hybrid_model.predict(test_ds), axis=1)\n",
        "oa_hybrid = accuracy_score(y_test, y_pred_hybrid)\n",
        "kappa_hybrid = cohen_kappa_score(y_test, y_pred_hybrid)\n",
        "f1_hybrid = f1_score(y_test, y_pred_hybrid, average='macro')\n",
        "report_hybrid = classification_report(y_test, y_pred_hybrid, output_dict=True)\n",
        "aa_hybrid = np.mean([report_hybrid[str(i)]['recall'] for i in range(1, 16) if str(i) in report_hybrid])\n"
      ]
    },
    {
      "cell_type": "markdown",
      "metadata": {
        "id": "GJA2RRSaK1Ol"
      },
      "source": [
        "## SVM"
      ]
    },
    {
      "cell_type": "code",
      "execution_count": 35,
      "metadata": {
        "id": "22w-8F0JK1Ol"
      },
      "outputs": [],
      "source": [
        "from sklearn.svm import LinearSVC\n",
        "from sklearn.decomposition import PCA\n",
        "from sklearn.preprocessing import StandardScaler\n",
        "from sklearn.metrics import confusion_matrix\n",
        "from sklearn.linear_model import SGDClassifier\n",
        "from sklearn.pipeline import make_pipeline\n",
        "from sklearn.preprocessing import StandardScaler\n",
        "from sklearn.decomposition import PCA"
      ]
    },
    {
      "cell_type": "code",
      "execution_count": 36,
      "metadata": {
        "id": "GbdwTei5K1Ol"
      },
      "outputs": [],
      "source": [
        "# Flatten spatial patches: (samples, 13, 13, bands) --> (samples, 13*13*bands)\n",
        "X_train_flat = X_train_sel.reshape(len(X_train_sel), -1)\n",
        "X_test_flat = X_test_sel.reshape(len(X_test_sel), -1)\n",
        "\n",
        "# Flatten\n",
        "X_train_flat = X_train_sel.reshape(len(X_train_sel), -1) #(6149, 5070)\n",
        "X_test_flat = X_test_sel.reshape(len(X_test_sel), -1) #(2050, 5070)"
      ]
    },
    {
      "cell_type": "code",
      "execution_count": 37,
      "metadata": {
        "id": "l2E0ZfC3K1Ol"
      },
      "outputs": [],
      "source": [
        "# Pipeline: Scaler + PCA + SGD-based SVM\n",
        "pipeline = make_pipeline(\n",
        "    StandardScaler(),\n",
        "    PCA(n_components=100),\n",
        "    SGDClassifier(loss='hinge', max_iter=1000, tol=1e-3, random_state=42)\n",
        ")\n",
        "pipeline.fit(X_train_flat, y_train)\n",
        "svm_preds = pipeline.predict(X_test_flat)"
      ]
    },
    {
      "cell_type": "code",
      "execution_count": 38,
      "metadata": {
        "colab": {
          "base_uri": "https://localhost:8080/"
        },
        "id": "vXTf4e2zK1Ol",
        "outputId": "c9cf82ec-a5e1-41ac-bc9d-f8bc4f6d64b8"
      },
      "outputs": [
        {
          "output_type": "stream",
          "name": "stdout",
          "text": [
            "✅ Per-Class Accuracy (SGD-based SVM): [0.8889, 0.6912, 0.6446, 0.7917, 0.9691, 0.9452, 1.0, 1.0, 1.0, 0.6667, 0.7923, 0.5254, 0.9512, 0.9802, 0.9091, 0.8421]\n"
          ]
        }
      ],
      "source": [
        "from sklearn.metrics import classification_report\n",
        "def get_per_class_accuracy(y_true, y_pred, num_classes):\n",
        "    report = classification_report(y_true, y_pred, output_dict=True)\n",
        "    per_class_acc = []\n",
        "    for i in range(num_classes):\n",
        "        label = str(i)\n",
        "        if label in report:\n",
        "            per_class_acc.append(round(report[label]['recall'], 4))\n",
        "        else:\n",
        "            per_class_acc.append(0.0)\n",
        "    return per_class_acc\n",
        "\n",
        "svm_acc = get_per_class_accuracy(y_test, svm_preds, num_classes)\n",
        "print(\"✅ Per-Class Accuracy (SGD-based SVM):\", svm_acc)"
      ]
    },
    {
      "cell_type": "code",
      "execution_count": 39,
      "metadata": {
        "colab": {
          "base_uri": "https://localhost:8080/"
        },
        "id": "rKos20DPK1Ol",
        "outputId": "1fe09675-5462-419a-c334-cd35ace3e36e"
      },
      "outputs": [
        {
          "output_type": "stream",
          "name": "stdout",
          "text": [
            "✅ Overall Accuracy (OA): 0.8005\n",
            "✅ Average Accuracy (AA): 0.8499\n",
            "✅ Kappa Coefficient: 0.7723\n"
          ]
        }
      ],
      "source": [
        "from sklearn.metrics import accuracy_score, cohen_kappa_score, confusion_matrix\n",
        "\n",
        "oa = accuracy_score(y_test, svm_preds)\n",
        "conf_mat = confusion_matrix(y_test, svm_preds)\n",
        "per_class_acc = conf_mat.diagonal() / conf_mat.sum(axis=1)\n",
        "aa = np.mean(per_class_acc)\n",
        "kappa = cohen_kappa_score(y_test, svm_preds)\n",
        "\n",
        "# Print results\n",
        "print(\"✅ Overall Accuracy (OA):\", round(oa, 4))\n",
        "print(\"✅ Average Accuracy (AA):\", round(aa, 4))\n",
        "print(\"✅ Kappa Coefficient:\", round(kappa, 4))"
      ]
    },
    {
      "cell_type": "code",
      "source": [
        "from tensorflow.keras.models import Sequential\n",
        "from tensorflow.keras.layers import Conv3D, MaxPooling3D, Flatten, Dense, Dropout, InputLayer\n",
        "from tensorflow.keras.optimizers import Adam\n",
        "from tensorflow.keras.callbacks import EarlyStopping"
      ],
      "metadata": {
        "id": "F3Ya-NhhPMSu"
      },
      "execution_count": 40,
      "outputs": []
    },
    {
      "cell_type": "markdown",
      "metadata": {
        "id": "EdLoPKMHK1Ol"
      },
      "source": [
        "## 3d cnn"
      ]
    },
    {
      "cell_type": "code",
      "execution_count": 36,
      "metadata": {
        "id": "wLxrlmswK1Ol"
      },
      "outputs": [],
      "source": [
        "input_shape = (13, 13, 200, 1)\n",
        "X_train_cnn = X_train[..., np.newaxis]#(6149, 13, 13, 200, 1)\n",
        "X_val_cnn = X_val[..., np.newaxis]#(2050, 13, 13, 200, 1)\n",
        "X_test_cnn = X_test[..., np.newaxis]#(2050, 13, 13, 200, 1)"
      ]
    },
    {
      "cell_type": "code",
      "source": [
        "X_train_cnn.shape"
      ],
      "metadata": {
        "colab": {
          "base_uri": "https://localhost:8080/"
        },
        "id": "pV2X_0kYKijc",
        "outputId": "fcdddc8a-0089-458a-a475-7614d6a701af"
      },
      "execution_count": 41,
      "outputs": [
        {
          "output_type": "execute_result",
          "data": {
            "text/plain": [
              "(6149, 13, 13, 200, 1)"
            ]
          },
          "metadata": {},
          "execution_count": 41
        }
      ]
    },
    {
      "cell_type": "code",
      "execution_count": 37,
      "metadata": {
        "id": "f4JNVxIc0pPE"
      },
      "outputs": [],
      "source": [
        "cnn3d_model = Sequential([\n",
        "    InputLayer(input_shape=input_shape),\n",
        "    Conv3D(16, (3, 3, 7), activation='relu', padding='same'),\n",
        "    MaxPooling3D((2, 2, 2)),\n",
        "    Conv3D(32, (3, 3, 5), activation='relu', padding='same'),\n",
        "    MaxPooling3D((2, 2, 2)),\n",
        "    Flatten(),\n",
        "    Dense(128, activation='relu'),\n",
        "    Dropout(0.3),\n",
        "    Dense(num_classes, activation='softmax')\n",
        "])\n",
        "\n",
        "cnn3d_model.compile(optimizer=Adam(1e-3), loss='categorical_crossentropy', metrics=['accuracy'])\n",
        "\n",
        "es = EarlyStopping(patience=10, restore_best_weights=True)"
      ]
    },
    {
      "cell_type": "code",
      "execution_count": null,
      "metadata": {
        "id": "qzqtEzYEK1Ol"
      },
      "outputs": [],
      "source": [
        "history = cnn3d_model.fit(X_train_cnn, y_train_cat,\n",
        "                    validation_data=(X_val_cnn, y_val_cat),\n",
        "                    epochs=20, batch_size=64,\n",
        "                    callbacks=[es])"
      ]
    },
    {
      "cell_type": "code",
      "execution_count": null,
      "metadata": {
        "id": "-D7QA5L-K1Ol"
      },
      "outputs": [],
      "source": [
        "#cnn3d_model.save(\"cnn3d_model.keras\", overwrite=True)\n",
        "\n",
        "#cnn3d_model=load_model(\"cnn3d_model.keras\")"
      ]
    },
    {
      "cell_type": "code",
      "execution_count": null,
      "metadata": {
        "id": "aus1kG9mK1Ol"
      },
      "outputs": [],
      "source": [
        "from sklearn.metrics import f1_score\n",
        "# Evaluation\n",
        "test_loss, test_acc = cnn3d_model.evaluate(X_test_cnn, y_test_cat)\n",
        "print(\"✅ Test Accuracy:\", test_acc)\n",
        "\n",
        "# Per-class metrics\n",
        "y_pred_cnn3d = np.argmax(cnn3d_model.predict(X_test_cnn), axis=1)\n",
        "oa = accuracy_score(y_test, y_pred_cnn3d)\n",
        "aa = np.mean([accuracy_score(y_test[y_test == i], y_pred_cnn3d[y_test == i]) for i in range(num_classes)])\n",
        "kappa = cohen_kappa_score(y_test, y_pred_cnn3d)\n",
        "f1 = f1_score(y_test, y_pred_cnn3d, average=None)\n",
        "print(\"✅ OA:\", oa, \"\\n✅ AA:\", aa, \"\\n✅ Kappa:\", kappa)\n",
        "print(\"✅ Per-Class F1:\", f1)"
      ]
    },
    {
      "cell_type": "markdown",
      "metadata": {
        "id": "uZ7dUxpZK1Ol"
      },
      "source": [
        "## 3D CNN ENCODER"
      ]
    },
    {
      "cell_type": "code",
      "execution_count": 36,
      "metadata": {
        "id": "VQchBGClK1Ol"
      },
      "outputs": [],
      "source": [
        "from tensorflow.keras.models import Model\n",
        "from tensorflow.keras.layers import Input, Conv3D, MaxPooling3D, GlobalAveragePooling3D, Dense, Dropout\n",
        "\n",
        "def build_encoder_cnn(input_shape=(13, 13, 200, 1), num_classes=16):\n",
        "    inputs = Input(shape=input_shape)\n",
        "\n",
        "    x = Conv3D(16, (3, 3, 7), activation='relu', padding='same')(inputs)\n",
        "    x = MaxPooling3D((2, 2, 2))(x)\n",
        "    x = Conv3D(32, (3, 3, 5), activation='relu', padding='same')(x)\n",
        "    x = MaxPooling3D((2, 2, 2))(x)\n",
        "\n",
        "    encoded = GlobalAveragePooling3D()(x)\n",
        "    x = Dropout(0.3)(encoded)\n",
        "    outputs = Dense(num_classes, activation='softmax')(x)\n",
        "\n",
        "    model = Model(inputs, outputs)\n",
        "    return model"
      ]
    },
    {
      "cell_type": "code",
      "execution_count": 37,
      "metadata": {
        "id": "AHrAneWc0f4S"
      },
      "outputs": [],
      "source": [
        "from tensorflow.keras.optimizers import Adam\n"
      ]
    },
    {
      "cell_type": "code",
      "execution_count": null,
      "metadata": {
        "id": "Yu0f3IOZK1Ol"
      },
      "outputs": [],
      "source": [
        "encoder_model = build_encoder_cnn()\n",
        "encoder_model.compile(optimizer=Adam(1e-3), loss='categorical_crossentropy', metrics=['accuracy'])\n",
        "\n",
        "es = EarlyStopping(patience=10, restore_best_weights=True)\n",
        "\n",
        "encoder_model.fit(X_train_cnn, y_train_cat,\n",
        "                  validation_data=(X_val_cnn, y_val_cat),\n",
        "                  epochs=30, batch_size=64,\n",
        "                  callbacks=[es])\n",
        "#encoder_model.save(\"encoder_model.keras\")\n",
        "#encoder_model = load_model(\"encoder_model.keras\")"
      ]
    },
    {
      "cell_type": "code",
      "execution_count": null,
      "metadata": {
        "colab": {
          "background_save": true
        },
        "id": "GooOGZ5aK1Ol",
        "outputId": "f67a5338-777b-459e-eada-051260c2ee15"
      },
      "outputs": [
        {
          "name": "stdout",
          "output_type": "stream",
          "text": [
            "\u001b[1m65/65\u001b[0m \u001b[32m━━━━━━━━━━━━━━━━━━━━\u001b[0m\u001b[37m\u001b[0m \u001b[1m2s\u001b[0m 14ms/step\n",
            "✅ OA: 0.9478048780487804 \n",
            "✅ AA: 0.9335464587030614 \n",
            "✅ Kappa: 0.9403076624986801\n",
            "✅ Per-Class F1: [0.94117647 0.92091388 0.96385542 0.97916667 1.         0.9559322\n",
            " 1.         1.         0.85714286 0.88346883 0.94291339 0.92857143\n",
            " 0.925      0.98624754 0.94736842 0.94736842]\n"
          ]
        }
      ],
      "source": [
        "# Eval\n",
        "y_pred_enc = np.argmax(encoder_model.predict(X_test_cnn), axis=1)\n",
        "oa = accuracy_score(y_test, y_pred_enc)\n",
        "aa = np.mean([accuracy_score(y_test[y_test == i], y_pred_enc[y_test == i]) for i in range(num_classes)])\n",
        "kappa = cohen_kappa_score(y_test, y_pred_enc)\n",
        "f1 = f1_score(y_test, y_pred_enc, average=None)\n",
        "print(\"✅ OA:\", oa, \"\\n✅ AA:\", aa, \"\\n✅ Kappa:\", kappa)\n",
        "print(\"✅ Per-Class F1:\", f1)"
      ]
    },
    {
      "cell_type": "markdown",
      "metadata": {
        "id": "h6H8jmneK1Ol"
      },
      "source": [
        "✅ OA: 0.9526829268292683\n",
        "✅ AA: 0.93534001682297\n",
        "✅ Kappa: 0.9458890803701584\n",
        "✅ Per-Class F1: [0.94117647 0.92758621 0.96987952 0.94736842 0.96808511 0.97959184\n",
        " 0.8        0.99470899 1.         0.91935484 0.94559842 0.91891892\n",
        " 0.98765432 0.98023715 0.95541401 1.        ]"
      ]
    },
    {
      "cell_type": "markdown",
      "metadata": {
        "id": "v8NZiAitK1Om"
      },
      "source": [
        "## rnn"
      ]
    },
    {
      "cell_type": "code",
      "execution_count": 41,
      "metadata": {
        "colab": {
          "base_uri": "https://localhost:8080/"
        },
        "id": "JS1aCYaHK1Om",
        "outputId": "2ff1587d-1fd7-4035-ab6e-a574c1778c87"
      },
      "outputs": [
        {
          "output_type": "stream",
          "name": "stdout",
          "text": [
            "RNN Input shape: (6149, 169, 200)\n"
          ]
        }
      ],
      "source": [
        "# Reshape from (N, 13, 13, 200) → (N, 169, 200)\n",
        "X_train_seq = X_train.reshape(X_train.shape[0], -1, X_train.shape[-1])\n",
        "X_val_seq   = X_val.reshape(X_val.shape[0], -1, X_val.shape[-1])\n",
        "X_test_seq  = X_test.reshape(X_test.shape[0], -1, X_test.shape[-1])\n",
        "\n",
        "print(\"RNN Input shape:\", X_train_seq.shape)  # e.g. (6149, 169, 200)"
      ]
    },
    {
      "cell_type": "code",
      "execution_count": 42,
      "metadata": {
        "id": "2KmY8vyLK1Om"
      },
      "outputs": [],
      "source": [
        "from tensorflow.keras.layers import SimpleRNN\n",
        "def build_rnn_classifier(input_shape, num_classes):\n",
        "    model = Sequential([\n",
        "        SimpleRNN(64, return_sequences=False, input_shape=input_shape),\n",
        "        Dense(64, activation='relu'),\n",
        "        Dropout(0.3),\n",
        "        Dense(num_classes, activation='softmax')\n",
        "    ])\n",
        "    model.compile(optimizer='adam', loss='categorical_crossentropy', metrics=['accuracy'])\n",
        "    return model\n",
        "\n",
        "rnn_model = build_rnn_classifier((169, X_train.shape[-1]), num_classes)\n",
        "#rnn_model.summary()"
      ]
    },
    {
      "cell_type": "code",
      "execution_count": 43,
      "metadata": {
        "id": "1a5ttHHxK1Om",
        "colab": {
          "base_uri": "https://localhost:8080/"
        },
        "outputId": "7489b4cc-f62d-4420-cd42-7e758b697425"
      },
      "outputs": [
        {
          "output_type": "stream",
          "name": "stdout",
          "text": [
            "Epoch 1/30\n",
            "\u001b[1m97/97\u001b[0m \u001b[32m━━━━━━━━━━━━━━━━━━━━\u001b[0m\u001b[37m\u001b[0m \u001b[1m10s\u001b[0m 54ms/step - accuracy: 0.2646 - loss: 2.3651 - val_accuracy: 0.4498 - val_loss: 1.7459\n",
            "Epoch 2/30\n",
            "\u001b[1m97/97\u001b[0m \u001b[32m━━━━━━━━━━━━━━━━━━━━\u001b[0m\u001b[37m\u001b[0m \u001b[1m4s\u001b[0m 22ms/step - accuracy: 0.4410 - loss: 1.7701 - val_accuracy: 0.4585 - val_loss: 1.6074\n",
            "Epoch 3/30\n",
            "\u001b[1m97/97\u001b[0m \u001b[32m━━━━━━━━━━━━━━━━━━━━\u001b[0m\u001b[37m\u001b[0m \u001b[1m2s\u001b[0m 24ms/step - accuracy: 0.4432 - loss: 1.6687 - val_accuracy: 0.5678 - val_loss: 1.3083\n",
            "Epoch 4/30\n",
            "\u001b[1m97/97\u001b[0m \u001b[32m━━━━━━━━━━━━━━━━━━━━\u001b[0m\u001b[37m\u001b[0m \u001b[1m2s\u001b[0m 20ms/step - accuracy: 0.5506 - loss: 1.3972 - val_accuracy: 0.6127 - val_loss: 1.1981\n",
            "Epoch 5/30\n",
            "\u001b[1m97/97\u001b[0m \u001b[32m━━━━━━━━━━━━━━━━━━━━\u001b[0m\u001b[37m\u001b[0m \u001b[1m2s\u001b[0m 21ms/step - accuracy: 0.5789 - loss: 1.3300 - val_accuracy: 0.6317 - val_loss: 1.1155\n",
            "Epoch 6/30\n",
            "\u001b[1m97/97\u001b[0m \u001b[32m━━━━━━━━━━━━━━━━━━━━\u001b[0m\u001b[37m\u001b[0m \u001b[1m3s\u001b[0m 22ms/step - accuracy: 0.6039 - loss: 1.2432 - val_accuracy: 0.6620 - val_loss: 1.0422\n",
            "Epoch 7/30\n",
            "\u001b[1m97/97\u001b[0m \u001b[32m━━━━━━━━━━━━━━━━━━━━\u001b[0m\u001b[37m\u001b[0m \u001b[1m2s\u001b[0m 20ms/step - accuracy: 0.5735 - loss: 1.3283 - val_accuracy: 0.6288 - val_loss: 1.1727\n",
            "Epoch 8/30\n",
            "\u001b[1m97/97\u001b[0m \u001b[32m━━━━━━━━━━━━━━━━━━━━\u001b[0m\u001b[37m\u001b[0m \u001b[1m3s\u001b[0m 24ms/step - accuracy: 0.6108 - loss: 1.2073 - val_accuracy: 0.6537 - val_loss: 1.1010\n",
            "Epoch 9/30\n",
            "\u001b[1m97/97\u001b[0m \u001b[32m━━━━━━━━━━━━━━━━━━━━\u001b[0m\u001b[37m\u001b[0m \u001b[1m2s\u001b[0m 20ms/step - accuracy: 0.6154 - loss: 1.2175 - val_accuracy: 0.6522 - val_loss: 1.0901\n",
            "Epoch 10/30\n",
            "\u001b[1m97/97\u001b[0m \u001b[32m━━━━━━━━━━━━━━━━━━━━\u001b[0m\u001b[37m\u001b[0m \u001b[1m2s\u001b[0m 24ms/step - accuracy: 0.6209 - loss: 1.1812 - val_accuracy: 0.6185 - val_loss: 1.1189\n",
            "Epoch 11/30\n",
            "\u001b[1m97/97\u001b[0m \u001b[32m━━━━━━━━━━━━━━━━━━━━\u001b[0m\u001b[37m\u001b[0m \u001b[1m2s\u001b[0m 22ms/step - accuracy: 0.5003 - loss: 1.5301 - val_accuracy: 0.4800 - val_loss: 1.5545\n"
          ]
        }
      ],
      "source": [
        "rnn_history = rnn_model.fit(X_train_seq, y_train_cat,\n",
        "                            validation_data=(X_val_seq, y_val_cat),\n",
        "                            epochs=30,\n",
        "                            batch_size=64,\n",
        "                            callbacks=[EarlyStopping(patience=5, restore_best_weights=True)])"
      ]
    },
    {
      "cell_type": "markdown",
      "metadata": {
        "id": "92NVUu69K1Om"
      },
      "source": [
        "## lstm"
      ]
    },
    {
      "cell_type": "code",
      "execution_count": null,
      "metadata": {
        "id": "hfi5tIiMK1Om"
      },
      "outputs": [],
      "source": [
        "'''from tensorflow.keras.layers import LSTM\n",
        "def build_lstm_classifier(input_shape, num_classes):\n",
        "    model = Sequential([\n",
        "        LSTM(128, return_sequences=False, input_shape=input_shape),\n",
        "        Dense(64, activation='relu'),\n",
        "        Dropout(0.3),\n",
        "        Dense(num_classes, activation='softmax')\n",
        "    ])\n",
        "    model.compile(optimizer='adam', loss='categorical_crossentropy', metrics=['accuracy'])\n",
        "    return model\n",
        "\n",
        "lstm_model = build_lstm_classifier((169, X_train.shape[-1]), num_classes)\n",
        "#lstm_model.summary()\n",
        "lstm_history = lstm_model.fit(X_train_seq, y_train_cat,\n",
        "                              validation_data=(X_val_seq, y_val_cat),\n",
        "                              epochs=30,\n",
        "                              batch_size=64,\n",
        "                              callbacks=[EarlyStopping(patience=5, restore_best_weights=True)])'''"
      ]
    },
    {
      "cell_type": "code",
      "execution_count": 44,
      "metadata": {
        "id": "4D8Gm62AK1Om",
        "colab": {
          "base_uri": "https://localhost:8080/"
        },
        "outputId": "0a880414-bcb0-495e-9e58-b839acbe98b8"
      },
      "outputs": [
        {
          "output_type": "stream",
          "name": "stdout",
          "text": [
            "rnn\n",
            "\u001b[1m65/65\u001b[0m \u001b[32m━━━━━━━━━━━━━━━━━━━━\u001b[0m\u001b[37m\u001b[0m \u001b[1m1s\u001b[0m 12ms/step\n",
            "✅ OA: 0.6487804878048781\n",
            "✅ AA: 0.4333627692772919\n",
            "✅ Kappa: 0.5917669686374144\n",
            "✅ Per-Class F1: [0.         0.64792899 0.32950192 0.07142857 0.64550265 0.79322034\n",
            " 0.         0.92537313 0.         0.69376694 0.66244344 0.44329897\n",
            " 0.         0.83111954 0.44927536 0.55172414]\n"
          ]
        }
      ],
      "source": [
        "from sklearn.metrics import cohen_kappa_score, accuracy_score, f1_score, classification_report\n",
        "\n",
        "def evaluate_model(model, X, y_true_cat, y_true):\n",
        "    y_pred_prob = model.predict(X)\n",
        "    y_pred = np.argmax(y_pred_prob, axis=1)\n",
        "\n",
        "    oa = accuracy_score(y_true, y_pred)\n",
        "    aa = np.mean([accuracy_score(y_true[y_true == c], y_pred[y_true == c]) for c in np.unique(y_true)])\n",
        "    kappa = cohen_kappa_score(y_true, y_pred)\n",
        "    f1 = f1_score(y_true, y_pred, average=None)\n",
        "\n",
        "    print(f\"✅ OA: {oa}\")\n",
        "    print(f\"✅ AA: {aa}\")\n",
        "    print(f\"✅ Kappa: {kappa}\")\n",
        "    print(f\"✅ Per-Class F1: {f1}\")\n",
        "\n",
        "# Example:\n",
        "print(\"rnn\")\n",
        "rnn_preds=evaluate_model(rnn_model, X_test_seq, y_test_cat, y_test)\n",
        "#print(\"lstm\")\n",
        "#evaluate_model(lstm_model, X_test_seq, y_test_cat, y_test)"
      ]
    },
    {
      "cell_type": "markdown",
      "metadata": {
        "id": "X9MCbPV7K1Om"
      },
      "source": [
        "## knn"
      ]
    },
    {
      "cell_type": "code",
      "execution_count": 45,
      "metadata": {
        "id": "ZzbBj1lUK1Om"
      },
      "outputs": [],
      "source": [
        "X_train_flat = X_train_sel.reshape(X_train_sel.shape[0], -1)\n",
        "X_val_flat   = X_val_sel.reshape(X_val_sel.shape[0], -1)\n",
        "X_test_flat  = X_test_sel.reshape(X_test_sel.shape[0], -1)"
      ]
    },
    {
      "cell_type": "code",
      "execution_count": 46,
      "metadata": {
        "id": "KH70ei4nK1Om",
        "colab": {
          "base_uri": "https://localhost:8080/"
        },
        "outputId": "b2449a3f-2ea2-4593-ec16-c52f9cc6bd7d"
      },
      "outputs": [
        {
          "output_type": "stream",
          "name": "stdout",
          "text": [
            "PCA reduced shape: (6149, 3035)\n"
          ]
        }
      ],
      "source": [
        "from sklearn.decomposition import PCA\n",
        "\n",
        "pca = PCA(n_components=0.99, svd_solver='full')\n",
        "X_train_pca = pca.fit_transform(X_train_flat)\n",
        "X_val_pca   = pca.transform(X_val_flat)\n",
        "X_test_pca  = pca.transform(X_test_flat)\n",
        "\n",
        "print(\"PCA reduced shape:\", X_train_pca.shape)"
      ]
    },
    {
      "cell_type": "code",
      "execution_count": 47,
      "metadata": {
        "id": "VQ_d-FIhK1Om",
        "colab": {
          "base_uri": "https://localhost:8080/"
        },
        "outputId": "bda80382-cf2c-416d-cd1b-63650b0f86fa"
      },
      "outputs": [
        {
          "output_type": "stream",
          "name": "stdout",
          "text": [
            "OA: 0.9278048780487805\n",
            "Kappa: 0.9178250784643203\n",
            "F1-score: 0.938555223461128\n",
            "              precision    recall  f1-score   support\n",
            "\n",
            "           0       1.00      1.00      1.00         9\n",
            "           1       0.99      0.96      0.97       285\n",
            "           2       0.97      0.95      0.96       166\n",
            "           3       1.00      0.92      0.96        48\n",
            "           4       0.61      1.00      0.76        97\n",
            "           5       0.81      1.00      0.89       146\n",
            "           6       1.00      1.00      1.00         6\n",
            "           7       1.00      1.00      1.00        95\n",
            "           8       1.00      1.00      1.00         4\n",
            "           9       0.92      0.97      0.95       195\n",
            "          10       0.97      0.99      0.98       491\n",
            "          11       0.98      0.93      0.96       118\n",
            "          12       1.00      1.00      1.00        41\n",
            "          13       0.96      0.68      0.80       253\n",
            "          14       1.00      0.70      0.82        77\n",
            "          15       1.00      0.95      0.97        19\n",
            "\n",
            "    accuracy                           0.93      2050\n",
            "   macro avg       0.95      0.94      0.94      2050\n",
            "weighted avg       0.94      0.93      0.93      2050\n",
            "\n"
          ]
        }
      ],
      "source": [
        "from sklearn.neighbors import KNeighborsClassifier\n",
        "from sklearn.metrics import accuracy_score, classification_report, cohen_kappa_score, f1_score\n",
        "\n",
        "knn = KNeighborsClassifier(n_neighbors=5)\n",
        "knn.fit(X_train_pca, y_train)\n",
        "y_pred_knn = knn.predict(X_test_pca)\n",
        "\n",
        "oa_knn = accuracy_score(y_test, y_pred_knn)\n",
        "kappa_knn = cohen_kappa_score(y_test, y_pred_knn)\n",
        "f1_knn = f1_score(y_test, y_pred_knn, average='macro')\n",
        "report_knn = classification_report(y_test, y_pred_knn)\n",
        "print(\"OA:\", oa_knn)\n",
        "print(\"Kappa:\", kappa_knn)\n",
        "print(\"F1-score:\", f1_knn)\n",
        "print(report_knn)"
      ]
    },
    {
      "cell_type": "markdown",
      "metadata": {
        "id": "fCoiAqBBK1Om"
      },
      "source": [
        "## gtfm"
      ]
    },
    {
      "cell_type": "code",
      "execution_count": null,
      "metadata": {
        "id": "FLJbh0uiK1Om"
      },
      "outputs": [],
      "source": [
        "from tensorflow.keras.models import Sequential\n",
        "from tensorflow.keras.layers import LSTM, Dense, Masking\n",
        "from tensorflow.keras.utils import to_categorical\n",
        "\n",
        "y_train_cat = to_categorical(y_train, num_classes)\n",
        "y_test_cat = to_categorical(y_test, num_classes)\n",
        "\n",
        "gtfm_model = Sequential([\n",
        "    Masking(mask_value=0., input_shape=(X_train_seq.shape[1], X_train_seq.shape[2])),\n",
        "    LSTM(64),\n",
        "    Dense(num_classes, activation='softmax')\n",
        "])\n",
        "\n",
        "gtfm_model.compile(optimizer='adam', loss='categorical_crossentropy', metrics=['accuracy'])\n",
        "gtfm_model.fit(X_train_seq, y_train_cat, epochs=30, batch_size=32, validation_split=0.1, verbose=1)\n",
        "\n",
        "res = gtfm_model.evaluate(X_test_seq, y_test_cat, verbose=0)\n",
        "y_pred_gtfm = gtfm_model.predict(X_test_seq).argmax(axis=-1)"
      ]
    },
    {
      "cell_type": "code",
      "execution_count": null,
      "metadata": {
        "id": "iEBovOOBK1Om"
      },
      "outputs": [],
      "source": [
        "oa = accuracy_score(y_test, y_pred_gtfm)\n",
        "aa = np.mean(get_per_class_accuracy(y_test, y_pred_gtfm, num_classes))\n",
        "kappa = cohen_kappa_score(y_test, y_pred_gtfm)\n",
        "f1 = f1_score(y_test, y_pred_gtfm, average=None)\n",
        "\n",
        "print(f\"✅ GTFM-like OA: {oa}\")\n",
        "print(f\"✅ GTFM-like AA: {aa}\")\n",
        "print(f\"✅ GTFM-like Kappa: {kappa}\")\n",
        "print(f\"✅ GTFM-like Per-Class F1: {np.round(f1, 4)}\")"
      ]
    },
    {
      "cell_type": "markdown",
      "metadata": {
        "id": "R4WxultPa0Lc"
      },
      "source": [
        "## results dict"
      ]
    },
    {
      "cell_type": "code",
      "execution_count": 49,
      "metadata": {
        "id": "sHW-ExdGK1Om",
        "colab": {
          "base_uri": "https://localhost:8080/"
        },
        "outputId": "f3ca4f59-930c-466e-a377-631788ec0aa6"
      },
      "outputs": [
        {
          "output_type": "stream",
          "name": "stdout",
          "text": [
            "\u001b[1m65/65\u001b[0m \u001b[32m━━━━━━━━━━━━━━━━━━━━\u001b[0m\u001b[37m\u001b[0m \u001b[1m1s\u001b[0m 9ms/step\n"
          ]
        }
      ],
      "source": [
        "results = {}\n",
        "\n",
        "results[\"Proposed\"] = get_metrics_dict(y_test, np.argmax(y_pred_probs, axis=1), num_classes)\n",
        "#y_pred_cnn = np.argmax(cnn3d_model.predict(X_test_cnn), axis=1)\n",
        "#results[\"3D-CNN\"] = get_metrics_dict(y_test, y_pred_cnn, num_classes)\n",
        "#y_pred_enc = np.argmax(encoder_model.predict(X_test_cnn), axis=1)\n",
        "#results[\"EncoderCNN\"] = get_metrics_dict(y_test, y_pred_enc, num_classes)\n",
        "y_pred_rnn = rnn_model.predict(X_test_seq).argmax(axis=-1)\n",
        "results[\"RNN\"] = get_metrics_dict(y_test, y_pred_rnn, num_classes)\n",
        "\n",
        "# ✅ LSTM\n",
        "#y_pred_lstm = model.predict(X_test_seq).argmax(axis=-1)\n",
        "#results[\"LSTM\"] = get_metrics_dict(y_test, y_pred_lstm, num_classes)\n",
        "results[\"SGD-SVM\"] = get_metrics_dict(y_test, svm_preds, num_classes)\n",
        "results[\"KNN\"] = get_metrics_dict(y_test, y_pred_knn, num_classes)\n",
        "#results[\"GTFM\"]=get_metrics_dict(y_test, y_pred_gtfm, num_classes)\n",
        "# Predict and evaluate HybridSN\n",
        "#y_pred_hybrid = np.argmax(hybrid_model.predict(test_ds), axis=1)\n",
        "results[\"HybridSN\"] = get_metrics_dict(y_true, y_pred_hybrid, num_classes)"
      ]
    },
    {
      "cell_type": "code",
      "execution_count": 55,
      "metadata": {
        "id": "WcqLKOzQK1Om"
      },
      "outputs": [],
      "source": [
        "train_ratios = [0.3, 0.5, 0.7, 0.8, 0.9]\n",
        "results_ratio_wise = {model: [] for model in [ \"HybridSN\", \"RNN\", \"SGD-SVM\", \"KNN\",\"Proposed\"]}#, \"EncoderCNN\""
      ]
    },
    {
      "cell_type": "code",
      "execution_count": 57,
      "metadata": {
        "id": "XXBIjFPDK1Om",
        "colab": {
          "base_uri": "https://localhost:8080/"
        },
        "outputId": "0c6145ae-25d2-4fc4-e5f3-90396f693405"
      },
      "outputs": [
        {
          "output_type": "stream",
          "name": "stdout",
          "text": [
            "X shape: (10249, 13, 13, 200)\n",
            "y shape: (80,)\n"
          ]
        }
      ],
      "source": [
        "print(\"X shape:\", X.shape)\n",
        "print(\"y shape:\", y.shape)\n"
      ]
    },
    {
      "cell_type": "code",
      "source": [
        "X, y = extract_patches_tf(cube_norm, gt, patch_size=13)\n",
        "num_classes = np.max(y) + 1\n",
        "print(\"X shape:\", X.shape)  # (N, 13, 13, B) X shape: (10249, 13, 13, 200)\n",
        "print(\"y shape:\", y.shape)"
      ],
      "metadata": {
        "id": "F-TCP1eEUmEg"
      },
      "execution_count": null,
      "outputs": []
    },
    {
      "cell_type": "code",
      "execution_count": 56,
      "metadata": {
        "id": "F0q8qnn1K1On",
        "colab": {
          "base_uri": "https://localhost:8080/",
          "height": 391
        },
        "outputId": "3ee3158a-d733-4138-869c-ff6fb110cb21"
      },
      "outputs": [
        {
          "output_type": "stream",
          "name": "stdout",
          "text": [
            "\n",
            "--- Training Ratio: 30% ---\n"
          ]
        },
        {
          "output_type": "error",
          "ename": "ValueError",
          "evalue": "Found input variables with inconsistent numbers of samples: [10249, 80]",
          "traceback": [
            "\u001b[0;31m---------------------------------------------------------------------------\u001b[0m",
            "\u001b[0;31mValueError\u001b[0m                                Traceback (most recent call last)",
            "\u001b[0;32m/tmp/ipython-input-2074189685.py\u001b[0m in \u001b[0;36m<cell line: 0>\u001b[0;34m()\u001b[0m\n\u001b[1;32m     10\u001b[0m \u001b[0;34m\u001b[0m\u001b[0m\n\u001b[1;32m     11\u001b[0m     \u001b[0;31m# Split data\u001b[0m\u001b[0;34m\u001b[0m\u001b[0;34m\u001b[0m\u001b[0m\n\u001b[0;32m---> 12\u001b[0;31m     X_train_r, X_test_r, y_train_r, y_test_r = train_test_split(\n\u001b[0m\u001b[1;32m     13\u001b[0m         X, y, train_size=ratio, stratify=y, random_state=42)\n\u001b[1;32m     14\u001b[0m     \u001b[0mprint\u001b[0m\u001b[0;34m(\u001b[0m\u001b[0;34m\"doing proposed\"\u001b[0m\u001b[0;34m)\u001b[0m\u001b[0;34m\u001b[0m\u001b[0;34m\u001b[0m\u001b[0m\n",
            "\u001b[0;32m/usr/local/lib/python3.11/dist-packages/sklearn/utils/_param_validation.py\u001b[0m in \u001b[0;36mwrapper\u001b[0;34m(*args, **kwargs)\u001b[0m\n\u001b[1;32m    214\u001b[0m                     )\n\u001b[1;32m    215\u001b[0m                 ):\n\u001b[0;32m--> 216\u001b[0;31m                     \u001b[0;32mreturn\u001b[0m \u001b[0mfunc\u001b[0m\u001b[0;34m(\u001b[0m\u001b[0;34m*\u001b[0m\u001b[0margs\u001b[0m\u001b[0;34m,\u001b[0m \u001b[0;34m**\u001b[0m\u001b[0mkwargs\u001b[0m\u001b[0;34m)\u001b[0m\u001b[0;34m\u001b[0m\u001b[0;34m\u001b[0m\u001b[0m\n\u001b[0m\u001b[1;32m    217\u001b[0m             \u001b[0;32mexcept\u001b[0m \u001b[0mInvalidParameterError\u001b[0m \u001b[0;32mas\u001b[0m \u001b[0me\u001b[0m\u001b[0;34m:\u001b[0m\u001b[0;34m\u001b[0m\u001b[0;34m\u001b[0m\u001b[0m\n\u001b[1;32m    218\u001b[0m                 \u001b[0;31m# When the function is just a wrapper around an estimator, we allow\u001b[0m\u001b[0;34m\u001b[0m\u001b[0;34m\u001b[0m\u001b[0m\n",
            "\u001b[0;32m/usr/local/lib/python3.11/dist-packages/sklearn/model_selection/_split.py\u001b[0m in \u001b[0;36mtrain_test_split\u001b[0;34m(test_size, train_size, random_state, shuffle, stratify, *arrays)\u001b[0m\n\u001b[1;32m   2846\u001b[0m         \u001b[0;32mraise\u001b[0m \u001b[0mValueError\u001b[0m\u001b[0;34m(\u001b[0m\u001b[0;34m\"At least one array required as input\"\u001b[0m\u001b[0;34m)\u001b[0m\u001b[0;34m\u001b[0m\u001b[0;34m\u001b[0m\u001b[0m\n\u001b[1;32m   2847\u001b[0m \u001b[0;34m\u001b[0m\u001b[0m\n\u001b[0;32m-> 2848\u001b[0;31m     \u001b[0marrays\u001b[0m \u001b[0;34m=\u001b[0m \u001b[0mindexable\u001b[0m\u001b[0;34m(\u001b[0m\u001b[0;34m*\u001b[0m\u001b[0marrays\u001b[0m\u001b[0;34m)\u001b[0m\u001b[0;34m\u001b[0m\u001b[0;34m\u001b[0m\u001b[0m\n\u001b[0m\u001b[1;32m   2849\u001b[0m \u001b[0;34m\u001b[0m\u001b[0m\n\u001b[1;32m   2850\u001b[0m     \u001b[0mn_samples\u001b[0m \u001b[0;34m=\u001b[0m \u001b[0m_num_samples\u001b[0m\u001b[0;34m(\u001b[0m\u001b[0marrays\u001b[0m\u001b[0;34m[\u001b[0m\u001b[0;36m0\u001b[0m\u001b[0;34m]\u001b[0m\u001b[0;34m)\u001b[0m\u001b[0;34m\u001b[0m\u001b[0;34m\u001b[0m\u001b[0m\n",
            "\u001b[0;32m/usr/local/lib/python3.11/dist-packages/sklearn/utils/validation.py\u001b[0m in \u001b[0;36mindexable\u001b[0;34m(*iterables)\u001b[0m\n\u001b[1;32m    530\u001b[0m \u001b[0;34m\u001b[0m\u001b[0m\n\u001b[1;32m    531\u001b[0m     \u001b[0mresult\u001b[0m \u001b[0;34m=\u001b[0m \u001b[0;34m[\u001b[0m\u001b[0m_make_indexable\u001b[0m\u001b[0;34m(\u001b[0m\u001b[0mX\u001b[0m\u001b[0;34m)\u001b[0m \u001b[0;32mfor\u001b[0m \u001b[0mX\u001b[0m \u001b[0;32min\u001b[0m \u001b[0miterables\u001b[0m\u001b[0;34m]\u001b[0m\u001b[0;34m\u001b[0m\u001b[0;34m\u001b[0m\u001b[0m\n\u001b[0;32m--> 532\u001b[0;31m     \u001b[0mcheck_consistent_length\u001b[0m\u001b[0;34m(\u001b[0m\u001b[0;34m*\u001b[0m\u001b[0mresult\u001b[0m\u001b[0;34m)\u001b[0m\u001b[0;34m\u001b[0m\u001b[0;34m\u001b[0m\u001b[0m\n\u001b[0m\u001b[1;32m    533\u001b[0m     \u001b[0;32mreturn\u001b[0m \u001b[0mresult\u001b[0m\u001b[0;34m\u001b[0m\u001b[0;34m\u001b[0m\u001b[0m\n\u001b[1;32m    534\u001b[0m \u001b[0;34m\u001b[0m\u001b[0m\n",
            "\u001b[0;32m/usr/local/lib/python3.11/dist-packages/sklearn/utils/validation.py\u001b[0m in \u001b[0;36mcheck_consistent_length\u001b[0;34m(*arrays)\u001b[0m\n\u001b[1;32m    473\u001b[0m     \u001b[0muniques\u001b[0m \u001b[0;34m=\u001b[0m \u001b[0mnp\u001b[0m\u001b[0;34m.\u001b[0m\u001b[0munique\u001b[0m\u001b[0;34m(\u001b[0m\u001b[0mlengths\u001b[0m\u001b[0;34m)\u001b[0m\u001b[0;34m\u001b[0m\u001b[0;34m\u001b[0m\u001b[0m\n\u001b[1;32m    474\u001b[0m     \u001b[0;32mif\u001b[0m \u001b[0mlen\u001b[0m\u001b[0;34m(\u001b[0m\u001b[0muniques\u001b[0m\u001b[0;34m)\u001b[0m \u001b[0;34m>\u001b[0m \u001b[0;36m1\u001b[0m\u001b[0;34m:\u001b[0m\u001b[0;34m\u001b[0m\u001b[0;34m\u001b[0m\u001b[0m\n\u001b[0;32m--> 475\u001b[0;31m         raise ValueError(\n\u001b[0m\u001b[1;32m    476\u001b[0m             \u001b[0;34m\"Found input variables with inconsistent numbers of samples: %r\"\u001b[0m\u001b[0;34m\u001b[0m\u001b[0;34m\u001b[0m\u001b[0m\n\u001b[1;32m    477\u001b[0m             \u001b[0;34m%\u001b[0m \u001b[0;34m[\u001b[0m\u001b[0mint\u001b[0m\u001b[0;34m(\u001b[0m\u001b[0ml\u001b[0m\u001b[0;34m)\u001b[0m \u001b[0;32mfor\u001b[0m \u001b[0ml\u001b[0m \u001b[0;32min\u001b[0m \u001b[0mlengths\u001b[0m\u001b[0;34m]\u001b[0m\u001b[0;34m\u001b[0m\u001b[0;34m\u001b[0m\u001b[0m\n",
            "\u001b[0;31mValueError\u001b[0m: Found input variables with inconsistent numbers of samples: [10249, 80]"
          ]
        }
      ],
      "source": [
        "from sklearn.model_selection import train_test_split\n",
        "from sklearn.metrics import accuracy_score, cohen_kappa_score, f1_score, classification_report\n",
        "from tensorflow.keras.utils import to_categorical\n",
        "\n",
        "train_ratios = [0.3, 0.5, 0.7, 0.8, 0.9]\n",
        "results_ratio_wise = {model: [] for model in [\"Proposed\", \"HybridSN\",  \"RNN\", \"SGD-SVM\", \"KNN\"]}#\"EncoderCNN\"\n",
        "\n",
        "for ratio in train_ratios:\n",
        "    print(f\"\\n--- Training Ratio: {int(ratio*100)}% ---\")\n",
        "\n",
        "    # Split data\n",
        "    X_train_r, X_test_r, y_train_r, y_test_r = train_test_split(\n",
        "        X, y, train_size=ratio, stratify=y, random_state=42)\n",
        "    print(\"doing proposed\")\n",
        "    # ------------- Proposed -------------\n",
        "    proposed_model = load_model(\"best_topomorph.keras\")\n",
        "    y_true = np.argmax(y_test_cat, axis=1)\n",
        "    y_pred_probs = proposed_model.predict(test_dataset)\n",
        "    y_pred = np.argmax(y_pred_probs, axis=1)\n",
        "    metrics = get_metrics_dict(y_true, y_pred, num_classes)\n",
        "    results_ratio_wise[\"Proposed\"].append(metrics)\n",
        "    print(f\"✅ Done for {int(ratio*100)}% | OA: {metrics['OA']:.4f} | AA: {metrics['AA']:.4f} | Kappa: {metrics['Kappa']:.4f}\")\n",
        "\n",
        "    print(\"doing hybridsn\")\n",
        "    # ------------- HybridSN -------------\n",
        "    X_train_hybrid = X_train_r[..., topk_indices]  # select 30 bands\n",
        "    X_test_hybrid  = X_test_r[..., topk_indices]\n",
        "\n",
        "    hybrid_model = load_model(\"hybridSN_model.keras\")\n",
        "    y_pred_hybrid = np.argmax(hybrid_model.predict(X_test_hybrid), axis=1)\n",
        "    results_ratio_wise[\"HybridSN\"].append(get_metrics_dict(y_test_r, y_pred_hybrid, num_classes))\n",
        "\n",
        "    print(f\"✅ Done HybridSN for {int(ratio*100)}%\")\n",
        "\n",
        "    #print(\"doing 3d cnn\")\n",
        "    # ------------- 3D-CNN -------------\n",
        "    #X_train_cnn = X_train_r[..., np.newaxis]\n",
        "    #X_test_cnn = X_test_r[..., np.newaxis]#cnn3d_model\n",
        "    #y_pred_cnn3d = np.argmax(cnn3d_model.predict(X_test_cnn), axis=1)\n",
        "    #results_ratio_wise[\"3D-CNN\"].append(get_metrics_dict(y_test_r, y_pred_cnn3d, num_classes))\n",
        "    #print(f\"✅ Done for {int(ratio*100)}% | OA: {metrics['OA']:.4f} | AA: {metrics['AA']:.4f} | Kappa: {metrics['Kappa']:.4f}\")\n",
        "\n",
        "    #results_ratio_wise[\"3D-CNN\"].append(get_metrics_dict(y_test_r, cnn_preds, num_classes))\n",
        "\n",
        "    #print(\"doing cnn_enc\")\n",
        "\n",
        "    # ------------- EncoderCNN -------------\n",
        "    #y_pred = np.argmax(encoder_model.predict(X_test_cnn), axis=1)\n",
        "    #results_ratio_wise[\"EncoderCNN\"].append(get_metrics_dict(y_test_r, y_pred, num_classes))\n",
        "    #print(f\"✅ Done for {int(ratio*100)}% | OA: {metrics['OA']:.4f} | AA: {metrics['AA']:.4f} | Kappa: {metrics['Kappa']:.4f}\")\n",
        "\n",
        "    print(\"doing rnn\")\n",
        "\n",
        "    # ------------- RNN -------------\n",
        "    X_train_seq = X_train_r.reshape(X_train_r.shape[0], -1, X_train_r.shape[-1])\n",
        "    X_test_seq = X_test_r.reshape(X_test_r.shape[0], -1, X_test_r.shape[-1])\n",
        "    y_pred = np.argmax(rnn_model.predict(X_test_seq), axis=1)\n",
        "    results_ratio_wise[\"RNN\"].append(get_metrics_dict(y_test_r, y_pred, num_classes))\n",
        "\n",
        "    print(\"doing svm\")\n",
        "    # ------------- SGD-SVM -------------\n",
        "    X_train_flat = X_train_r.reshape(X_train_r.shape[0], -1)\n",
        "    X_test_flat = X_test_r.reshape(X_test_r.shape[0], -1)\n",
        "    results_ratio_wise[\"SGD-SVM\"].append(get_metrics_dict(y_test, svm_preds, num_classes))#get_metrics_dict(y_test_r, svm_preds, num_classes))\n",
        "\n",
        "    print(\"doing knn\")\n",
        "    # ------------- KNN -------------\n",
        "    X_train_flat = X_train_r.reshape(X_train_r.shape[0], -1)\n",
        "    X_test_flat = X_test_r.reshape(X_test_r.shape[0], -1)\n",
        "    #pca = PCA(n_components=0.99, svd_solver='full')\n",
        "    #X_train_pca = pca.fit_transform(X_train_flat)\n",
        "    #X_test_pca = pca.transform(X_test_flat)\n",
        "    results_ratio_wise[\"KNN\"].append(get_metrics_dict(y_test, y_pred_knn, num_classes))#get_metrics_dict(y_test_r, y_pred_knn, num_classes))"
      ]
    },
    {
      "cell_type": "code",
      "execution_count": null,
      "metadata": {
        "id": "yhGcHtjEK1On"
      },
      "outputs": [],
      "source": [
        "import matplotlib.pyplot as plt\n",
        "\n",
        "train_ratios = [30, 50, 70, 80, 90]  # For cleaner axis labels\n",
        "metrics = [\"OA\", \"AA\", \"Kappa\", \"F1\"]\n",
        "model_names = list(results_ratio_wise.keys())\n",
        "\n",
        "# Prepare colors and markers for better visuals\n",
        "colors = ['r', 'g', 'b', 'c', 'm', 'orange']\n",
        "markers = ['o', 's', '^', 'D', 'P', 'X']\n",
        "\n",
        "# Plot each metric\n",
        "for metric in metrics:\n",
        "    plt.figure(figsize=(10, 6))\n",
        "\n",
        "    for i, model in enumerate(model_names):\n",
        "        metric_values = [res[metric] for res in results_ratio_wise[model]]\n",
        "        plt.plot(train_ratios, metric_values, label=model,\n",
        "                 marker=markers[i], color=colors[i], linewidth=2)\n",
        "\n",
        "    plt.title(f\"{metric} vs. Training Ratio\", fontsize=16)\n",
        "    plt.xlabel(\"Training Ratio (%)\", fontsize=14)\n",
        "    plt.ylabel(metric, fontsize=14)\n",
        "    plt.grid(True, linestyle=\"--\", alpha=0.6)\n",
        "    plt.xticks(train_ratios)\n",
        "    plt.legend()\n",
        "    plt.tight_layout()\n",
        "    plt.show()"
      ]
    },
    {
      "cell_type": "code",
      "execution_count": null,
      "metadata": {
        "id": "VSsa-B6UK1On"
      },
      "outputs": [],
      "source": [
        "import matplotlib.pyplot as plt\n",
        "from matplotlib.colors import ListedColormap\n",
        "import matplotlib.pyplot as plt\n",
        "from sklearn.preprocessing import LabelEncoder\n",
        "\n",
        "def generate_prediction_map(model, cube_norm, gt, patch_size=13, model_type=\"cnn3d\"):\n",
        "    pad = patch_size // 2\n",
        "    H, W, B = cube_norm.shape\n",
        "    padded_cube = np.pad(cube_norm, ((pad, pad), (pad, pad), (0, 0)), mode='reflect')\n",
        "\n",
        "    X_all = []\n",
        "    idx_map = []\n",
        "    for i in range(H):\n",
        "        for j in range(W):\n",
        "            if gt[i, j] == 0:\n",
        "                continue\n",
        "            patch = padded_cube[i:i+patch_size, j:j+patch_size, :]\n",
        "            X_all.append(patch)\n",
        "            idx_map.append((i, j))\n",
        "    X_all = np.array(X_all)\n",
        "\n",
        "    # Predict\n",
        "    if model_type == \"proposed\":\n",
        "        topo_dummy = np.zeros((X_all.shape[0], 4))  # adjust if topo=4\n",
        "        preds = model.predict([X_all, topo_dummy])\n",
        "    elif model_type == \"rnn\":\n",
        "        X_seq = X_all.reshape(X_all.shape[0], -1, X_all.shape[-1])\n",
        "        preds = model.predict(X_seq)\n",
        "    else:\n",
        "        X_input = X_all[..., np.newaxis] if model_type in [\"cnn3d\", \"encoder\"] else X_all\n",
        "        preds = model.predict(X_input)\n",
        "\n",
        "    y_pred = np.argmax(preds, axis=1)\n",
        "\n",
        "    # Build prediction map\n",
        "    pred_map = np.zeros((H, W), dtype=int)\n",
        "    for (i, j), label in zip(idx_map, y_pred):\n",
        "        pred_map[i, j] = label + 1  # back to 1-based class labels if needed\n",
        "\n",
        "    return pred_map\n",
        "\n",
        "def show_prediction_map(pred_map, title=\"Prediction Map\", num_classes=16):\n",
        "    plt.figure(figsize=(6, 6))\n",
        "    cmap = ListedColormap(np.random.rand(num_classes + 1, 3))  # class 0 = black\n",
        "    plt.imshow(pred_map, cmap=cmap)\n",
        "    plt.title(title)\n",
        "    plt.axis('off')\n",
        "    plt.colorbar()\n",
        "    plt.show()\n"
      ]
    },
    {
      "cell_type": "code",
      "execution_count": null,
      "metadata": {
        "id": "949WBfv_K1On"
      },
      "outputs": [],
      "source": [
        "# Shape assumptions:\n",
        "# - cube_norm: (145, 145, 200)\n",
        "# - gt: (145, 145)\n",
        "# - your model is already trained (e.g., proposed_model, cnn3d_model, etc.)\n",
        "# If you used band indices like:\n",
        "# selected_bands = np.array([list of 30 indices])\n",
        "\n",
        "cube_sel = cube_norm[..., topk_indices]  # Shape: (145, 145, 30)\n",
        "\n",
        "proposed_map = generate_prediction_map(proposed_model, cube_sel, gt, model_type=\"proposed\")\n",
        "show_prediction_map(proposed_map, \"Proposed TopoMorph Prediction Map\", num_classes=num_classes)"
      ]
    },
    {
      "cell_type": "code",
      "execution_count": null,
      "metadata": {
        "id": "H8sDosltK1On"
      },
      "outputs": [],
      "source": [
        "\n",
        "cnn_map = generate_prediction_map(cnn3d_model, cube_norm, gt, model_type=\"cnn3d\")\n",
        "show_prediction_map(cnn_map, \"3D-CNN Prediction Map\", num_classes=num_classes)\n",
        "\n",
        "encoder_map = generate_prediction_map(encoder_model, cube_norm, gt, model_type=\"encoder\")\n",
        "show_prediction_map(encoder_map, \"EncoderCNN Prediction Map\", num_classes=num_classes)\n",
        "\n",
        "rnn_map = generate_prediction_map(rnn_model, cube_norm, gt, model_type=\"rnn\")\n",
        "show_prediction_map(rnn_map, \"RNN Prediction Map\", num_classes=num_classes)"
      ]
    },
    {
      "cell_type": "code",
      "execution_count": null,
      "metadata": {
        "id": "qTG19-M7K1On"
      },
      "outputs": [],
      "source": [
        "class SklearnPatchModel:\n",
        "    def __init__(self, pipeline, num_classes):\n",
        "        self.pipeline = pipeline\n",
        "        self.num_classes = num_classes\n",
        "\n",
        "    def predict(self, X_patch):\n",
        "        N = X_patch.shape[0]\n",
        "        flat_X = X_patch.reshape(N, -1)\n",
        "        labels = self.pipeline.predict(flat_X)\n",
        "        # Convert to one-hot like softmax outputs\n",
        "        one_hot_preds = np.eye(self.num_classes)[labels]\n",
        "        return one_hot_preds"
      ]
    },
    {
      "cell_type": "code",
      "execution_count": null,
      "metadata": {
        "id": "Xy7qp3rTK1On"
      },
      "outputs": [],
      "source": [
        "cube_sel = cube_norm[..., topk_indices]  # shape: (145, 145, 30)"
      ]
    },
    {
      "cell_type": "code",
      "execution_count": null,
      "metadata": {
        "id": "Chgh91YMK1On"
      },
      "outputs": [],
      "source": [
        "# SVM prediction map\n",
        "# Wrap your sklearn pipeline\n",
        "patch_model = SklearnPatchModel(pipeline, num_classes=num_classes)\n",
        "\n",
        "# Call generate_prediction_map with this wrapper\n",
        "svm_map = generate_prediction_map(\n",
        "    patch_model,\n",
        "    cube_sel,             # ✅ uses 30 bands as expected by pipeline\n",
        "    gt,\n",
        "    patch_size=13,\n",
        "    model_type=\"svm\"    # fine for anything not \"rnn\" or \"proposed\"\n",
        ")\n",
        "show_prediction_map(svm_map, \"SVM Prediction Map\", num_classes=num_classes)"
      ]
    },
    {
      "cell_type": "code",
      "execution_count": null,
      "metadata": {
        "id": "HJQ2La2kK1On"
      },
      "outputs": [],
      "source": [
        "# KNN prediction map\n",
        "knn_map = generate_prediction_map(\n",
        "    knn,                    # trained KNN model\n",
        "    cube_sel,#cube_norm,\n",
        "    gt,\n",
        "    model_type=\"sklearn\",\n",
        "    pca=pca,                # the same PCA used for KNN (you must define/fix this earlier)\n",
        "    scaler=scaler           # the same scaler used for KNN (you must define/fix this earlier)\n",
        ")\n",
        "show_prediction_map(knn_map, \"KNN Prediction Map\", num_classes=num_classes)"
      ]
    },
    {
      "cell_type": "code",
      "execution_count": 50,
      "metadata": {
        "id": "UniH_hghK1On",
        "colab": {
          "base_uri": "https://localhost:8080/"
        },
        "collapsed": true,
        "outputId": "443450f6-329f-47d0-9161-3852e59232a4"
      },
      "outputs": [
        {
          "output_type": "execute_result",
          "data": {
            "text/plain": [
              "{'Proposed': {'OA': 0.9995,\n",
              "  'AA': np.float64(0.9995),\n",
              "  'Kappa': np.float64(0.9994),\n",
              "  'F1': 0.9981,\n",
              "  'F1_per_class': [1.0,\n",
              "   1.0,\n",
              "   1.0,\n",
              "   1.0,\n",
              "   1.0,\n",
              "   1.0,\n",
              "   1.0,\n",
              "   1.0,\n",
              "   1.0,\n",
              "   1.0,\n",
              "   1.0,\n",
              "   0.9957,\n",
              "   1.0,\n",
              "   1.0,\n",
              "   1.0,\n",
              "   0.9744],\n",
              "  'Precision': 0.9969,\n",
              "  'Recall': 0.9995},\n",
              " 'RNN': {'OA': 0.6488,\n",
              "  'AA': np.float64(0.4334),\n",
              "  'Kappa': np.float64(0.5918),\n",
              "  'F1': 0.4403,\n",
              "  'F1_per_class': [0.0,\n",
              "   0.6479,\n",
              "   0.3295,\n",
              "   0.0714,\n",
              "   0.6455,\n",
              "   0.7932,\n",
              "   0.0,\n",
              "   0.9254,\n",
              "   0.0,\n",
              "   0.6938,\n",
              "   0.6624,\n",
              "   0.4433,\n",
              "   0.0,\n",
              "   0.8311,\n",
              "   0.4493,\n",
              "   0.5517],\n",
              "  'Precision': 0.4746,\n",
              "  'Recall': 0.4334},\n",
              " 'SGD-SVM': {'OA': 0.8005,\n",
              "  'AA': np.float64(0.8499),\n",
              "  'Kappa': np.float64(0.7723),\n",
              "  'F1': 0.8283,\n",
              "  'F1_per_class': [0.9412,\n",
              "   0.6852,\n",
              "   0.6903,\n",
              "   0.7379,\n",
              "   0.8995,\n",
              "   0.9517,\n",
              "   0.8,\n",
              "   1.0,\n",
              "   0.8,\n",
              "   0.6684,\n",
              "   0.7819,\n",
              "   0.6019,\n",
              "   0.975,\n",
              "   0.9669,\n",
              "   0.8642,\n",
              "   0.8889],\n",
              "  'Precision': 0.8193,\n",
              "  'Recall': 0.8499},\n",
              " 'KNN': {'OA': 0.9278,\n",
              "  'AA': np.float64(0.9407),\n",
              "  'Kappa': np.float64(0.9178),\n",
              "  'F1': 0.9386,\n",
              "  'F1_per_class': [1.0,\n",
              "   0.9715,\n",
              "   0.9605,\n",
              "   0.9565,\n",
              "   0.7608,\n",
              "   0.893,\n",
              "   1.0,\n",
              "   1.0,\n",
              "   1.0,\n",
              "   0.9476,\n",
              "   0.9758,\n",
              "   0.9565,\n",
              "   1.0,\n",
              "   0.7972,\n",
              "   0.8244,\n",
              "   0.973],\n",
              "  'Precision': 0.9501,\n",
              "  'Recall': 0.9407},\n",
              " 'HybridSN': {'OA': 1.0,\n",
              "  'AA': np.float64(1.0),\n",
              "  'Kappa': np.float64(1.0),\n",
              "  'F1': 1.0,\n",
              "  'F1_per_class': [1.0,\n",
              "   1.0,\n",
              "   1.0,\n",
              "   1.0,\n",
              "   1.0,\n",
              "   1.0,\n",
              "   1.0,\n",
              "   1.0,\n",
              "   1.0,\n",
              "   1.0,\n",
              "   1.0,\n",
              "   1.0,\n",
              "   1.0,\n",
              "   1.0,\n",
              "   1.0,\n",
              "   1.0],\n",
              "  'Precision': 1.0,\n",
              "  'Recall': 1.0}}"
            ]
          },
          "metadata": {},
          "execution_count": 50
        }
      ],
      "source": [
        "results"
      ]
    },
    {
      "cell_type": "code",
      "execution_count": 51,
      "metadata": {
        "id": "VN_i0T8MK1On",
        "colab": {
          "base_uri": "https://localhost:8080/",
          "height": 708
        },
        "outputId": "b218c3ec-69fe-4cee-8fbf-334f7d4b0e77"
      },
      "outputs": [
        {
          "output_type": "display_data",
          "data": {
            "text/plain": [
              "<pandas.io.formats.style.Styler at 0x7f879f9fc210>"
            ],
            "text/html": [
              "<style type=\"text/css\">\n",
              "#T_2561c_row0_col2, #T_2561c_row0_col3, #T_2561c_row0_col4, #T_2561c_row1_col3, #T_2561c_row1_col4, #T_2561c_row2_col3, #T_2561c_row2_col4, #T_2561c_row3_col3, #T_2561c_row3_col4, #T_2561c_row4_col3, #T_2561c_row4_col4, #T_2561c_row5_col3, #T_2561c_row5_col4, #T_2561c_row6_col2, #T_2561c_row6_col3, #T_2561c_row6_col4, #T_2561c_row7_col1, #T_2561c_row7_col2, #T_2561c_row7_col3, #T_2561c_row7_col4, #T_2561c_row8_col2, #T_2561c_row8_col3, #T_2561c_row8_col4, #T_2561c_row9_col3, #T_2561c_row9_col4, #T_2561c_row10_col3, #T_2561c_row10_col4, #T_2561c_row11_col3, #T_2561c_row12_col2, #T_2561c_row12_col3, #T_2561c_row12_col4, #T_2561c_row13_col3, #T_2561c_row13_col4, #T_2561c_row14_col3, #T_2561c_row14_col4, #T_2561c_row15_col3, #T_2561c_row17_col3, #T_2561c_row18_col3, #T_2561c_row19_col3 {\n",
              "  font-weight: bold;\n",
              "}\n",
              "</style>\n",
              "<table id=\"T_2561c\" class=\"dataframe\">\n",
              "  <thead>\n",
              "    <tr>\n",
              "      <th class=\"blank level0\" >&nbsp;</th>\n",
              "      <th id=\"T_2561c_level0_col0\" class=\"col_heading level0 col0\" >RNN</th>\n",
              "      <th id=\"T_2561c_level0_col1\" class=\"col_heading level0 col1\" >SGD-SVM</th>\n",
              "      <th id=\"T_2561c_level0_col2\" class=\"col_heading level0 col2\" >KNN</th>\n",
              "      <th id=\"T_2561c_level0_col3\" class=\"col_heading level0 col3\" >HybridSN</th>\n",
              "      <th id=\"T_2561c_level0_col4\" class=\"col_heading level0 col4\" >Proposed</th>\n",
              "    </tr>\n",
              "    <tr>\n",
              "      <th class=\"index_name level0\" >Class</th>\n",
              "      <th class=\"blank col0\" >&nbsp;</th>\n",
              "      <th class=\"blank col1\" >&nbsp;</th>\n",
              "      <th class=\"blank col2\" >&nbsp;</th>\n",
              "      <th class=\"blank col3\" >&nbsp;</th>\n",
              "      <th class=\"blank col4\" >&nbsp;</th>\n",
              "    </tr>\n",
              "  </thead>\n",
              "  <tbody>\n",
              "    <tr>\n",
              "      <th id=\"T_2561c_level0_row0\" class=\"row_heading level0 row0\" >0</th>\n",
              "      <td id=\"T_2561c_row0_col0\" class=\"data row0 col0\" >0.0000</td>\n",
              "      <td id=\"T_2561c_row0_col1\" class=\"data row0 col1\" >0.9412</td>\n",
              "      <td id=\"T_2561c_row0_col2\" class=\"data row0 col2\" >1.0000</td>\n",
              "      <td id=\"T_2561c_row0_col3\" class=\"data row0 col3\" >1.0000</td>\n",
              "      <td id=\"T_2561c_row0_col4\" class=\"data row0 col4\" >1.0000</td>\n",
              "    </tr>\n",
              "    <tr>\n",
              "      <th id=\"T_2561c_level0_row1\" class=\"row_heading level0 row1\" >1</th>\n",
              "      <td id=\"T_2561c_row1_col0\" class=\"data row1 col0\" >0.6479</td>\n",
              "      <td id=\"T_2561c_row1_col1\" class=\"data row1 col1\" >0.6852</td>\n",
              "      <td id=\"T_2561c_row1_col2\" class=\"data row1 col2\" >0.9715</td>\n",
              "      <td id=\"T_2561c_row1_col3\" class=\"data row1 col3\" >1.0000</td>\n",
              "      <td id=\"T_2561c_row1_col4\" class=\"data row1 col4\" >1.0000</td>\n",
              "    </tr>\n",
              "    <tr>\n",
              "      <th id=\"T_2561c_level0_row2\" class=\"row_heading level0 row2\" >2</th>\n",
              "      <td id=\"T_2561c_row2_col0\" class=\"data row2 col0\" >0.3295</td>\n",
              "      <td id=\"T_2561c_row2_col1\" class=\"data row2 col1\" >0.6903</td>\n",
              "      <td id=\"T_2561c_row2_col2\" class=\"data row2 col2\" >0.9605</td>\n",
              "      <td id=\"T_2561c_row2_col3\" class=\"data row2 col3\" >1.0000</td>\n",
              "      <td id=\"T_2561c_row2_col4\" class=\"data row2 col4\" >1.0000</td>\n",
              "    </tr>\n",
              "    <tr>\n",
              "      <th id=\"T_2561c_level0_row3\" class=\"row_heading level0 row3\" >3</th>\n",
              "      <td id=\"T_2561c_row3_col0\" class=\"data row3 col0\" >0.0714</td>\n",
              "      <td id=\"T_2561c_row3_col1\" class=\"data row3 col1\" >0.7379</td>\n",
              "      <td id=\"T_2561c_row3_col2\" class=\"data row3 col2\" >0.9565</td>\n",
              "      <td id=\"T_2561c_row3_col3\" class=\"data row3 col3\" >1.0000</td>\n",
              "      <td id=\"T_2561c_row3_col4\" class=\"data row3 col4\" >1.0000</td>\n",
              "    </tr>\n",
              "    <tr>\n",
              "      <th id=\"T_2561c_level0_row4\" class=\"row_heading level0 row4\" >4</th>\n",
              "      <td id=\"T_2561c_row4_col0\" class=\"data row4 col0\" >0.6455</td>\n",
              "      <td id=\"T_2561c_row4_col1\" class=\"data row4 col1\" >0.8995</td>\n",
              "      <td id=\"T_2561c_row4_col2\" class=\"data row4 col2\" >0.7608</td>\n",
              "      <td id=\"T_2561c_row4_col3\" class=\"data row4 col3\" >1.0000</td>\n",
              "      <td id=\"T_2561c_row4_col4\" class=\"data row4 col4\" >1.0000</td>\n",
              "    </tr>\n",
              "    <tr>\n",
              "      <th id=\"T_2561c_level0_row5\" class=\"row_heading level0 row5\" >5</th>\n",
              "      <td id=\"T_2561c_row5_col0\" class=\"data row5 col0\" >0.7932</td>\n",
              "      <td id=\"T_2561c_row5_col1\" class=\"data row5 col1\" >0.9517</td>\n",
              "      <td id=\"T_2561c_row5_col2\" class=\"data row5 col2\" >0.8930</td>\n",
              "      <td id=\"T_2561c_row5_col3\" class=\"data row5 col3\" >1.0000</td>\n",
              "      <td id=\"T_2561c_row5_col4\" class=\"data row5 col4\" >1.0000</td>\n",
              "    </tr>\n",
              "    <tr>\n",
              "      <th id=\"T_2561c_level0_row6\" class=\"row_heading level0 row6\" >6</th>\n",
              "      <td id=\"T_2561c_row6_col0\" class=\"data row6 col0\" >0.0000</td>\n",
              "      <td id=\"T_2561c_row6_col1\" class=\"data row6 col1\" >0.8000</td>\n",
              "      <td id=\"T_2561c_row6_col2\" class=\"data row6 col2\" >1.0000</td>\n",
              "      <td id=\"T_2561c_row6_col3\" class=\"data row6 col3\" >1.0000</td>\n",
              "      <td id=\"T_2561c_row6_col4\" class=\"data row6 col4\" >1.0000</td>\n",
              "    </tr>\n",
              "    <tr>\n",
              "      <th id=\"T_2561c_level0_row7\" class=\"row_heading level0 row7\" >7</th>\n",
              "      <td id=\"T_2561c_row7_col0\" class=\"data row7 col0\" >0.9254</td>\n",
              "      <td id=\"T_2561c_row7_col1\" class=\"data row7 col1\" >1.0000</td>\n",
              "      <td id=\"T_2561c_row7_col2\" class=\"data row7 col2\" >1.0000</td>\n",
              "      <td id=\"T_2561c_row7_col3\" class=\"data row7 col3\" >1.0000</td>\n",
              "      <td id=\"T_2561c_row7_col4\" class=\"data row7 col4\" >1.0000</td>\n",
              "    </tr>\n",
              "    <tr>\n",
              "      <th id=\"T_2561c_level0_row8\" class=\"row_heading level0 row8\" >8</th>\n",
              "      <td id=\"T_2561c_row8_col0\" class=\"data row8 col0\" >0.0000</td>\n",
              "      <td id=\"T_2561c_row8_col1\" class=\"data row8 col1\" >0.8000</td>\n",
              "      <td id=\"T_2561c_row8_col2\" class=\"data row8 col2\" >1.0000</td>\n",
              "      <td id=\"T_2561c_row8_col3\" class=\"data row8 col3\" >1.0000</td>\n",
              "      <td id=\"T_2561c_row8_col4\" class=\"data row8 col4\" >1.0000</td>\n",
              "    </tr>\n",
              "    <tr>\n",
              "      <th id=\"T_2561c_level0_row9\" class=\"row_heading level0 row9\" >9</th>\n",
              "      <td id=\"T_2561c_row9_col0\" class=\"data row9 col0\" >0.6938</td>\n",
              "      <td id=\"T_2561c_row9_col1\" class=\"data row9 col1\" >0.6684</td>\n",
              "      <td id=\"T_2561c_row9_col2\" class=\"data row9 col2\" >0.9476</td>\n",
              "      <td id=\"T_2561c_row9_col3\" class=\"data row9 col3\" >1.0000</td>\n",
              "      <td id=\"T_2561c_row9_col4\" class=\"data row9 col4\" >1.0000</td>\n",
              "    </tr>\n",
              "    <tr>\n",
              "      <th id=\"T_2561c_level0_row10\" class=\"row_heading level0 row10\" >10</th>\n",
              "      <td id=\"T_2561c_row10_col0\" class=\"data row10 col0\" >0.6624</td>\n",
              "      <td id=\"T_2561c_row10_col1\" class=\"data row10 col1\" >0.7819</td>\n",
              "      <td id=\"T_2561c_row10_col2\" class=\"data row10 col2\" >0.9758</td>\n",
              "      <td id=\"T_2561c_row10_col3\" class=\"data row10 col3\" >1.0000</td>\n",
              "      <td id=\"T_2561c_row10_col4\" class=\"data row10 col4\" >1.0000</td>\n",
              "    </tr>\n",
              "    <tr>\n",
              "      <th id=\"T_2561c_level0_row11\" class=\"row_heading level0 row11\" >11</th>\n",
              "      <td id=\"T_2561c_row11_col0\" class=\"data row11 col0\" >0.4433</td>\n",
              "      <td id=\"T_2561c_row11_col1\" class=\"data row11 col1\" >0.6019</td>\n",
              "      <td id=\"T_2561c_row11_col2\" class=\"data row11 col2\" >0.9565</td>\n",
              "      <td id=\"T_2561c_row11_col3\" class=\"data row11 col3\" >1.0000</td>\n",
              "      <td id=\"T_2561c_row11_col4\" class=\"data row11 col4\" >0.9957</td>\n",
              "    </tr>\n",
              "    <tr>\n",
              "      <th id=\"T_2561c_level0_row12\" class=\"row_heading level0 row12\" >12</th>\n",
              "      <td id=\"T_2561c_row12_col0\" class=\"data row12 col0\" >0.0000</td>\n",
              "      <td id=\"T_2561c_row12_col1\" class=\"data row12 col1\" >0.9750</td>\n",
              "      <td id=\"T_2561c_row12_col2\" class=\"data row12 col2\" >1.0000</td>\n",
              "      <td id=\"T_2561c_row12_col3\" class=\"data row12 col3\" >1.0000</td>\n",
              "      <td id=\"T_2561c_row12_col4\" class=\"data row12 col4\" >1.0000</td>\n",
              "    </tr>\n",
              "    <tr>\n",
              "      <th id=\"T_2561c_level0_row13\" class=\"row_heading level0 row13\" >13</th>\n",
              "      <td id=\"T_2561c_row13_col0\" class=\"data row13 col0\" >0.8311</td>\n",
              "      <td id=\"T_2561c_row13_col1\" class=\"data row13 col1\" >0.9669</td>\n",
              "      <td id=\"T_2561c_row13_col2\" class=\"data row13 col2\" >0.7972</td>\n",
              "      <td id=\"T_2561c_row13_col3\" class=\"data row13 col3\" >1.0000</td>\n",
              "      <td id=\"T_2561c_row13_col4\" class=\"data row13 col4\" >1.0000</td>\n",
              "    </tr>\n",
              "    <tr>\n",
              "      <th id=\"T_2561c_level0_row14\" class=\"row_heading level0 row14\" >14</th>\n",
              "      <td id=\"T_2561c_row14_col0\" class=\"data row14 col0\" >0.4493</td>\n",
              "      <td id=\"T_2561c_row14_col1\" class=\"data row14 col1\" >0.8642</td>\n",
              "      <td id=\"T_2561c_row14_col2\" class=\"data row14 col2\" >0.8244</td>\n",
              "      <td id=\"T_2561c_row14_col3\" class=\"data row14 col3\" >1.0000</td>\n",
              "      <td id=\"T_2561c_row14_col4\" class=\"data row14 col4\" >1.0000</td>\n",
              "    </tr>\n",
              "    <tr>\n",
              "      <th id=\"T_2561c_level0_row15\" class=\"row_heading level0 row15\" >15</th>\n",
              "      <td id=\"T_2561c_row15_col0\" class=\"data row15 col0\" >0.5517</td>\n",
              "      <td id=\"T_2561c_row15_col1\" class=\"data row15 col1\" >0.8889</td>\n",
              "      <td id=\"T_2561c_row15_col2\" class=\"data row15 col2\" >0.9730</td>\n",
              "      <td id=\"T_2561c_row15_col3\" class=\"data row15 col3\" >1.0000</td>\n",
              "      <td id=\"T_2561c_row15_col4\" class=\"data row15 col4\" >0.9744</td>\n",
              "    </tr>\n",
              "    <tr>\n",
              "      <th id=\"T_2561c_level0_row16\" class=\"row_heading level0 row16\" >──────────</th>\n",
              "      <td id=\"T_2561c_row16_col0\" class=\"data row16 col0\" ></td>\n",
              "      <td id=\"T_2561c_row16_col1\" class=\"data row16 col1\" ></td>\n",
              "      <td id=\"T_2561c_row16_col2\" class=\"data row16 col2\" ></td>\n",
              "      <td id=\"T_2561c_row16_col3\" class=\"data row16 col3\" ></td>\n",
              "      <td id=\"T_2561c_row16_col4\" class=\"data row16 col4\" ></td>\n",
              "    </tr>\n",
              "    <tr>\n",
              "      <th id=\"T_2561c_level0_row17\" class=\"row_heading level0 row17\" >OA</th>\n",
              "      <td id=\"T_2561c_row17_col0\" class=\"data row17 col0\" >64.8800</td>\n",
              "      <td id=\"T_2561c_row17_col1\" class=\"data row17 col1\" >80.0500</td>\n",
              "      <td id=\"T_2561c_row17_col2\" class=\"data row17 col2\" >92.7800</td>\n",
              "      <td id=\"T_2561c_row17_col3\" class=\"data row17 col3\" >100.0000</td>\n",
              "      <td id=\"T_2561c_row17_col4\" class=\"data row17 col4\" >99.9500</td>\n",
              "    </tr>\n",
              "    <tr>\n",
              "      <th id=\"T_2561c_level0_row18\" class=\"row_heading level0 row18\" >AA</th>\n",
              "      <td id=\"T_2561c_row18_col0\" class=\"data row18 col0\" >43.3400</td>\n",
              "      <td id=\"T_2561c_row18_col1\" class=\"data row18 col1\" >84.9900</td>\n",
              "      <td id=\"T_2561c_row18_col2\" class=\"data row18 col2\" >94.0700</td>\n",
              "      <td id=\"T_2561c_row18_col3\" class=\"data row18 col3\" >100.0000</td>\n",
              "      <td id=\"T_2561c_row18_col4\" class=\"data row18 col4\" >99.9500</td>\n",
              "    </tr>\n",
              "    <tr>\n",
              "      <th id=\"T_2561c_level0_row19\" class=\"row_heading level0 row19\" >Kappa</th>\n",
              "      <td id=\"T_2561c_row19_col0\" class=\"data row19 col0\" >59.1800</td>\n",
              "      <td id=\"T_2561c_row19_col1\" class=\"data row19 col1\" >77.2300</td>\n",
              "      <td id=\"T_2561c_row19_col2\" class=\"data row19 col2\" >91.7800</td>\n",
              "      <td id=\"T_2561c_row19_col3\" class=\"data row19 col3\" >100.0000</td>\n",
              "      <td id=\"T_2561c_row19_col4\" class=\"data row19 col4\" >99.9400</td>\n",
              "    </tr>\n",
              "  </tbody>\n",
              "</table>\n"
            ]
          },
          "metadata": {}
        }
      ],
      "source": [
        "# Reorder columns to keep 'Proposed' at the end\n",
        "model_names = [name for name in results if name != 'Proposed'] + ['Proposed']\n",
        "num_classes = len(results[model_names[0]]['F1_per_class'])\n",
        "\n",
        "# Create DataFrame for F1 scores\n",
        "f1_df = pd.DataFrame(index=[str(i) for i in range(num_classes)], columns=model_names)\n",
        "for model in model_names:\n",
        "    f1_df[model] = results[model]['F1_per_class']\n",
        "\n",
        "f1_df.index.name = \"Class\"\n",
        "\n",
        "# Add separator and metrics (scaled to percentage)\n",
        "f1_df.loc['──────────'] = ['' for _ in model_names]\n",
        "for metric in ['OA', 'AA', 'Kappa']:\n",
        "    f1_df.loc[metric] = [results[model][metric] * 100 for model in model_names]\n",
        "\n",
        "# Convert to 4 decimal places only for float entries\n",
        "def format_cell(x):\n",
        "    return f\"{x:.4f}\" if isinstance(x, float) else x\n",
        "\n",
        "styled_df = f1_df.style.format(format_cell)\n",
        "\n",
        "# Bold the maximum in each row (only for numeric rows)\n",
        "def bold_max(row):\n",
        "    try:\n",
        "        numeric_vals = [float(v) for v in row if isinstance(v, (float, int, str)) and v != '']\n",
        "        max_val = max(numeric_vals)\n",
        "        return ['font-weight: bold' if v == max_val else '' for v in numeric_vals + [''] * (len(row) - len(numeric_vals))]\n",
        "    except:\n",
        "        return ['' for _ in row]\n",
        "\n",
        "styled_df = styled_df.apply(bold_max, axis=1)\n",
        "\n",
        "# Display styled DataFrame\n",
        "display(styled_df)\n"
      ]
    },
    {
      "cell_type": "code",
      "execution_count": 52,
      "metadata": {
        "id": "CYb9Ps1OK1On",
        "colab": {
          "base_uri": "https://localhost:8080/",
          "height": 712
        },
        "outputId": "baff9e0d-6432-40f7-fd88-b0aebc9d8acd"
      },
      "outputs": [
        {
          "output_type": "stream",
          "name": "stdout",
          "text": [
            "✅ Saved: f1_per_cls.png\n"
          ]
        },
        {
          "output_type": "display_data",
          "data": {
            "text/plain": [
              "<Figure size 1000x800 with 1 Axes>"
            ],
            "image/png": "[encoded data removed]"
          },
          "metadata": {}
        }
      ],
      "source": [
        "import numpy as np\n",
        "import matplotlib.pyplot as plt\n",
        "from matplotlib import cm\n",
        "import matplotlib.colors as mcolors\n",
        "\n",
        "# Model info\n",
        "models = list(results.keys())\n",
        "num_models = len(models)\n",
        "num_classes = len(results[models[0]]['F1_per_class'])\n",
        "\n",
        "# Grid setup\n",
        "_x = np.arange(num_classes)  # 0 to 15 (classes)\n",
        "_y = np.arange(num_models)   # 0 to num_models-1\n",
        "_xx, _yy = np.meshgrid(_x, _y)\n",
        "x, y = _xx.ravel(), _yy.ravel()\n",
        "\n",
        "# Flatten F1 scores\n",
        "z = []\n",
        "for model in models:\n",
        "    z.extend(results[model]['F1_per_class'])\n",
        "z = np.array(z)\n",
        "\n",
        "# Assign a distinct color per model\n",
        "color_list = list(cm.get_cmap('tab10').colors) + list(cm.get_cmap('tab20').colors)\n",
        "model_colors = [color_list[i % len(color_list)] for i in range(num_models)]\n",
        "bar_colors = [model_colors[model_idx] for model_idx in y]\n",
        "\n",
        "# Bar dimensions\n",
        "bottom = np.zeros_like(z)\n",
        "width = depth = 0.6\n",
        "\n",
        "# Plot\n",
        "fig = plt.figure(figsize=(10, 8))\n",
        "ax = fig.add_subplot(111, projection='3d')\n",
        "ax.bar3d(x, y, bottom, width, depth, z, shade=True, color=bar_colors)\n",
        "\n",
        "# Labels and ticks\n",
        "ax.set_xlabel('Class', labelpad=10)\n",
        "ax.set_ylabel('Model', labelpad=10)\n",
        "ax.set_zlabel('F1 Score', labelpad=10)\n",
        "ax.set_xticks(_x)\n",
        "ax.set_yticks(_y)\n",
        "ax.set_yticklabels(models)\n",
        "ax.set_title('Per-Class F1 Scores by Model', fontsize=14, pad=20)\n",
        "\n",
        "# Custom legend\n",
        "from matplotlib.patches import Patch\n",
        "legend_patches = [Patch(facecolor=model_colors[i], label=models[i]) for i in range(num_models)]\n",
        "ax.legend(handles=legend_patches, loc='upper left', bbox_to_anchor=(1.02, 1))\n",
        "\n",
        "plt.tight_layout()\n",
        "# ✅ Save the figure\n",
        "filename = f\"f1_per_cls.png\"\n",
        "plt.savefig(filename, dpi=300)\n",
        "print(f\"✅ Saved: {filename}\")\n",
        "plt.show()\n"
      ]
    },
    {
      "cell_type": "code",
      "execution_count": 53,
      "metadata": {
        "id": "8ABhiw-JK1On",
        "colab": {
          "base_uri": "https://localhost:8080/",
          "height": 525
        },
        "outputId": "84b59783-6d9a-400a-a13a-770d21973828"
      },
      "outputs": [
        {
          "output_type": "stream",
          "name": "stdout",
          "text": [
            "✅ Saved: Model Performance Metrics.png\n"
          ]
        },
        {
          "output_type": "display_data",
          "data": {
            "text/plain": [
              "<Figure size 1800x1000 with 6 Axes>"
            ],
            "image/png": "[encoded data removed]"
          },
          "metadata": {}
        }
      ],
      "source": [
        "import matplotlib.pyplot as plt\n",
        "\n",
        "# Models and metrics\n",
        "models = list(results.keys())\n",
        "metrics_to_plot = [\"OA\", \"AA\", \"Kappa\", \"Precision\", \"Recall\", \"F1\"]\n",
        "\n",
        "# Prepare data\n",
        "metric_data = {metric: [results[model][metric] for model in models] for metric in metrics_to_plot}\n",
        "\n",
        "# Plot each metric in a separate subplot\n",
        "fig, axes = plt.subplots(2, 3, figsize=(18, 10))  # 2 rows, 3 columns\n",
        "axes = axes.flatten()\n",
        "\n",
        "for idx, metric in enumerate(metrics_to_plot):\n",
        "    ax = axes[idx]\n",
        "    ax.plot(models, metric_data[metric], marker='o', color='tab:blue')\n",
        "    ax.set_title(metric, fontsize=14)\n",
        "    ax.set_xlabel('Model')\n",
        "    ax.set_ylabel('Score')\n",
        "    ax.set_ylim(0, 1.05)\n",
        "    ax.grid(True, linestyle='--', alpha=0.6)\n",
        "    ax.tick_params(axis='x', rotation=30)\n",
        "\n",
        "plt.suptitle(\"Model Performance Metrics\", fontsize=16, fontweight='bold')\n",
        "plt.tight_layout(rect=[0, 0, 1, 0.96])\n",
        "# ✅ Save the figure\n",
        "filename = f\"Model Performance Metrics.png\"\n",
        "plt.savefig(filename, dpi=300)\n",
        "print(f\"✅ Saved: {filename}\")\n",
        "plt.show()"
      ]
    },
    {
      "cell_type": "code",
      "execution_count": 54,
      "metadata": {
        "id": "QT6uR1J3K1On",
        "colab": {
          "base_uri": "https://localhost:8080/",
          "height": 476
        },
        "outputId": "974cb1ba-8f55-45f8-d217-e96ad670fce1"
      },
      "outputs": [
        {
          "output_type": "stream",
          "name": "stdout",
          "text": [
            "✅ Saved: Comparison of Model Performance Metrics.png\n"
          ]
        },
        {
          "output_type": "display_data",
          "data": {
            "text/plain": [
              "<Figure size 1200x600 with 1 Axes>"
            ],
            "image/png": "[encoded data removed]"
          },
          "metadata": {}
        }
      ],
      "source": [
        "import matplotlib.pyplot as plt\n",
        "\n",
        "# Models and metrics to plot\n",
        "models = list(results.keys())\n",
        "metrics_to_plot = [\"OA\", \"AA\", \"Kappa\", \"Precision\", \"Recall\", \"F1\"]\n",
        "\n",
        "# Extract metric values\n",
        "metric_data = {metric: [results[model][metric] for model in models] for metric in metrics_to_plot}\n",
        "\n",
        "# Plot\n",
        "plt.figure(figsize=(12, 6))\n",
        "for metric, values in metric_data.items():\n",
        "    plt.plot(models, values, marker='o', label=metric)\n",
        "\n",
        "plt.title('Comparison of Model Performance Metrics', fontsize=14)\n",
        "plt.xlabel('Model')\n",
        "plt.ylabel('Score')\n",
        "plt.ylim(0, 1.05)\n",
        "plt.grid(True, linestyle='--', alpha=0.5)\n",
        "plt.legend()\n",
        "plt.xticks(rotation=30)\n",
        "plt.tight_layout()\n",
        "# ✅ Save the figure\n",
        "filename = f\"Comparison of Model Performance Metrics.png\"\n",
        "plt.savefig(filename, dpi=300)\n",
        "print(f\"✅ Saved: {filename}\")\n",
        "plt.show()"
      ]
    },
    {
      "cell_type": "code",
      "execution_count": null,
      "metadata": {
        "id": "RODKnl1oK1On"
      },
      "outputs": [],
      "source": []
    }
  ],
  "metadata": {
    "accelerator": "GPU",
    "colab": {
      "collapsed_sections": [
        "stMeIlinUzbr",
        "y39FtuuOK1OQ",
        "AGKV2KihK1Oa",
        "AwrPGIksK1Oa",
        "5TidZ4mGK1Ob",
        "G-vUF6mZK1Oc",
        "36FHAIQWK1Oe",
        "FCJ6yMrMK1Og",
        "_9kS6t2tK1Oh",
        "GJA2RRSaK1Ol",
        "EdLoPKMHK1Ol",
        "uZ7dUxpZK1Ol",
        "v8NZiAitK1Om",
        "92NVUu69K1Om",
        "X9MCbPV7K1Om",
        "fCoiAqBBK1Om"
      ],
      "gpuType": "T4",
      "provenance": []
    },
    "kaggle": {
      "accelerator": "none",
      "dataSources": [
        {
          "datasetId": 4221054,
          "sourceId": 7280095,
          "sourceType": "datasetVersion"
        }
      ],
      "isGpuEnabled": false,
      "isInternetEnabled": true,
      "language": "python",
      "sourceType": "notebook"
    },
    "kernelspec": {
      "display_name": "Python 3",
      "name": "python3"
    },
    "language_info": {
      "codemirror_mode": {
        "name": "ipython",
        "version": 3
      },
      "file_extension": ".py",
      "mimetype": "text/x-python",
      "name": "python",
      "nbconvert_exporter": "python",
      "pygments_lexer": "ipython3",
      "version": "3.11.13"
    }
  },
  "nbformat": 4,
  "nbformat_minor": 0
}